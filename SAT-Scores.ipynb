{
 "cells": [
  {
   "cell_type": "markdown",
   "metadata": {},
   "source": [
    "# Exploring SAT Scores vs. Income, Crime, and Race with Linear Regression"
   ]
  },
  {
   "cell_type": "markdown",
   "metadata": {},
   "source": [
    "To explore different factors affecting standardizd test scores, test scores and other data was collected from 372 schools in the New York City public school system. Variables analyzed included average SAT scores (including the three subtests), student demographics like race, ethnicity, and gender, class size, and crime rates. As expected from most current research, income level proved to be the strongest predictor for SAT test scores for all SAT sections. However, after adjusting for income, factors such as race and local crime rates still showed statistically significant negative correlations with test scores, suggesting that other background factors could still be playing a role in the academic success of some students that can't be explained by income alone.\n",
    "\n",
    "All data for this analysis comes from the New York City Open Data initiative, a dataset released by the NYC government containing hundreds of datasets on education in the NYC public school system. The dependent variable came from the dataset \"2012 SAT Results\", which was sourced directly from College Board and contains school-wide test scores for each subject category as well as the number of SAT test takers as a percentage of total students. The \"2012 SAT Results\" were reported directly from College Board and includes the average scores per school for all college-bound seniors in New York City public schools. Information is collected from the SAT Questionaire filled out by students prior to taking the test. Students who do not identify as graduating next year are not counted in the dataset. Students are then linked with their high school based on a mandatory but self-reported part of test registration. The self-reported nature of this collection process might be the cause of some bias, although it would be generally disadvantageous for a student to report the incorrect school.\n",
    "\n",
    "This dataset can be found here:\n",
    "https://data.cityofnewyork.us/Education/2012-SAT-Results/f9bf-2cp4\n",
    "\n",
    "We will import the dataset and create a \"SAT Total Score\" column. Note that we are also removing all rows with \"s\", which represents schools with too low sample size."
   ]
  },
  {
   "cell_type": "code",
   "execution_count": 95,
   "metadata": {},
   "outputs": [
    {
     "data": {
      "text/plain": [
       "      DBN     \n",
       " 01M292 :  1  \n",
       " 01M448 :  1  \n",
       " 01M450 :  1  \n",
       " 01M458 :  1  \n",
       " 01M509 :  1  \n",
       " 01M515 :  1  \n",
       " (Other):415  \n",
       "                                                                         SCHOOL.NAME \n",
       " 47 THE AMERICAN SIGN LANGUAGE AND ENGLISH SECONDARY SCHOOL                    :  1  \n",
       " ABRAHAM LINCOLN HIGH SCHOOL                                                   :  1  \n",
       " ACADEMY FOR CAREERS IN TELEVISION AND FILM                                    :  1  \n",
       " ACADEMY FOR COLLEGE PREPARATION AND CAREER EXPLORATION: A COLLEGE BOARD SCHOOL:  1  \n",
       " ACADEMY FOR CONSERVATION AND THE ENVIRONMENT                                  :  1  \n",
       " ACADEMY FOR ENVIRONMENTAL LEADERSHIP                                          :  1  \n",
       " (Other)                                                                       :415  \n",
       " Num.of.SAT.Test.Takers SAT.Critical.Reading.Avg..Score SAT.Math.Avg..Score\n",
       " Min.   :   6.0         Min.   :279.0                   Min.   :312.0      \n",
       " 1st Qu.:  41.0         1st Qu.:368.0                   1st Qu.:371.0      \n",
       " Median :  62.0         Median :391.0                   Median :395.0      \n",
       " Mean   : 110.3         Mean   :400.9                   Mean   :413.4      \n",
       " 3rd Qu.:  95.0         3rd Qu.:416.0                   3rd Qu.:437.0      \n",
       " Max.   :1277.0         Max.   :679.0                   Max.   :735.0      \n",
       "                                                                           \n",
       " SAT.Writing.Avg..Score   SAT.Total   \n",
       " Min.   :286            Min.   : 887  \n",
       " 1st Qu.:360            1st Qu.:1102  \n",
       " Median :381            Median :1169  \n",
       " Mean   :394            Mean   :1208  \n",
       " 3rd Qu.:411            3rd Qu.:1257  \n",
       " Max.   :682            Max.   :2096  \n",
       "                                      "
      ]
     },
     "metadata": {},
     "output_type": "display_data"
    }
   ],
   "source": [
    "sat <- read.csv(\"2012_SAT_Results.csv\")\n",
    "sat <- sat[sat$Num.of.SAT.Test.Takers != 's',]\n",
    "sat[,3:6] <- as.numeric((as.matrix(sat[,3:6])))\n",
    "sat$SAT.Total <- sat$SAT.Critical.Reading.Avg..Score + sat$SAT.Math.Avg..Score + sat$SAT.Writing.Avg..Score\n",
    "summary(sat)"
   ]
  },
  {
   "cell_type": "markdown",
   "metadata": {},
   "source": [
    "# Merging the 4 Datasets"
   ]
  },
  {
   "cell_type": "markdown",
   "metadata": {},
   "source": [
    "We have three tables of independent variables that we want to merge. First is the \"2006-2012 School Demographics and Accountability Snapshot\". This contains all demographic reports and enrollment information mandatorily reported yearly by each school, including information on race, ethnicity, gender, enrollment by grade, and percentages of students on free or reduced lunch (FRL). All data will need to be filtered to only include the appropriate grade. The most significant variables ended up being the racial and ethnic backgrounds as well as FRL percentage. FRL serves as the closest possible proxy for income. Inclusion in free or reduced lunch programs are determined directly by using income compared to local poverty lines. Some information is lost from the use of binary categorization. One, we cannot see the distribution of incomes beyond the cut-off point, which may produce misleading numbers for some schools that, for example, could have a large split of low-income and high-income students, common for some charter or specialty school programs which may bus low-income students from different parts of the city. There may also be misleading results if there is clustering close above or close below the poverty cut-off line. Nonetheless, this is likely the closest possible proxy to income available in public datasets, and also has the advantage of FRL programs being standardized by family size. \n",
    "\n",
    "This dataset can be found here: https://data.cityofnewyork.us/Education/2006-2012-School-Demographics-and-Accountability-S/ihfw-zy9j\n",
    "\n",
    "We are going to import the data. We will also first filter the dataset by school year to obtain only seniors."
   ]
  },
  {
   "cell_type": "code",
   "execution_count": 96,
   "metadata": {},
   "outputs": [
    {
     "data": {
      "text/html": [
       "<table>\n",
       "<thead><tr><th></th><th scope=col>DBN</th><th scope=col>Name</th><th scope=col>schoolyear</th><th scope=col>fl_percent</th><th scope=col>frl_percent</th><th scope=col>total_enrollment</th><th scope=col>prek</th><th scope=col>k</th><th scope=col>grade1</th><th scope=col>grade2</th><th scope=col>⋯</th><th scope=col>black_num</th><th scope=col>black_per</th><th scope=col>hispanic_num</th><th scope=col>hispanic_per</th><th scope=col>white_num</th><th scope=col>white_per</th><th scope=col>male_num</th><th scope=col>male_per</th><th scope=col>female_num</th><th scope=col>female_per</th></tr></thead>\n",
       "<tbody>\n",
       "\t<tr><th scope=row>7</th><td>01M015                                          </td><td>P.S. 015 ROBERTO CLEMENTE                       </td><td>20112012                                        </td><td>                                                </td><td>89.4                                            </td><td>189                                             </td><td>13                                              </td><td> 31                                             </td><td> 35                                             </td><td>28                                              </td><td>⋯                                               </td><td>63                                              </td><td>33.3                                            </td><td>109                                             </td><td>57.7                                            </td><td> 4                                              </td><td>2.1                                             </td><td> 97                                             </td><td>51.3                                            </td><td> 92                                             </td><td>48.7                                            </td></tr>\n",
       "\t<tr><th scope=row>14</th><td>01M019                                          </td><td>P.S. 019 ASHER LEVY                             </td><td>20112012                                        </td><td>                                                </td><td>61.5                                            </td><td>328                                             </td><td>32                                              </td><td> 46                                             </td><td> 52                                             </td><td>54                                              </td><td>⋯                                               </td><td>81                                              </td><td>24.7                                            </td><td>158                                             </td><td>48.2                                            </td><td>28                                              </td><td>8.5                                             </td><td>147                                             </td><td>44.8                                            </td><td>181                                             </td><td>55.2                                            </td></tr>\n",
       "\t<tr><th scope=row>21</th><td>01M020                                          </td><td>PS 020 ANNA SILVER                              </td><td>20112012                                        </td><td>                                                </td><td>92.5                                            </td><td>626                                             </td><td>52                                              </td><td>102                                             </td><td>121                                             </td><td>87                                              </td><td>⋯                                               </td><td>55                                              </td><td> 8.8                                            </td><td>357                                             </td><td>57.0                                            </td><td>16                                              </td><td>2.6                                             </td><td>330                                             </td><td>52.7                                            </td><td>296                                             </td><td>47.3                                            </td></tr>\n",
       "\t<tr><th scope=row>28</th><td>01M034                                          </td><td>PS 034 FRANKLIN D ROOSEVELT                     </td><td>20112012                                        </td><td>                                                </td><td>99.7                                            </td><td>401                                             </td><td>14                                              </td><td> 34                                             </td><td> 38                                             </td><td>36                                              </td><td>⋯                                               </td><td>90                                              </td><td>22.4                                            </td><td>275                                             </td><td>68.6                                            </td><td> 8                                              </td><td>2.0                                             </td><td>204                                             </td><td>50.9                                            </td><td>197                                             </td><td>49.1                                            </td></tr>\n",
       "\t<tr><th scope=row>36</th><td>01M063                                          </td><td>PS 063 WILLIAM MCKINLEY                         </td><td>20112012                                        </td><td>                                                </td><td>78.9                                            </td><td>176                                             </td><td>18                                              </td><td> 20                                             </td><td> 30                                             </td><td>21                                              </td><td>⋯                                               </td><td>41                                              </td><td>23.3                                            </td><td>110                                             </td><td>62.5                                            </td><td>15                                              </td><td>8.5                                             </td><td> 97                                             </td><td>55.1                                            </td><td> 79                                             </td><td>44.9                                            </td></tr>\n",
       "\t<tr><th scope=row>43</th><td>01M064                                          </td><td>PS 064 ROBERT SIMON                             </td><td>20112012                                        </td><td>                                                </td><td>76.9                                            </td><td>324                                             </td><td>27                                              </td><td> 54                                             </td><td> 50                                             </td><td>42                                              </td><td>⋯                                               </td><td>76                                              </td><td>23.5                                            </td><td>193                                             </td><td>59.6                                            </td><td>24                                              </td><td>7.4                                             </td><td>184                                             </td><td>56.8                                            </td><td>140                                             </td><td>43.2                                            </td></tr>\n",
       "</tbody>\n",
       "</table>\n"
      ],
      "text/latex": [
       "\\begin{tabular}{r|llllllllllllllllllllllllllllllllllllll}\n",
       "  & DBN & Name & schoolyear & fl\\_percent & frl\\_percent & total\\_enrollment & prek & k & grade1 & grade2 & ⋯ & black\\_num & black\\_per & hispanic\\_num & hispanic\\_per & white\\_num & white\\_per & male\\_num & male\\_per & female\\_num & female\\_per\\\\\n",
       "\\hline\n",
       "\t7 & 01M015                                           & P.S. 015 ROBERTO CLEMENTE                        & 20112012                                         &                                                  & 89.4                                             & 189                                              & 13                                               &  31                                              &  35                                              & 28                                               & ⋯                                                & 63                                               & 33.3                                             & 109                                              & 57.7                                             &  4                                               & 2.1                                              &  97                                              & 51.3                                             &  92                                              & 48.7                                            \\\\\n",
       "\t14 & 01M019                                           & P.S. 019 ASHER LEVY                              & 20112012                                         &                                                  & 61.5                                             & 328                                              & 32                                               &  46                                              &  52                                              & 54                                               & ⋯                                                & 81                                               & 24.7                                             & 158                                              & 48.2                                             & 28                                               & 8.5                                              & 147                                              & 44.8                                             & 181                                              & 55.2                                            \\\\\n",
       "\t21 & 01M020                                           & PS 020 ANNA SILVER                               & 20112012                                         &                                                  & 92.5                                             & 626                                              & 52                                               & 102                                              & 121                                              & 87                                               & ⋯                                                & 55                                               &  8.8                                             & 357                                              & 57.0                                             & 16                                               & 2.6                                              & 330                                              & 52.7                                             & 296                                              & 47.3                                            \\\\\n",
       "\t28 & 01M034                                           & PS 034 FRANKLIN D ROOSEVELT                      & 20112012                                         &                                                  & 99.7                                             & 401                                              & 14                                               &  34                                              &  38                                              & 36                                               & ⋯                                                & 90                                               & 22.4                                             & 275                                              & 68.6                                             &  8                                               & 2.0                                              & 204                                              & 50.9                                             & 197                                              & 49.1                                            \\\\\n",
       "\t36 & 01M063                                           & PS 063 WILLIAM MCKINLEY                          & 20112012                                         &                                                  & 78.9                                             & 176                                              & 18                                               &  20                                              &  30                                              & 21                                               & ⋯                                                & 41                                               & 23.3                                             & 110                                              & 62.5                                             & 15                                               & 8.5                                              &  97                                              & 55.1                                             &  79                                              & 44.9                                            \\\\\n",
       "\t43 & 01M064                                           & PS 064 ROBERT SIMON                              & 20112012                                         &                                                  & 76.9                                             & 324                                              & 27                                               &  54                                              &  50                                              & 42                                               & ⋯                                                & 76                                               & 23.5                                             & 193                                              & 59.6                                             & 24                                               & 7.4                                              & 184                                              & 56.8                                             & 140                                              & 43.2                                            \\\\\n",
       "\\end{tabular}\n"
      ],
      "text/markdown": [
       "\n",
       "| <!--/--> | DBN | Name | schoolyear | fl_percent | frl_percent | total_enrollment | prek | k | grade1 | grade2 | ⋯ | black_num | black_per | hispanic_num | hispanic_per | white_num | white_per | male_num | male_per | female_num | female_per | \n",
       "|---|---|---|---|---|---|\n",
       "| 7 | 01M015                                           | P.S. 015 ROBERTO CLEMENTE                        | 20112012                                         |                                                  | 89.4                                             | 189                                              | 13                                               |  31                                              |  35                                              | 28                                               | ⋯                                                | 63                                               | 33.3                                             | 109                                              | 57.7                                             |  4                                               | 2.1                                              |  97                                              | 51.3                                             |  92                                              | 48.7                                             | \n",
       "| 14 | 01M019                                           | P.S. 019 ASHER LEVY                              | 20112012                                         |                                                  | 61.5                                             | 328                                              | 32                                               |  46                                              |  52                                              | 54                                               | ⋯                                                | 81                                               | 24.7                                             | 158                                              | 48.2                                             | 28                                               | 8.5                                              | 147                                              | 44.8                                             | 181                                              | 55.2                                             | \n",
       "| 21 | 01M020                                           | PS 020 ANNA SILVER                               | 20112012                                         |                                                  | 92.5                                             | 626                                              | 52                                               | 102                                              | 121                                              | 87                                               | ⋯                                                | 55                                               |  8.8                                             | 357                                              | 57.0                                             | 16                                               | 2.6                                              | 330                                              | 52.7                                             | 296                                              | 47.3                                             | \n",
       "| 28 | 01M034                                           | PS 034 FRANKLIN D ROOSEVELT                      | 20112012                                         |                                                  | 99.7                                             | 401                                              | 14                                               |  34                                              |  38                                              | 36                                               | ⋯                                                | 90                                               | 22.4                                             | 275                                              | 68.6                                             |  8                                               | 2.0                                              | 204                                              | 50.9                                             | 197                                              | 49.1                                             | \n",
       "| 36 | 01M063                                           | PS 063 WILLIAM MCKINLEY                          | 20112012                                         |                                                  | 78.9                                             | 176                                              | 18                                               |  20                                              |  30                                              | 21                                               | ⋯                                                | 41                                               | 23.3                                             | 110                                              | 62.5                                             | 15                                               | 8.5                                              |  97                                              | 55.1                                             |  79                                              | 44.9                                             | \n",
       "| 43 | 01M064                                           | PS 064 ROBERT SIMON                              | 20112012                                         |                                                  | 76.9                                             | 324                                              | 27                                               |  54                                              |  50                                              | 42                                               | ⋯                                                | 76                                               | 23.5                                             | 193                                              | 59.6                                             | 24                                               | 7.4                                              | 184                                              | 56.8                                             | 140                                              | 43.2                                             | \n",
       "\n",
       "\n"
      ],
      "text/plain": [
       "   DBN    Name                                             schoolyear\n",
       "7  01M015 P.S. 015 ROBERTO CLEMENTE                        20112012  \n",
       "14 01M019 P.S. 019 ASHER LEVY                              20112012  \n",
       "21 01M020 PS 020 ANNA SILVER                               20112012  \n",
       "28 01M034 PS 034 FRANKLIN D ROOSEVELT                      20112012  \n",
       "36 01M063 PS 063 WILLIAM MCKINLEY                          20112012  \n",
       "43 01M064 PS 064 ROBERT SIMON                              20112012  \n",
       "   fl_percent frl_percent total_enrollment prek k   grade1 grade2 ⋯ black_num\n",
       "7             89.4        189              13    31  35    28     ⋯ 63       \n",
       "14            61.5        328              32    46  52    54     ⋯ 81       \n",
       "21            92.5        626              52   102 121    87     ⋯ 55       \n",
       "28            99.7        401              14    34  38    36     ⋯ 90       \n",
       "36            78.9        176              18    20  30    21     ⋯ 41       \n",
       "43            76.9        324              27    54  50    42     ⋯ 76       \n",
       "   black_per hispanic_num hispanic_per white_num white_per male_num male_per\n",
       "7  33.3      109          57.7          4        2.1        97      51.3    \n",
       "14 24.7      158          48.2         28        8.5       147      44.8    \n",
       "21  8.8      357          57.0         16        2.6       330      52.7    \n",
       "28 22.4      275          68.6          8        2.0       204      50.9    \n",
       "36 23.3      110          62.5         15        8.5        97      55.1    \n",
       "43 23.5      193          59.6         24        7.4       184      56.8    \n",
       "   female_num female_per\n",
       "7   92        48.7      \n",
       "14 181        55.2      \n",
       "21 296        47.3      \n",
       "28 197        49.1      \n",
       "36  79        44.9      \n",
       "43 140        43.2      "
      ]
     },
     "metadata": {},
     "output_type": "display_data"
    }
   ],
   "source": [
    "demo <- read.csv(\"2006_-_2012_School_Demographics_and_Accountability_Snapshot.csv\")\n",
    "demo <- demo[demo$schoolyear==20112012,]\n",
    "head(demo)"
   ]
  },
  {
   "cell_type": "markdown",
   "metadata": {},
   "source": [
    "Since each row on both of the two tables has an identical \"DBN\" column, we can use these to link all the information from both tables into one table using a left outer join. "
   ]
  },
  {
   "cell_type": "code",
   "execution_count": 97,
   "metadata": {},
   "outputs": [
    {
     "data": {
      "text/html": [
       "<table>\n",
       "<thead><tr><th scope=col>DBN</th><th scope=col>SCHOOL.NAME</th><th scope=col>Num.of.SAT.Test.Takers</th><th scope=col>SAT.Critical.Reading.Avg..Score</th><th scope=col>SAT.Math.Avg..Score</th><th scope=col>SAT.Writing.Avg..Score</th><th scope=col>SAT.Total</th><th scope=col>frl_percent</th><th scope=col>total_enrollment</th><th scope=col>grade12</th><th scope=col>asian_per</th><th scope=col>black_per</th><th scope=col>hispanic_per</th><th scope=col>white_per</th><th scope=col>male_per</th><th scope=col>Percent.SAT.Taken</th></tr></thead>\n",
       "<tbody>\n",
       "\t<tr><td>01M292                                       </td><td>HENRY STREET SCHOOL FOR INTERNATIONAL STUDIES</td><td> 29                                          </td><td>355                                          </td><td>404                                          </td><td>363                                          </td><td>1122                                         </td><td>88.6                                         </td><td>422                                          </td><td>50                                           </td><td>14.0                                         </td><td>29.1                                         </td><td>53.8                                         </td><td> 1.7                                         </td><td>61.4                                         </td><td>0.5800000                                    </td></tr>\n",
       "\t<tr><td>01M448                                       </td><td>UNIVERSITY NEIGHBORHOOD HIGH SCHOOL          </td><td> 91                                          </td><td>383                                          </td><td>423                                          </td><td>366                                          </td><td>1172                                         </td><td>71.8                                         </td><td>394                                          </td><td>95                                           </td><td>29.2                                         </td><td>22.6                                         </td><td>45.9                                         </td><td> 2.3                                         </td><td>57.4                                         </td><td>0.9578947                                    </td></tr>\n",
       "\t<tr><td>01M450                                       </td><td>EAST SIDE COMMUNITY SCHOOL                   </td><td> 70                                          </td><td>377                                          </td><td>402                                          </td><td>370                                          </td><td>1149                                         </td><td>71.8                                         </td><td>598                                          </td><td>86                                           </td><td> 9.7                                         </td><td>23.9                                         </td><td>55.4                                         </td><td>10.4                                         </td><td>54.7                                         </td><td>0.8139535                                    </td></tr>\n",
       "\t<tr><td>01M458                                       </td><td>FORSYTH SATELLITE ACADEMY                    </td><td>  7                                          </td><td>414                                          </td><td>401                                          </td><td>359                                          </td><td>1174                                         </td><td>72.8                                         </td><td>224                                          </td><td>NA                                           </td><td> 2.2                                         </td><td>34.4                                         </td><td>59.4                                         </td><td> 3.6                                         </td><td>43.3                                         </td><td>       NA                                    </td></tr>\n",
       "\t<tr><td>01M509                                       </td><td>MARTA VALLE HIGH SCHOOL                      </td><td> 44                                          </td><td>390                                          </td><td>433                                          </td><td>384                                          </td><td>1207                                         </td><td>80.7                                         </td><td>367                                          </td><td>73                                           </td><td> 9.3                                         </td><td>31.6                                         </td><td>56.9                                         </td><td> 1.6                                         </td><td>46.3                                         </td><td>0.6027397                                    </td></tr>\n",
       "\t<tr><td>01M515                                       </td><td>LOWER EAST SIDE PREPARATORY HIGH SCHOOL      </td><td>112                                          </td><td>332                                          </td><td>557                                          </td><td>316                                          </td><td>1205                                         </td><td>77.0                                         </td><td>562                                          </td><td>92                                           </td><td>84.7                                         </td><td> 5.2                                         </td><td> 8.9                                         </td><td> 0.9                                         </td><td>53.7                                         </td><td>1.2173913                                    </td></tr>\n",
       "</tbody>\n",
       "</table>\n"
      ],
      "text/latex": [
       "\\begin{tabular}{r|llllllllllllllll}\n",
       " DBN & SCHOOL.NAME & Num.of.SAT.Test.Takers & SAT.Critical.Reading.Avg..Score & SAT.Math.Avg..Score & SAT.Writing.Avg..Score & SAT.Total & frl\\_percent & total\\_enrollment & grade12 & asian\\_per & black\\_per & hispanic\\_per & white\\_per & male\\_per & Percent.SAT.Taken\\\\\n",
       "\\hline\n",
       "\t 01M292                                        & HENRY STREET SCHOOL FOR INTERNATIONAL STUDIES &  29                                           & 355                                           & 404                                           & 363                                           & 1122                                          & 88.6                                          & 422                                           & 50                                            & 14.0                                          & 29.1                                          & 53.8                                          &  1.7                                          & 61.4                                          & 0.5800000                                    \\\\\n",
       "\t 01M448                                        & UNIVERSITY NEIGHBORHOOD HIGH SCHOOL           &  91                                           & 383                                           & 423                                           & 366                                           & 1172                                          & 71.8                                          & 394                                           & 95                                            & 29.2                                          & 22.6                                          & 45.9                                          &  2.3                                          & 57.4                                          & 0.9578947                                    \\\\\n",
       "\t 01M450                                        & EAST SIDE COMMUNITY SCHOOL                    &  70                                           & 377                                           & 402                                           & 370                                           & 1149                                          & 71.8                                          & 598                                           & 86                                            &  9.7                                          & 23.9                                          & 55.4                                          & 10.4                                          & 54.7                                          & 0.8139535                                    \\\\\n",
       "\t 01M458                                        & FORSYTH SATELLITE ACADEMY                     &   7                                           & 414                                           & 401                                           & 359                                           & 1174                                          & 72.8                                          & 224                                           & NA                                            &  2.2                                          & 34.4                                          & 59.4                                          &  3.6                                          & 43.3                                          &        NA                                    \\\\\n",
       "\t 01M509                                        & MARTA VALLE HIGH SCHOOL                       &  44                                           & 390                                           & 433                                           & 384                                           & 1207                                          & 80.7                                          & 367                                           & 73                                            &  9.3                                          & 31.6                                          & 56.9                                          &  1.6                                          & 46.3                                          & 0.6027397                                    \\\\\n",
       "\t 01M515                                        & LOWER EAST SIDE PREPARATORY HIGH SCHOOL       & 112                                           & 332                                           & 557                                           & 316                                           & 1205                                          & 77.0                                          & 562                                           & 92                                            & 84.7                                          &  5.2                                          &  8.9                                          &  0.9                                          & 53.7                                          & 1.2173913                                    \\\\\n",
       "\\end{tabular}\n"
      ],
      "text/markdown": [
       "\n",
       "DBN | SCHOOL.NAME | Num.of.SAT.Test.Takers | SAT.Critical.Reading.Avg..Score | SAT.Math.Avg..Score | SAT.Writing.Avg..Score | SAT.Total | frl_percent | total_enrollment | grade12 | asian_per | black_per | hispanic_per | white_per | male_per | Percent.SAT.Taken | \n",
       "|---|---|---|---|---|---|\n",
       "| 01M292                                        | HENRY STREET SCHOOL FOR INTERNATIONAL STUDIES |  29                                           | 355                                           | 404                                           | 363                                           | 1122                                          | 88.6                                          | 422                                           | 50                                            | 14.0                                          | 29.1                                          | 53.8                                          |  1.7                                          | 61.4                                          | 0.5800000                                     | \n",
       "| 01M448                                        | UNIVERSITY NEIGHBORHOOD HIGH SCHOOL           |  91                                           | 383                                           | 423                                           | 366                                           | 1172                                          | 71.8                                          | 394                                           | 95                                            | 29.2                                          | 22.6                                          | 45.9                                          |  2.3                                          | 57.4                                          | 0.9578947                                     | \n",
       "| 01M450                                        | EAST SIDE COMMUNITY SCHOOL                    |  70                                           | 377                                           | 402                                           | 370                                           | 1149                                          | 71.8                                          | 598                                           | 86                                            |  9.7                                          | 23.9                                          | 55.4                                          | 10.4                                          | 54.7                                          | 0.8139535                                     | \n",
       "| 01M458                                        | FORSYTH SATELLITE ACADEMY                     |   7                                           | 414                                           | 401                                           | 359                                           | 1174                                          | 72.8                                          | 224                                           | NA                                            |  2.2                                          | 34.4                                          | 59.4                                          |  3.6                                          | 43.3                                          |        NA                                     | \n",
       "| 01M509                                        | MARTA VALLE HIGH SCHOOL                       |  44                                           | 390                                           | 433                                           | 384                                           | 1207                                          | 80.7                                          | 367                                           | 73                                            |  9.3                                          | 31.6                                          | 56.9                                          |  1.6                                          | 46.3                                          | 0.6027397                                     | \n",
       "| 01M515                                        | LOWER EAST SIDE PREPARATORY HIGH SCHOOL       | 112                                           | 332                                           | 557                                           | 316                                           | 1205                                          | 77.0                                          | 562                                           | 92                                            | 84.7                                          |  5.2                                          |  8.9                                          |  0.9                                          | 53.7                                          | 1.2173913                                     | \n",
       "\n",
       "\n"
      ],
      "text/plain": [
       "  DBN    SCHOOL.NAME                                   Num.of.SAT.Test.Takers\n",
       "1 01M292 HENRY STREET SCHOOL FOR INTERNATIONAL STUDIES  29                   \n",
       "2 01M448 UNIVERSITY NEIGHBORHOOD HIGH SCHOOL            91                   \n",
       "3 01M450 EAST SIDE COMMUNITY SCHOOL                     70                   \n",
       "4 01M458 FORSYTH SATELLITE ACADEMY                       7                   \n",
       "5 01M509 MARTA VALLE HIGH SCHOOL                        44                   \n",
       "6 01M515 LOWER EAST SIDE PREPARATORY HIGH SCHOOL       112                   \n",
       "  SAT.Critical.Reading.Avg..Score SAT.Math.Avg..Score SAT.Writing.Avg..Score\n",
       "1 355                             404                 363                   \n",
       "2 383                             423                 366                   \n",
       "3 377                             402                 370                   \n",
       "4 414                             401                 359                   \n",
       "5 390                             433                 384                   \n",
       "6 332                             557                 316                   \n",
       "  SAT.Total frl_percent total_enrollment grade12 asian_per black_per\n",
       "1 1122      88.6        422              50      14.0      29.1     \n",
       "2 1172      71.8        394              95      29.2      22.6     \n",
       "3 1149      71.8        598              86       9.7      23.9     \n",
       "4 1174      72.8        224              NA       2.2      34.4     \n",
       "5 1207      80.7        367              73       9.3      31.6     \n",
       "6 1205      77.0        562              92      84.7       5.2     \n",
       "  hispanic_per white_per male_per Percent.SAT.Taken\n",
       "1 53.8          1.7      61.4     0.5800000        \n",
       "2 45.9          2.3      57.4     0.9578947        \n",
       "3 55.4         10.4      54.7     0.8139535        \n",
       "4 59.4          3.6      43.3            NA        \n",
       "5 56.9          1.6      46.3     0.6027397        \n",
       "6  8.9          0.9      53.7     1.2173913        "
      ]
     },
     "metadata": {},
     "output_type": "display_data"
    }
   ],
   "source": [
    "df <- merge(x = sat, y = demo, by = \"DBN\", all.x = TRUE)\n",
    "keep <- c(\"DBN\", \"SCHOOL.NAME\",  \"Num.of.SAT.Test.Takers\", \"SAT.Critical.Reading.Avg..Score\", \"SAT.Math.Avg..Score\",\n",
    "         \"SAT.Writing.Avg..Score\", \"SAT.Total\", \"frl_percent\", \"total_enrollment\", \"grade12\", \"asian_per\", \"black_per\", \"hispanic_per\",\n",
    "         \"white_per\", \"male_per\")\n",
    "df <- df[keep]\n",
    "df$Percent.SAT.Taken <- df$Num.of.SAT.Test.Takers / df$grade12\n",
    "head(df)"
   ]
  },
  {
   "cell_type": "markdown",
   "metadata": {},
   "source": [
    "The second dataset used was class size, which was sourced from the \"2011-2012 Class Size\" dataset and measures the number of students in each class. This data was then combined with the enrollment data from the previous dataset to obtain the average number of students per class."
   ]
  },
  {
   "cell_type": "code",
   "execution_count": 98,
   "metadata": {},
   "outputs": [],
   "source": [
    "classSize <- read.csv(\"2010-2011_Class_Size_-_School-level_detail.csv\")\n",
    "classSize <- classSize[classSize$GRADE == \"09-12\",]\n",
    "keep <- c(\"SCHOOL.CODE\", \"AVERAGE.CLASS.SIZE\")\n",
    "classSize <-na.omit(classSize[keep])\n",
    "\n",
    "classSizeAgg <- aggregate(classSize$AVERAGE.CLASS.SIZE, by=list(Code = classSize$SCHOOL.CODE), FUN=mean)\n",
    "names(classSizeAgg) <- c(\"DBN\", \"Average.Class.Size\")"
   ]
  },
  {
   "cell_type": "markdown",
   "metadata": {},
   "source": [
    "Now we just do the same join to the full table as we did with the first two tables. The only difference is it uses a shorter part of the DBN code."
   ]
  },
  {
   "cell_type": "code",
   "execution_count": 99,
   "metadata": {},
   "outputs": [],
   "source": [
    "df$DBN <- substring(df$DBN, 3)\n",
    "df <- merge(x = df, y = classSizeAgg, by = \"DBN\", all.x = TRUE)"
   ]
  },
  {
   "cell_type": "markdown",
   "metadata": {},
   "source": [
    "The last dataset used was for crime data and came from the \"2010-2016 School Safety Report\" was a dataset collected by the New York Police Department but contained counts of all criminal incidents by school as required by NY law since 1998. The school safety dataset contains the raw number of crimes for each category, as well as the average number of crimes from each category based on the building's size and population.\n",
    "\n",
    "The data for the school safety report is structured the most annoyingly. Instead of providing crime data for each school, crime data is instead provided per each building, since there may be multiple schools per building as well as multiple sites for one school. Schools from buildings in which they are the only school has the crime data on the same row as their DBN as normal. But buildings with multiple schools are called \"consolidated locations\". Schools from consolidated locations get null values on their row, and instead each consolidated locations gets its own row with their crime data. \n",
    "\n",
    "So essentially, we need to reformat this table so that we have crime data for each DBN. To do this, we need to extract the crime data from the consolidated locations, and then join them back into their DBNs using the Location Codes as the intersection."
   ]
  },
  {
   "cell_type": "code",
   "execution_count": 100,
   "metadata": {},
   "outputs": [],
   "source": [
    "safety <- read.csv(\"2010_-_2016_School_Safety_Report.csv\")\n",
    "safety <- safety[safety$School.Year==\"2015-16\",]\n",
    "keepTheseColumns <- c(\"DBN\", \"Building.Code\", \"Location.Code\", \"Major.N\", \"NoCrim.N\", \"Prop.N\", \"Vio.N\", \n",
    "                      \"AvgOfMajor.N\", \"AvgOfNoCrim.N\", \"AvgOfProp.N\", \"AvgOfVio.N\")\n",
    "safety <- na.omit ( safety[keepTheseColumns] )"
   ]
  },
  {
   "cell_type": "markdown",
   "metadata": {},
   "source": [
    "First step: grab the schools that are part of consolidated locations, as identified as having their crime stats listed as null:"
   ]
  },
  {
   "cell_type": "code",
   "execution_count": 101,
   "metadata": {},
   "outputs": [
    {
     "data": {
      "text/html": [
       "<table>\n",
       "<thead><tr><th></th><th scope=col>DBN</th><th scope=col>Building.Code</th><th scope=col>Location.Code</th></tr></thead>\n",
       "<tbody>\n",
       "\t<tr><th scope=row>5</th><td>75K141</td><td>K002  </td><td>K141  </td></tr>\n",
       "\t<tr><th scope=row>6</th><td>84K704</td><td>K002  </td><td>K704  </td></tr>\n",
       "\t<tr><th scope=row>7</th><td>17K002</td><td>K002  </td><td>K002  </td></tr>\n",
       "\t<tr><th scope=row>8</th><td>75XHOS</td><td>X953  </td><td>X402  </td></tr>\n",
       "\t<tr><th scope=row>15</th><td>75M401</td><td>X953  </td><td>M401  </td></tr>\n",
       "\t<tr><th scope=row>16</th><td>75KHOS</td><td>X953  </td><td>K403  </td></tr>\n",
       "</tbody>\n",
       "</table>\n"
      ],
      "text/latex": [
       "\\begin{tabular}{r|lll}\n",
       "  & DBN & Building.Code & Location.Code\\\\\n",
       "\\hline\n",
       "\t5 & 75K141 & K002   & K141  \\\\\n",
       "\t6 & 84K704 & K002   & K704  \\\\\n",
       "\t7 & 17K002 & K002   & K002  \\\\\n",
       "\t8 & 75XHOS & X953   & X402  \\\\\n",
       "\t15 & 75M401 & X953   & M401  \\\\\n",
       "\t16 & 75KHOS & X953   & K403  \\\\\n",
       "\\end{tabular}\n"
      ],
      "text/markdown": [
       "\n",
       "| <!--/--> | DBN | Building.Code | Location.Code | \n",
       "|---|---|---|---|---|---|\n",
       "| 5 | 75K141 | K002   | K141   | \n",
       "| 6 | 84K704 | K002   | K704   | \n",
       "| 7 | 17K002 | K002   | K002   | \n",
       "| 8 | 75XHOS | X953   | X402   | \n",
       "| 15 | 75M401 | X953   | M401   | \n",
       "| 16 | 75KHOS | X953   | K403   | \n",
       "\n",
       "\n"
      ],
      "text/plain": [
       "   DBN    Building.Code Location.Code\n",
       "5  75K141 K002          K141         \n",
       "6  84K704 K002          K704         \n",
       "7  17K002 K002          K002         \n",
       "8  75XHOS X953          X402         \n",
       "15 75M401 X953          M401         \n",
       "16 75KHOS X953          K403         "
      ]
     },
     "metadata": {},
     "output_type": "display_data"
    }
   ],
   "source": [
    "conSchools <- safety[safety$Major.N == \"N/A\",][,1:3]\n",
    "head(conSchools)"
   ]
  },
  {
   "cell_type": "markdown",
   "metadata": {},
   "source": [
    "Next step, grab the crime stats from the consolidated locations, as identified by a blank cell in the DBN or Location.Code columns, along with their building codes so that we can link them to the schools:"
   ]
  },
  {
   "cell_type": "code",
   "execution_count": 102,
   "metadata": {},
   "outputs": [
    {
     "data": {
      "text/html": [
       "<table>\n",
       "<thead><tr><th></th><th scope=col>Building.Code</th><th scope=col>Major.N</th><th scope=col>NoCrim.N</th><th scope=col>Prop.N</th><th scope=col>Vio.N</th><th scope=col>AvgOfMajor.N</th><th scope=col>AvgOfNoCrim.N</th><th scope=col>AvgOfProp.N</th><th scope=col>AvgOfVio.N</th></tr></thead>\n",
       "<tbody>\n",
       "\t<tr><th scope=row>4</th><td>K002</td><td>0   </td><td>1   </td><td>0   </td><td>1   </td><td>0.38</td><td>2.38</td><td>0.98</td><td>0.82</td></tr>\n",
       "\t<tr><th scope=row>19</th><td>X884</td><td>3   </td><td>16  </td><td>2   </td><td>8   </td><td>0.38</td><td>2.38</td><td>0.98</td><td>0.82</td></tr>\n",
       "\t<tr><th scope=row>30</th><td>X790</td><td>5   </td><td>42  </td><td>6   </td><td>6   </td><td>0.42</td><td>3.44</td><td>1.02</td><td>0.87</td></tr>\n",
       "\t<tr><th scope=row>35</th><td>X660</td><td>0   </td><td>14  </td><td>1   </td><td>4   </td><td>0.57</td><td>3.64</td><td>1.39</td><td>1.05</td></tr>\n",
       "\t<tr><th scope=row>42</th><td>X655</td><td>3   </td><td>1   </td><td>6   </td><td>3   </td><td>0.57</td><td>3.64</td><td>1.39</td><td>1.05</td></tr>\n",
       "\t<tr><th scope=row>46</th><td>X650</td><td>1   </td><td>7   </td><td>5   </td><td>5   </td><td>0.38</td><td>2.38</td><td>0.98</td><td>0.82</td></tr>\n",
       "</tbody>\n",
       "</table>\n"
      ],
      "text/latex": [
       "\\begin{tabular}{r|lllllllll}\n",
       "  & Building.Code & Major.N & NoCrim.N & Prop.N & Vio.N & AvgOfMajor.N & AvgOfNoCrim.N & AvgOfProp.N & AvgOfVio.N\\\\\n",
       "\\hline\n",
       "\t4 & K002 & 0    & 1    & 0    & 1    & 0.38 & 2.38 & 0.98 & 0.82\\\\\n",
       "\t19 & X884 & 3    & 16   & 2    & 8    & 0.38 & 2.38 & 0.98 & 0.82\\\\\n",
       "\t30 & X790 & 5    & 42   & 6    & 6    & 0.42 & 3.44 & 1.02 & 0.87\\\\\n",
       "\t35 & X660 & 0    & 14   & 1    & 4    & 0.57 & 3.64 & 1.39 & 1.05\\\\\n",
       "\t42 & X655 & 3    & 1    & 6    & 3    & 0.57 & 3.64 & 1.39 & 1.05\\\\\n",
       "\t46 & X650 & 1    & 7    & 5    & 5    & 0.38 & 2.38 & 0.98 & 0.82\\\\\n",
       "\\end{tabular}\n"
      ],
      "text/markdown": [
       "\n",
       "| <!--/--> | Building.Code | Major.N | NoCrim.N | Prop.N | Vio.N | AvgOfMajor.N | AvgOfNoCrim.N | AvgOfProp.N | AvgOfVio.N | \n",
       "|---|---|---|---|---|---|\n",
       "| 4 | K002 | 0    | 1    | 0    | 1    | 0.38 | 2.38 | 0.98 | 0.82 | \n",
       "| 19 | X884 | 3    | 16   | 2    | 8    | 0.38 | 2.38 | 0.98 | 0.82 | \n",
       "| 30 | X790 | 5    | 42   | 6    | 6    | 0.42 | 3.44 | 1.02 | 0.87 | \n",
       "| 35 | X660 | 0    | 14   | 1    | 4    | 0.57 | 3.64 | 1.39 | 1.05 | \n",
       "| 42 | X655 | 3    | 1    | 6    | 3    | 0.57 | 3.64 | 1.39 | 1.05 | \n",
       "| 46 | X650 | 1    | 7    | 5    | 5    | 0.38 | 2.38 | 0.98 | 0.82 | \n",
       "\n",
       "\n"
      ],
      "text/plain": [
       "   Building.Code Major.N NoCrim.N Prop.N Vio.N AvgOfMajor.N AvgOfNoCrim.N\n",
       "4  K002          0       1        0      1     0.38         2.38         \n",
       "19 X884          3       16       2      8     0.38         2.38         \n",
       "30 X790          5       42       6      6     0.42         3.44         \n",
       "35 X660          0       14       1      4     0.57         3.64         \n",
       "42 X655          3       1        6      3     0.57         3.64         \n",
       "46 X650          1       7        5      5     0.38         2.38         \n",
       "   AvgOfProp.N AvgOfVio.N\n",
       "4  0.98        0.82      \n",
       "19 0.98        0.82      \n",
       "30 1.02        0.87      \n",
       "35 1.39        1.05      \n",
       "42 1.39        1.05      \n",
       "46 0.98        0.82      "
      ]
     },
     "metadata": {},
     "output_type": "display_data"
    }
   ],
   "source": [
    "conLocation <- safety[safety$DBN == \"\",]\n",
    "keep <- c(\"Building.Code\", \"Major.N\", \"NoCrim.N\", \"Prop.N\", \"Vio.N\", \"AvgOfMajor.N\", \"AvgOfNoCrim.N\", \n",
    "          \"AvgOfProp.N\", \"AvgOfVio.N\")\n",
    "conLocation <- na.omit ( conLocation[keep] )\n",
    "head(conLocation)"
   ]
  },
  {
   "cell_type": "markdown",
   "metadata": {},
   "source": [
    "Finally, perform a left join using Building.Code as the keys to retrieve the crime stats for all the schools: "
   ]
  },
  {
   "cell_type": "code",
   "execution_count": 103,
   "metadata": {},
   "outputs": [
    {
     "data": {
      "text/html": [
       "<table>\n",
       "<thead><tr><th scope=col>Building.Code</th><th scope=col>DBN</th><th scope=col>Location.Code</th><th scope=col>Major.N</th><th scope=col>NoCrim.N</th><th scope=col>Prop.N</th><th scope=col>Vio.N</th><th scope=col>AvgOfMajor.N</th><th scope=col>AvgOfNoCrim.N</th><th scope=col>AvgOfProp.N</th><th scope=col>AvgOfVio.N</th></tr></thead>\n",
       "<tbody>\n",
       "\t<tr><td>K002  </td><td>84K704</td><td>K704  </td><td>0     </td><td>1     </td><td>0     </td><td>1     </td><td>0.38  </td><td>2.38  </td><td>0.98  </td><td>0.82  </td></tr>\n",
       "\t<tr><td>K002  </td><td>17K002</td><td>K002  </td><td>0     </td><td>1     </td><td>0     </td><td>1     </td><td>0.38  </td><td>2.38  </td><td>0.98  </td><td>0.82  </td></tr>\n",
       "\t<tr><td>K002  </td><td>75K141</td><td>K141  </td><td>0     </td><td>1     </td><td>0     </td><td>1     </td><td>0.38  </td><td>2.38  </td><td>0.98  </td><td>0.82  </td></tr>\n",
       "\t<tr><td>K009  </td><td>84K780</td><td>K780  </td><td>0     </td><td>1     </td><td>1     </td><td>0     </td><td>0.38  </td><td>2.38  </td><td>0.98  </td><td>0.82  </td></tr>\n",
       "\t<tr><td>K009  </td><td>13K009</td><td>K009  </td><td>0     </td><td>1     </td><td>1     </td><td>0     </td><td>0.38  </td><td>2.38  </td><td>0.98  </td><td>0.82  </td></tr>\n",
       "\t<tr><td>K012  </td><td>17K484</td><td>K484  </td><td>1     </td><td>1     </td><td>2     </td><td>2     </td><td>0.24  </td><td>1.71  </td><td>0.51  </td><td>0.32  </td></tr>\n",
       "</tbody>\n",
       "</table>\n"
      ],
      "text/latex": [
       "\\begin{tabular}{r|lllllllllll}\n",
       " Building.Code & DBN & Location.Code & Major.N & NoCrim.N & Prop.N & Vio.N & AvgOfMajor.N & AvgOfNoCrim.N & AvgOfProp.N & AvgOfVio.N\\\\\n",
       "\\hline\n",
       "\t K002   & 84K704 & K704   & 0      & 1      & 0      & 1      & 0.38   & 2.38   & 0.98   & 0.82  \\\\\n",
       "\t K002   & 17K002 & K002   & 0      & 1      & 0      & 1      & 0.38   & 2.38   & 0.98   & 0.82  \\\\\n",
       "\t K002   & 75K141 & K141   & 0      & 1      & 0      & 1      & 0.38   & 2.38   & 0.98   & 0.82  \\\\\n",
       "\t K009   & 84K780 & K780   & 0      & 1      & 1      & 0      & 0.38   & 2.38   & 0.98   & 0.82  \\\\\n",
       "\t K009   & 13K009 & K009   & 0      & 1      & 1      & 0      & 0.38   & 2.38   & 0.98   & 0.82  \\\\\n",
       "\t K012   & 17K484 & K484   & 1      & 1      & 2      & 2      & 0.24   & 1.71   & 0.51   & 0.32  \\\\\n",
       "\\end{tabular}\n"
      ],
      "text/markdown": [
       "\n",
       "Building.Code | DBN | Location.Code | Major.N | NoCrim.N | Prop.N | Vio.N | AvgOfMajor.N | AvgOfNoCrim.N | AvgOfProp.N | AvgOfVio.N | \n",
       "|---|---|---|---|---|---|\n",
       "| K002   | 84K704 | K704   | 0      | 1      | 0      | 1      | 0.38   | 2.38   | 0.98   | 0.82   | \n",
       "| K002   | 17K002 | K002   | 0      | 1      | 0      | 1      | 0.38   | 2.38   | 0.98   | 0.82   | \n",
       "| K002   | 75K141 | K141   | 0      | 1      | 0      | 1      | 0.38   | 2.38   | 0.98   | 0.82   | \n",
       "| K009   | 84K780 | K780   | 0      | 1      | 1      | 0      | 0.38   | 2.38   | 0.98   | 0.82   | \n",
       "| K009   | 13K009 | K009   | 0      | 1      | 1      | 0      | 0.38   | 2.38   | 0.98   | 0.82   | \n",
       "| K012   | 17K484 | K484   | 1      | 1      | 2      | 2      | 0.24   | 1.71   | 0.51   | 0.32   | \n",
       "\n",
       "\n"
      ],
      "text/plain": [
       "  Building.Code DBN    Location.Code Major.N NoCrim.N Prop.N Vio.N AvgOfMajor.N\n",
       "1 K002          84K704 K704          0       1        0      1     0.38        \n",
       "2 K002          17K002 K002          0       1        0      1     0.38        \n",
       "3 K002          75K141 K141          0       1        0      1     0.38        \n",
       "4 K009          84K780 K780          0       1        1      0     0.38        \n",
       "5 K009          13K009 K009          0       1        1      0     0.38        \n",
       "6 K012          17K484 K484          1       1        2      2     0.24        \n",
       "  AvgOfNoCrim.N AvgOfProp.N AvgOfVio.N\n",
       "1 2.38          0.98        0.82      \n",
       "2 2.38          0.98        0.82      \n",
       "3 2.38          0.98        0.82      \n",
       "4 2.38          0.98        0.82      \n",
       "5 2.38          0.98        0.82      \n",
       "6 1.71          0.51        0.32      "
      ]
     },
     "metadata": {},
     "output_type": "display_data"
    }
   ],
   "source": [
    "conSchoolWithStats <- merge(x = conSchools, y = conLocation, by = \"Building.Code\", all.x = TRUE)\n",
    "head(conSchoolWithStats)"
   ]
  },
  {
   "cell_type": "markdown",
   "metadata": {},
   "source": [
    "Now we just need to combine this table with the rest of the schools that aren't part of consolidated locations. We also will exclude all the rows with the consolidated location stats themselves since they do not represent schools. "
   ]
  },
  {
   "cell_type": "code",
   "execution_count": 104,
   "metadata": {},
   "outputs": [],
   "source": [
    "restOfSchools <- safety[safety$Major.N != \"N/A\" & safety$DBN != \"\",]\n",
    "safetyCleaned <- rbind(conSchoolWithStats, restOfSchools)\n",
    "safetyCleaned$DBN <- substring(safetyCleaned$DBN, 3)\n",
    "safetyCleaned[,4:11] <- as.numeric((as.matrix(safetyCleaned[,4:11])))"
   ]
  },
  {
   "cell_type": "code",
   "execution_count": 105,
   "metadata": {},
   "outputs": [],
   "source": [
    "safetyCleaned$All.N <- safetyCleaned$Major.N + safetyCleaned$NoCrim.N + safetyCleaned$Prop.N + safetyCleaned$Vio.N\n",
    "safetyCleaned$Major.N.Odds <- safetyCleaned$Major.N / safetyCleaned$AvgOfMajor.N\n",
    "safetyCleaned$NoCrim.N.Odds <- safetyCleaned$NoCrim.N / safetyCleaned$AvgOfNoCrim.N\n",
    "safetyCleaned$Prop.N.Odds <- safetyCleaned$Prop.N / safetyCleaned$AvgOfProp.N\n",
    "safetyCleaned$Vio.N.Odds <- safetyCleaned$Vio.N / safetyCleaned$AvgOfVio.N\n",
    "safetyCleaned$All.N.Odds <- safetyCleaned$Major.N.Odds + safetyCleaned$NoCrim.N.Odds + safetyCleaned$Prop.N.Odds + safetyCleaned$Vio.N.Odds\n",
    "keep <- c(\"DBN\", \"Major.N\", \"NoCrim.N\", \"Prop.N\", \"Vio.N\", \"All.N\", \"Major.N.Odds\", \"NoCrim.N.Odds\", \n",
    "          \"Prop.N.Odds\", \"Vio.N.Odds\", \"All.N.Odds\")\n",
    "safetyCleaned <- safetyCleaned[keep]"
   ]
  },
  {
   "cell_type": "code",
   "execution_count": 106,
   "metadata": {
    "scrolled": true
   },
   "outputs": [
    {
     "data": {
      "text/html": [
       "<table>\n",
       "<thead><tr><th></th><th scope=col>DBN</th><th scope=col>SCHOOL.NAME</th><th scope=col>Num.of.SAT.Test.Takers</th><th scope=col>SAT.Critical.Reading.Avg..Score</th><th scope=col>SAT.Math.Avg..Score</th><th scope=col>SAT.Writing.Avg..Score</th><th scope=col>SAT.Total</th><th scope=col>frl_percent</th><th scope=col>total_enrollment</th><th scope=col>grade12</th><th scope=col>⋯</th><th scope=col>Major.N</th><th scope=col>NoCrim.N</th><th scope=col>Prop.N</th><th scope=col>Vio.N</th><th scope=col>All.N</th><th scope=col>Major.N.Odds</th><th scope=col>NoCrim.N.Odds</th><th scope=col>Prop.N.Odds</th><th scope=col>Vio.N.Odds</th><th scope=col>All.N.Odds</th></tr></thead>\n",
       "<tbody>\n",
       "\t<tr><th scope=row>1</th><td>K071                                              </td><td>JUAN MOREL CAMPOS SECONDARY SCHOOL                </td><td>102                                               </td><td>365                                               </td><td>361                                               </td><td>359                                               </td><td>1085                                              </td><td>76.6                                              </td><td>865                                               </td><td>131                                               </td><td>⋯                                                 </td><td>1                                                 </td><td> 5                                                </td><td>3                                                 </td><td>3                                                 </td><td>12                                                </td><td>3.571429                                          </td><td>2.8735632                                         </td><td>4.000000                                          </td><td>5.660377                                          </td><td>16.105369                                         </td></tr>\n",
       "\t<tr><th scope=row>2</th><td>K265                                              </td><td>DR. SUSAN S. MCKINNEY SECONDARY SCHOOL OF THE ARTS</td><td> 29                                               </td><td>352                                               </td><td>349                                               </td><td>373                                               </td><td>1074                                              </td><td>71.1                                              </td><td>443                                               </td><td> 39                                               </td><td>⋯                                                 </td><td>0                                                 </td><td> 3                                                </td><td>2                                                 </td><td>3                                                 </td><td> 8                                                </td><td>0.000000                                          </td><td>1.7964072                                         </td><td>3.174603                                          </td><td>6.818182                                          </td><td>11.789192                                         </td></tr>\n",
       "\t<tr><th scope=row>4</th><td>K337                                              </td><td>INTERNATIONAL HIGH SCHOOL AT LAFAYETTE            </td><td> 54                                               </td><td>326                                               </td><td>386                                               </td><td>314                                               </td><td>1026                                              </td><td>73.8                                              </td><td>343                                               </td><td> 78                                               </td><td>⋯                                                 </td><td>2                                                 </td><td> 7                                                </td><td>6                                                 </td><td>2                                                 </td><td>17                                                </td><td>2.222222                                          </td><td>0.9655172                                         </td><td>2.352941                                          </td><td>1.379310                                          </td><td> 6.919991                                         </td></tr>\n",
       "\t<tr><th scope=row>5</th><td>K344                                              </td><td>RACHEL CARSON HIGH SCHOOL FOR COASTAL STUDIES     </td><td> 54                                               </td><td>402                                               </td><td>427                                               </td><td>408                                               </td><td>1237                                              </td><td>70.4                                              </td><td>481                                               </td><td> 82                                               </td><td>⋯                                                 </td><td>3                                                 </td><td> 8                                                </td><td>4                                                 </td><td>3                                                 </td><td>18                                                </td><td>5.263158                                          </td><td>2.1978022                                         </td><td>2.877698                                          </td><td>2.857143                                          </td><td>13.195801                                         </td></tr>\n",
       "\t<tr><th scope=row>6</th><td>K348                                              </td><td>HIGH SCHOOL OF SPORTS MANAGEMENT                  </td><td> 39                                               </td><td>388                                               </td><td>398                                               </td><td>378                                               </td><td>1164                                              </td><td>69.2                                              </td><td>370                                               </td><td> 64                                               </td><td>⋯                                                 </td><td>2                                                 </td><td> 7                                                </td><td>6                                                 </td><td>2                                                 </td><td>17                                                </td><td>2.222222                                          </td><td>0.9655172                                         </td><td>2.352941                                          </td><td>1.379310                                          </td><td> 6.919991                                         </td></tr>\n",
       "\t<tr><th scope=row>7</th><td>K350                                              </td><td>URBAN ASSEMBLY HIGH SCHOOL OF MUSIC AND ART       </td><td> 52                                               </td><td>360                                               </td><td>364                                               </td><td>356                                               </td><td>1080                                              </td><td>74.1                                              </td><td>431                                               </td><td> 91                                               </td><td>⋯                                                 </td><td>0                                                 </td><td>14                                                </td><td>0                                                 </td><td>1                                                 </td><td>15                                                </td><td>0.000000                                          </td><td>3.8461538                                         </td><td>0.000000                                          </td><td>0.952381                                          </td><td> 4.798535                                         </td></tr>\n",
       "</tbody>\n",
       "</table>\n"
      ],
      "text/latex": [
       "\\begin{tabular}{r|lllllllllllllllllllllllllll}\n",
       "  & DBN & SCHOOL.NAME & Num.of.SAT.Test.Takers & SAT.Critical.Reading.Avg..Score & SAT.Math.Avg..Score & SAT.Writing.Avg..Score & SAT.Total & frl\\_percent & total\\_enrollment & grade12 & ⋯ & Major.N & NoCrim.N & Prop.N & Vio.N & All.N & Major.N.Odds & NoCrim.N.Odds & Prop.N.Odds & Vio.N.Odds & All.N.Odds\\\\\n",
       "\\hline\n",
       "\t1 & K071                                               & JUAN MOREL CAMPOS SECONDARY SCHOOL                 & 102                                                & 365                                                & 361                                                & 359                                                & 1085                                               & 76.6                                               & 865                                                & 131                                                & ⋯                                                  & 1                                                  &  5                                                 & 3                                                  & 3                                                  & 12                                                 & 3.571429                                           & 2.8735632                                          & 4.000000                                           & 5.660377                                           & 16.105369                                         \\\\\n",
       "\t2 & K265                                               & DR. SUSAN S. MCKINNEY SECONDARY SCHOOL OF THE ARTS &  29                                                & 352                                                & 349                                                & 373                                                & 1074                                               & 71.1                                               & 443                                                &  39                                                & ⋯                                                  & 0                                                  &  3                                                 & 2                                                  & 3                                                  &  8                                                 & 0.000000                                           & 1.7964072                                          & 3.174603                                           & 6.818182                                           & 11.789192                                         \\\\\n",
       "\t4 & K337                                               & INTERNATIONAL HIGH SCHOOL AT LAFAYETTE             &  54                                                & 326                                                & 386                                                & 314                                                & 1026                                               & 73.8                                               & 343                                                &  78                                                & ⋯                                                  & 2                                                  &  7                                                 & 6                                                  & 2                                                  & 17                                                 & 2.222222                                           & 0.9655172                                          & 2.352941                                           & 1.379310                                           &  6.919991                                         \\\\\n",
       "\t5 & K344                                               & RACHEL CARSON HIGH SCHOOL FOR COASTAL STUDIES      &  54                                                & 402                                                & 427                                                & 408                                                & 1237                                               & 70.4                                               & 481                                                &  82                                                & ⋯                                                  & 3                                                  &  8                                                 & 4                                                  & 3                                                  & 18                                                 & 5.263158                                           & 2.1978022                                          & 2.877698                                           & 2.857143                                           & 13.195801                                         \\\\\n",
       "\t6 & K348                                               & HIGH SCHOOL OF SPORTS MANAGEMENT                   &  39                                                & 388                                                & 398                                                & 378                                                & 1164                                               & 69.2                                               & 370                                                &  64                                                & ⋯                                                  & 2                                                  &  7                                                 & 6                                                  & 2                                                  & 17                                                 & 2.222222                                           & 0.9655172                                          & 2.352941                                           & 1.379310                                           &  6.919991                                         \\\\\n",
       "\t7 & K350                                               & URBAN ASSEMBLY HIGH SCHOOL OF MUSIC AND ART        &  52                                                & 360                                                & 364                                                & 356                                                & 1080                                               & 74.1                                               & 431                                                &  91                                                & ⋯                                                  & 0                                                  & 14                                                 & 0                                                  & 1                                                  & 15                                                 & 0.000000                                           & 3.8461538                                          & 0.000000                                           & 0.952381                                           &  4.798535                                         \\\\\n",
       "\\end{tabular}\n"
      ],
      "text/markdown": [
       "\n",
       "| <!--/--> | DBN | SCHOOL.NAME | Num.of.SAT.Test.Takers | SAT.Critical.Reading.Avg..Score | SAT.Math.Avg..Score | SAT.Writing.Avg..Score | SAT.Total | frl_percent | total_enrollment | grade12 | ⋯ | Major.N | NoCrim.N | Prop.N | Vio.N | All.N | Major.N.Odds | NoCrim.N.Odds | Prop.N.Odds | Vio.N.Odds | All.N.Odds | \n",
       "|---|---|---|---|---|---|\n",
       "| 1 | K071                                               | JUAN MOREL CAMPOS SECONDARY SCHOOL                 | 102                                                | 365                                                | 361                                                | 359                                                | 1085                                               | 76.6                                               | 865                                                | 131                                                | ⋯                                                  | 1                                                  |  5                                                 | 3                                                  | 3                                                  | 12                                                 | 3.571429                                           | 2.8735632                                          | 4.000000                                           | 5.660377                                           | 16.105369                                          | \n",
       "| 2 | K265                                               | DR. SUSAN S. MCKINNEY SECONDARY SCHOOL OF THE ARTS |  29                                                | 352                                                | 349                                                | 373                                                | 1074                                               | 71.1                                               | 443                                                |  39                                                | ⋯                                                  | 0                                                  |  3                                                 | 2                                                  | 3                                                  |  8                                                 | 0.000000                                           | 1.7964072                                          | 3.174603                                           | 6.818182                                           | 11.789192                                          | \n",
       "| 4 | K337                                               | INTERNATIONAL HIGH SCHOOL AT LAFAYETTE             |  54                                                | 326                                                | 386                                                | 314                                                | 1026                                               | 73.8                                               | 343                                                |  78                                                | ⋯                                                  | 2                                                  |  7                                                 | 6                                                  | 2                                                  | 17                                                 | 2.222222                                           | 0.9655172                                          | 2.352941                                           | 1.379310                                           |  6.919991                                          | \n",
       "| 5 | K344                                               | RACHEL CARSON HIGH SCHOOL FOR COASTAL STUDIES      |  54                                                | 402                                                | 427                                                | 408                                                | 1237                                               | 70.4                                               | 481                                                |  82                                                | ⋯                                                  | 3                                                  |  8                                                 | 4                                                  | 3                                                  | 18                                                 | 5.263158                                           | 2.1978022                                          | 2.877698                                           | 2.857143                                           | 13.195801                                          | \n",
       "| 6 | K348                                               | HIGH SCHOOL OF SPORTS MANAGEMENT                   |  39                                                | 388                                                | 398                                                | 378                                                | 1164                                               | 69.2                                               | 370                                                |  64                                                | ⋯                                                  | 2                                                  |  7                                                 | 6                                                  | 2                                                  | 17                                                 | 2.222222                                           | 0.9655172                                          | 2.352941                                           | 1.379310                                           |  6.919991                                          | \n",
       "| 7 | K350                                               | URBAN ASSEMBLY HIGH SCHOOL OF MUSIC AND ART        |  52                                                | 360                                                | 364                                                | 356                                                | 1080                                               | 74.1                                               | 431                                                |  91                                                | ⋯                                                  | 0                                                  | 14                                                 | 0                                                  | 1                                                  | 15                                                 | 0.000000                                           | 3.8461538                                          | 0.000000                                           | 0.952381                                           |  4.798535                                          | \n",
       "\n",
       "\n"
      ],
      "text/plain": [
       "  DBN  SCHOOL.NAME                                       \n",
       "1 K071 JUAN MOREL CAMPOS SECONDARY SCHOOL                \n",
       "2 K265 DR. SUSAN S. MCKINNEY SECONDARY SCHOOL OF THE ARTS\n",
       "4 K337 INTERNATIONAL HIGH SCHOOL AT LAFAYETTE            \n",
       "5 K344 RACHEL CARSON HIGH SCHOOL FOR COASTAL STUDIES     \n",
       "6 K348 HIGH SCHOOL OF SPORTS MANAGEMENT                  \n",
       "7 K350 URBAN ASSEMBLY HIGH SCHOOL OF MUSIC AND ART       \n",
       "  Num.of.SAT.Test.Takers SAT.Critical.Reading.Avg..Score SAT.Math.Avg..Score\n",
       "1 102                    365                             361                \n",
       "2  29                    352                             349                \n",
       "4  54                    326                             386                \n",
       "5  54                    402                             427                \n",
       "6  39                    388                             398                \n",
       "7  52                    360                             364                \n",
       "  SAT.Writing.Avg..Score SAT.Total frl_percent total_enrollment grade12 ⋯\n",
       "1 359                    1085      76.6        865              131     ⋯\n",
       "2 373                    1074      71.1        443               39     ⋯\n",
       "4 314                    1026      73.8        343               78     ⋯\n",
       "5 408                    1237      70.4        481               82     ⋯\n",
       "6 378                    1164      69.2        370               64     ⋯\n",
       "7 356                    1080      74.1        431               91     ⋯\n",
       "  Major.N NoCrim.N Prop.N Vio.N All.N Major.N.Odds NoCrim.N.Odds Prop.N.Odds\n",
       "1 1        5       3      3     12    3.571429     2.8735632     4.000000   \n",
       "2 0        3       2      3      8    0.000000     1.7964072     3.174603   \n",
       "4 2        7       6      2     17    2.222222     0.9655172     2.352941   \n",
       "5 3        8       4      3     18    5.263158     2.1978022     2.877698   \n",
       "6 2        7       6      2     17    2.222222     0.9655172     2.352941   \n",
       "7 0       14       0      1     15    0.000000     3.8461538     0.000000   \n",
       "  Vio.N.Odds All.N.Odds\n",
       "1 5.660377   16.105369 \n",
       "2 6.818182   11.789192 \n",
       "4 1.379310    6.919991 \n",
       "5 2.857143   13.195801 \n",
       "6 1.379310    6.919991 \n",
       "7 0.952381    4.798535 "
      ]
     },
     "metadata": {},
     "output_type": "display_data"
    }
   ],
   "source": [
    "df <- merge(x = df, y = safetyCleaned, by = \"DBN\", all.x = TRUE)\n",
    "df <- na.omit(df)\n",
    "head(df)"
   ]
  },
  {
   "cell_type": "code",
   "execution_count": 107,
   "metadata": {},
   "outputs": [
    {
     "data": {
      "text/plain": [
       "     DBN           \n",
       " Length:372        \n",
       " Class :character  \n",
       " Mode  :character  \n",
       "                   \n",
       "                   \n",
       "                   \n",
       "                   \n",
       "                                                                         SCHOOL.NAME \n",
       " 47 THE AMERICAN SIGN LANGUAGE AND ENGLISH SECONDARY SCHOOL                    :  1  \n",
       " ABRAHAM LINCOLN HIGH SCHOOL                                                   :  1  \n",
       " ACADEMY FOR CAREERS IN TELEVISION AND FILM                                    :  1  \n",
       " ACADEMY FOR COLLEGE PREPARATION AND CAREER EXPLORATION: A COLLEGE BOARD SCHOOL:  1  \n",
       " ACADEMY FOR CONSERVATION AND THE ENVIRONMENT                                  :  1  \n",
       " ACADEMY FOR ENVIRONMENTAL LEADERSHIP                                          :  1  \n",
       " (Other)                                                                       :366  \n",
       " Num.of.SAT.Test.Takers SAT.Critical.Reading.Avg..Score SAT.Math.Avg..Score\n",
       " Min.   :   6.0         Min.   :279.0                   Min.   :312.0      \n",
       " 1st Qu.:  46.0         1st Qu.:369.0                   1st Qu.:375.0      \n",
       " Median :  66.0         Median :393.0                   Median :398.5      \n",
       " Mean   : 119.4         Mean   :401.9                   Mean   :416.8      \n",
       " 3rd Qu.: 101.2         3rd Qu.:417.2                   3rd Qu.:438.5      \n",
       " Max.   :1277.0         Max.   :679.0                   Max.   :735.0      \n",
       "                                                                           \n",
       " SAT.Writing.Avg..Score   SAT.Total     frl_percent     total_enrollment\n",
       " Min.   :286.0          Min.   : 887   Min.   : 15.80   Min.   :  68.0  \n",
       " 1st Qu.:363.0          1st Qu.:1106   1st Qu.: 58.85   1st Qu.: 382.0  \n",
       " Median :383.0          Median :1176   Median : 70.15   Median : 463.5  \n",
       " Mean   :396.2          Mean   :1215   Mean   : 66.21   Mean   : 787.7  \n",
       " 3rd Qu.:411.0          3rd Qu.:1265   3rd Qu.: 76.83   3rd Qu.: 675.8  \n",
       " Max.   :682.0          Max.   :2096   Max.   :100.00   Max.   :5332.0  \n",
       "                                                                        \n",
       "    grade12         asian_per        black_per      hispanic_per   \n",
       " Min.   :   1.0   Min.   : 0.000   Min.   : 0.00   Min.   :  2.40  \n",
       " 1st Qu.:  66.0   1st Qu.: 1.100   1st Qu.:18.32   1st Qu.: 18.82  \n",
       " Median :  86.0   Median : 3.200   Median :31.80   Median : 43.10  \n",
       " Mean   : 154.6   Mean   : 9.999   Mean   :38.46   Mean   : 42.79  \n",
       " 3rd Qu.: 131.2   3rd Qu.:10.100   3rd Qu.:56.92   3rd Qu.: 62.88  \n",
       " Max.   :1201.0   Max.   :89.500   Max.   :95.70   Max.   :100.00  \n",
       "                                                                   \n",
       "   white_per         male_per      Percent.SAT.Taken  Average.Class.Size\n",
       " Min.   : 0.000   Min.   :  0.00   Min.   : 0.07368   Min.   :14.10     \n",
       " 1st Qu.: 0.900   1st Qu.: 43.98   1st Qu.: 0.63023   1st Qu.:21.80     \n",
       " Median : 1.900   Median : 49.55   Median : 0.76806   Median :23.80     \n",
       " Mean   : 7.973   Mean   : 49.45   Mean   : 0.97467   Mean   :23.84     \n",
       " 3rd Qu.: 8.700   3rd Qu.: 54.50   3rd Qu.: 0.92660   3rd Qu.:26.02     \n",
       " Max.   :82.100   Max.   :100.00   Max.   :79.00000   Max.   :35.79     \n",
       "                                                                        \n",
       "    Major.N         NoCrim.N         Prop.N           Vio.N       \n",
       " Min.   :0.000   Min.   : 0.00   Min.   : 0.000   Min.   : 0.000  \n",
       " 1st Qu.:0.000   1st Qu.: 4.00   1st Qu.: 1.000   1st Qu.: 1.000  \n",
       " Median :1.000   Median :11.00   Median : 3.000   Median : 2.000  \n",
       " Mean   :1.387   Mean   :14.69   Mean   : 3.333   Mean   : 3.075  \n",
       " 3rd Qu.:2.000   3rd Qu.:18.00   3rd Qu.: 5.000   3rd Qu.: 5.000  \n",
       " Max.   :6.000   Max.   :84.00   Max.   :13.000   Max.   :13.000  \n",
       "                                                                  \n",
       "     All.N         Major.N.Odds    NoCrim.N.Odds      Prop.N.Odds     \n",
       " Min.   :  0.00   Min.   : 0.000   Min.   : 0.0000   Min.   : 0.0000  \n",
       " 1st Qu.:  7.00   1st Qu.: 0.000   1st Qu.: 0.7458   1st Qu.: 0.7194  \n",
       " Median : 18.00   Median : 1.229   Median : 1.7286   Median : 1.3333  \n",
       " Mean   : 22.49   Mean   : 1.972   Mean   : 2.4702   Mean   : 1.8532  \n",
       " 3rd Qu.: 30.00   3rd Qu.: 3.054   3rd Qu.: 3.2929   3rd Qu.: 2.3529  \n",
       " Max.   :109.00   Max.   :12.500   Max.   :12.6437   Max.   :12.0000  \n",
       "                                                                      \n",
       "   Vio.N.Odds        All.N.Odds    \n",
       " Min.   : 0.0000   Min.   : 0.000  \n",
       " 1st Qu.: 0.5076   1st Qu.: 3.411  \n",
       " Median : 1.3029   Median : 6.727  \n",
       " Mean   : 2.1169   Mean   : 8.413  \n",
       " 3rd Qu.: 2.8571   3rd Qu.:10.862  \n",
       " Max.   :16.9811   Max.   :37.245  \n",
       "                                   "
      ]
     },
     "metadata": {},
     "output_type": "display_data"
    }
   ],
   "source": [
    "summary(df)"
   ]
  },
  {
   "cell_type": "markdown",
   "metadata": {},
   "source": [
    "# Pre-Analysis"
   ]
  },
  {
   "cell_type": "markdown",
   "metadata": {},
   "source": [
    "Let's look at a correlation table to look at some clues to see what might be the best predictor for SAT scores. Data-wide correlation table is:"
   ]
  },
  {
   "cell_type": "code",
   "execution_count": 108,
   "metadata": {},
   "outputs": [
    {
     "data": {
      "text/html": [
       "<table>\n",
       "<thead><tr><th></th><th scope=col>Num.of.SAT.Test.Takers</th><th scope=col>SAT.Critical.Reading.Avg..Score</th><th scope=col>SAT.Math.Avg..Score</th><th scope=col>SAT.Writing.Avg..Score</th><th scope=col>SAT.Total</th><th scope=col>frl_percent</th><th scope=col>total_enrollment</th><th scope=col>grade12</th><th scope=col>asian_per</th><th scope=col>black_per</th><th scope=col>⋯</th><th scope=col>Major.N</th><th scope=col>NoCrim.N</th><th scope=col>Prop.N</th><th scope=col>Vio.N</th><th scope=col>All.N</th><th scope=col>Major.N.Odds</th><th scope=col>NoCrim.N.Odds</th><th scope=col>Prop.N.Odds</th><th scope=col>Vio.N.Odds</th><th scope=col>All.N.Odds</th></tr></thead>\n",
       "<tbody>\n",
       "\t<tr><th scope=row>Num.of.SAT.Test.Takers</th><td> 1.0000000000</td><td> 0.44153792  </td><td> 0.53313344  </td><td> 0.45353505  </td><td> 0.49212167  </td><td>-0.41780059  </td><td> 0.943468857 </td><td> 0.959107784 </td><td> 0.50005048  </td><td>-0.28739571  </td><td>⋯            </td><td>-0.054547961 </td><td>-0.027171546 </td><td> 0.02602064  </td><td>-0.029699945 </td><td>-0.025062711 </td><td>-0.14270246  </td><td>-0.20953503  </td><td>-0.16915341  </td><td>-0.15885614  </td><td>-0.212001111 </td></tr>\n",
       "\t<tr><th scope=row>SAT.Critical.Reading.Avg..Score</th><td> 0.4415379186</td><td> 1.00000000  </td><td> 0.88533510  </td><td> 0.97574385  </td><td> 0.97813146  </td><td>-0.74288570  </td><td> 0.334608501 </td><td> 0.357198783 </td><td> 0.43296196  </td><td>-0.22162707  </td><td>⋯            </td><td>-0.264006269 </td><td>-0.239564164 </td><td>-0.19466743  </td><td>-0.290535896 </td><td>-0.273249932 </td><td>-0.25217412  </td><td>-0.31289593  </td><td>-0.23245942  </td><td>-0.28316734  </td><td>-0.339614451 </td></tr>\n",
       "\t<tr><th scope=row>SAT.Math.Avg..Score</th><td> 0.5331334413</td><td> 0.88533510  </td><td> 1.00000000  </td><td> 0.89726578  </td><td> 0.95716715  </td><td>-0.65942184  </td><td> 0.426542094 </td><td> 0.443474950 </td><td> 0.70045179  </td><td>-0.38245867  </td><td>⋯            </td><td>-0.284733076 </td><td>-0.277867996 </td><td>-0.20124201  </td><td>-0.314202922 </td><td>-0.308482325 </td><td>-0.26874363  </td><td>-0.35404077  </td><td>-0.24233167  </td><td>-0.29865150  </td><td>-0.366404561 </td></tr>\n",
       "\t<tr><th scope=row>SAT.Writing.Avg..Score</th><td> 0.4535350483</td><td> 0.97574385  </td><td> 0.89726578  </td><td> 1.00000000  </td><td> 0.98280988  </td><td>-0.73564734  </td><td> 0.339004218 </td><td> 0.359466083 </td><td> 0.45517667  </td><td>-0.27124483  </td><td>⋯            </td><td>-0.249040404 </td><td>-0.243108346 </td><td>-0.18711251  </td><td>-0.285001904 </td><td>-0.272983684 </td><td>-0.24356403  </td><td>-0.32797100  </td><td>-0.22082845  </td><td>-0.28205348  </td><td>-0.338429062 </td></tr>\n",
       "\t<tr><th scope=row>SAT.Total</th><td> 0.4921216748</td><td> 0.97813146  </td><td> 0.95716715  </td><td> 0.98280988  </td><td> 1.00000000  </td><td>-0.73088461  </td><td> 0.379705447 </td><td> 0.400137542 </td><td> 0.55182067  </td><td>-0.30411878  </td><td>⋯            </td><td>-0.274242612 </td><td>-0.261800158 </td><td>-0.20015700  </td><td>-0.305778443 </td><td>-0.294040201 </td><td>-0.26265962  </td><td>-0.34214667  </td><td>-0.23888947  </td><td>-0.29664931  </td><td>-0.358876414 </td></tr>\n",
       "\t<tr><th scope=row>frl_percent</th><td>-0.4178005949</td><td>-0.74288570  </td><td>-0.65942184  </td><td>-0.73564734  </td><td>-0.73088461  </td><td> 1.00000000  </td><td>-0.361082684 </td><td>-0.375385393 </td><td>-0.35646248  </td><td> 0.06096413  </td><td>⋯            </td><td> 0.262793948 </td><td> 0.214090831 </td><td> 0.14668488  </td><td> 0.257002572 </td><td> 0.241636522 </td><td> 0.26529138  </td><td> 0.30668998  </td><td> 0.21777122  </td><td> 0.28774766  </td><td> 0.339772097 </td></tr>\n",
       "\t<tr><th scope=row>total_enrollment</th><td> 0.9434688571</td><td> 0.33460850  </td><td> 0.42654209  </td><td> 0.33900422  </td><td> 0.37970545  </td><td>-0.36108268  </td><td> 1.000000000 </td><td> 0.965569732 </td><td> 0.42151449  </td><td>-0.26599999  </td><td>⋯            </td><td>-0.007477838 </td><td> 0.023054029 </td><td> 0.05493708  </td><td> 0.013943419 </td><td> 0.027392014 </td><td>-0.11372251  </td><td>-0.17814856  </td><td>-0.14989218  </td><td>-0.13734601  </td><td>-0.179944722 </td></tr>\n",
       "\t<tr><th scope=row>grade12</th><td> 0.9591077842</td><td> 0.35719878  </td><td> 0.44347495  </td><td> 0.35946608  </td><td> 0.40013754  </td><td>-0.37538539  </td><td> 0.965569732 </td><td> 1.000000000 </td><td> 0.44431115  </td><td>-0.25859887  </td><td>⋯            </td><td>-0.035432950 </td><td>-0.002493121 </td><td> 0.03147505  </td><td>-0.009516831 </td><td>-0.001067625 </td><td>-0.11047452  </td><td>-0.17317247  </td><td>-0.15307829  </td><td>-0.13966580  </td><td>-0.178745565 </td></tr>\n",
       "\t<tr><th scope=row>asian_per</th><td> 0.5000504803</td><td> 0.43296196  </td><td> 0.70045179  </td><td> 0.45517667  </td><td> 0.55182067  </td><td>-0.35646248  </td><td> 0.421514491 </td><td> 0.444311149 </td><td> 1.00000000  </td><td>-0.43503283  </td><td>⋯            </td><td>-0.193512202 </td><td>-0.214097791 </td><td>-0.12337275  </td><td>-0.240201000 </td><td>-0.230821050 </td><td>-0.20342851  </td><td>-0.28803828  </td><td>-0.19244993  </td><td>-0.25434407  </td><td>-0.295454669 </td></tr>\n",
       "\t<tr><th scope=row>black_per</th><td>-0.2873957078</td><td>-0.22162707  </td><td>-0.38245867  </td><td>-0.27124483  </td><td>-0.30411878  </td><td> 0.06096413  </td><td>-0.265999995 </td><td>-0.258598873 </td><td>-0.43503283  </td><td> 1.00000000  </td><td>⋯            </td><td> 0.123852318 </td><td> 0.047436628 </td><td> 0.10607156  </td><td> 0.212271332 </td><td> 0.091366777 </td><td> 0.22000693  </td><td> 0.24693892  </td><td> 0.24695021  </td><td> 0.31981805  </td><td> 0.322329810 </td></tr>\n",
       "\t<tr><th scope=row>hispanic_per</th><td>-0.2241279338</td><td>-0.37420633  </td><td>-0.36310162  </td><td>-0.35056632  </td><td>-0.37291965  </td><td> 0.54931474  </td><td>-0.173486946 </td><td>-0.195504756 </td><td>-0.33364930  </td><td>-0.57664901  </td><td>⋯            </td><td> 0.124710605 </td><td> 0.193523929 </td><td> 0.05156060  </td><td> 0.061577090 </td><td> 0.173922714 </td><td> 0.02781647  </td><td> 0.07916824  </td><td>-0.01992436  </td><td>-0.03389594  </td><td> 0.019733139 </td></tr>\n",
       "\t<tr><th scope=row>white_per</th><td> 0.4129409378</td><td> 0.61644531  </td><td> 0.61495514  </td><td> 0.64543379  </td><td> 0.64328165  </td><td>-0.71011245  </td><td> 0.367206234 </td><td> 0.366946254 </td><td> 0.33781891  </td><td>-0.41370435  </td><td>⋯            </td><td>-0.251525672 </td><td>-0.201020817 </td><td>-0.15895140  </td><td>-0.252042201 </td><td>-0.231936710 </td><td>-0.25033054  </td><td>-0.29677055  </td><td>-0.22540334  </td><td>-0.27137622  </td><td>-0.328029931 </td></tr>\n",
       "\t<tr><th scope=row>male_per</th><td> 0.0344163099</td><td>-0.12871011  </td><td>-0.01127681  </td><td>-0.16508625  </td><td>-0.10111403  </td><td> 0.07646482  </td><td> 0.079983902 </td><td> 0.098196927 </td><td> 0.05463444  </td><td>-0.01280128  </td><td>⋯            </td><td> 0.110184489 </td><td> 0.156373356 </td><td> 0.04342304  </td><td> 0.097785870 </td><td> 0.148308236 </td><td> 0.04163968  </td><td> 0.09479987  </td><td>-0.05796507  </td><td> 0.01003662  </td><td> 0.034269736 </td></tr>\n",
       "\t<tr><th scope=row>Percent.SAT.Taken</th><td>-0.0004574561</td><td>-0.05721803  </td><td> 0.09502070  </td><td>-0.01456642  </td><td> 0.01176188  </td><td> 0.08584653  </td><td>-0.025798858 </td><td>-0.040954628 </td><td> 0.19223468  </td><td>-0.07558759  </td><td>⋯            </td><td> 0.020493617 </td><td>-0.032761847 </td><td> 0.02761552  </td><td>-0.038106705 </td><td>-0.024971070 </td><td> 0.02290565  </td><td>-0.03067000  </td><td> 0.03903594  </td><td>-0.03296829  </td><td>-0.003317657 </td></tr>\n",
       "\t<tr><th scope=row>Average.Class.Size</th><td> 0.3220708467</td><td> 0.37032759  </td><td> 0.37736106  </td><td> 0.39841692  </td><td> 0.39295677  </td><td>-0.37916640  </td><td> 0.272934155 </td><td> 0.267439943 </td><td> 0.20278436  </td><td>-0.09118471  </td><td>⋯            </td><td>-0.067690961 </td><td> 0.014214813 </td><td>-0.01133138  </td><td>-0.011148136 </td><td> 0.002805936 </td><td>-0.13123412  </td><td>-0.12429977  </td><td>-0.09538787  </td><td>-0.10476166  </td><td>-0.143673408 </td></tr>\n",
       "\t<tr><th scope=row>Major.N</th><td>-0.0545479607</td><td>-0.26400627  </td><td>-0.28473308  </td><td>-0.24904040  </td><td>-0.27424261  </td><td> 0.26279395  </td><td>-0.007477838 </td><td>-0.035432950 </td><td>-0.19351220  </td><td> 0.12385232  </td><td>⋯            </td><td> 1.000000000 </td><td> 0.570295234 </td><td> 0.63098677  </td><td> 0.672514668 </td><td> 0.699345950 </td><td> 0.65001809  </td><td> 0.23936244  </td><td> 0.29111944  </td><td> 0.31682046  </td><td> 0.475323716 </td></tr>\n",
       "\t<tr><th scope=row>NoCrim.N</th><td>-0.0271715457</td><td>-0.23956416  </td><td>-0.27786800  </td><td>-0.24310835  </td><td>-0.26180016  </td><td> 0.21409083  </td><td> 0.023054029 </td><td>-0.002493121 </td><td>-0.21409779  </td><td> 0.04743663  </td><td>⋯            </td><td> 0.570295234 </td><td> 1.000000000 </td><td> 0.54326395  </td><td> 0.582538885 </td><td> 0.972619294 </td><td> 0.15738545  </td><td> 0.36696098  </td><td> 0.07969096  </td><td> 0.11896159  </td><td> 0.233875123 </td></tr>\n",
       "\t<tr><th scope=row>Prop.N</th><td> 0.0260206380</td><td>-0.19466743  </td><td>-0.20124201  </td><td>-0.18711251  </td><td>-0.20015700  </td><td> 0.14668488  </td><td> 0.054937077 </td><td> 0.031475049 </td><td>-0.12337275  </td><td> 0.10607156  </td><td>⋯            </td><td> 0.630986773 </td><td> 0.543263952 </td><td> 1.00000000  </td><td> 0.493715210 </td><td> 0.682246181 </td><td> 0.24309654  </td><td> 0.09720616  </td><td> 0.56524240  </td><td> 0.11854150  </td><td> 0.295212667 </td></tr>\n",
       "\t<tr><th scope=row>Vio.N</th><td>-0.0296999450</td><td>-0.29053590  </td><td>-0.31420292  </td><td>-0.28500190  </td><td>-0.30577844  </td><td> 0.25700257  </td><td> 0.013943419 </td><td>-0.009516831 </td><td>-0.24020100  </td><td> 0.21227133  </td><td>⋯            </td><td> 0.672514668 </td><td> 0.582538885 </td><td> 0.49371521  </td><td> 1.000000000 </td><td> 0.711472975 </td><td> 0.30965976  </td><td> 0.18485884  </td><td> 0.14518303  </td><td> 0.54554369  </td><td> 0.379537555 </td></tr>\n",
       "\t<tr><th scope=row>All.N</th><td>-0.0250627109</td><td>-0.27324993  </td><td>-0.30848232  </td><td>-0.27298368  </td><td>-0.29404020  </td><td> 0.24163652  </td><td> 0.027392014 </td><td>-0.001067625 </td><td>-0.23082105  </td><td> 0.09136678  </td><td>⋯            </td><td> 0.699345950 </td><td> 0.972619294 </td><td> 0.68224618  </td><td> 0.711472975 </td><td> 1.000000000 </td><td> 0.24763250  </td><td> 0.33961037  </td><td> 0.18737218  </td><td> 0.20932680  </td><td> 0.311681498 </td></tr>\n",
       "\t<tr><th scope=row>Major.N.Odds</th><td>-0.1427024562</td><td>-0.25217412  </td><td>-0.26874363  </td><td>-0.24356403  </td><td>-0.26265962  </td><td> 0.26529138  </td><td>-0.113722506 </td><td>-0.110474518 </td><td>-0.20342851  </td><td> 0.22000693  </td><td>⋯            </td><td> 0.650018094 </td><td> 0.157385451 </td><td> 0.24309654  </td><td> 0.309659762 </td><td> 0.247632499 </td><td> 1.00000000  </td><td> 0.55618949  </td><td> 0.54355042  </td><td> 0.60908519  </td><td> 0.857285925 </td></tr>\n",
       "\t<tr><th scope=row>NoCrim.N.Odds</th><td>-0.2095350251</td><td>-0.31289593  </td><td>-0.35404077  </td><td>-0.32797100  </td><td>-0.34214667  </td><td> 0.30668998  </td><td>-0.178148558 </td><td>-0.173172473 </td><td>-0.28803828  </td><td> 0.24693892  </td><td>⋯            </td><td> 0.239362440 </td><td> 0.366960978 </td><td> 0.09720616  </td><td> 0.184858837 </td><td> 0.339610371 </td><td> 0.55618949  </td><td> 1.00000000  </td><td> 0.45491679  </td><td> 0.53302836  </td><td> 0.807903324 </td></tr>\n",
       "\t<tr><th scope=row>Prop.N.Odds</th><td>-0.1691534071</td><td>-0.23245942  </td><td>-0.24233167  </td><td>-0.22082845  </td><td>-0.23888947  </td><td> 0.21777122  </td><td>-0.149892181 </td><td>-0.153078292 </td><td>-0.19244993  </td><td> 0.24695021  </td><td>⋯            </td><td> 0.291119439 </td><td> 0.079690956 </td><td> 0.56524240  </td><td> 0.145183032 </td><td> 0.187372182 </td><td> 0.54355042  </td><td> 0.45491679  </td><td> 1.00000000  </td><td> 0.39539916  </td><td> 0.714929749 </td></tr>\n",
       "\t<tr><th scope=row>Vio.N.Odds</th><td>-0.1588561438</td><td>-0.28316734  </td><td>-0.29865150  </td><td>-0.28205348  </td><td>-0.29664931  </td><td> 0.28774766  </td><td>-0.137346008 </td><td>-0.139665801 </td><td>-0.25434407  </td><td> 0.31981805  </td><td>⋯            </td><td> 0.316820464 </td><td> 0.118961593 </td><td> 0.11854150  </td><td> 0.545543687 </td><td> 0.209326797 </td><td> 0.60908519  </td><td> 0.53302836  </td><td> 0.39539916  </td><td> 1.00000000  </td><td> 0.806846956 </td></tr>\n",
       "\t<tr><th scope=row>All.N.Odds</th><td>-0.2120011113</td><td>-0.33961445  </td><td>-0.36640456  </td><td>-0.33842906  </td><td>-0.35887641  </td><td> 0.33977210  </td><td>-0.179944722 </td><td>-0.178745565 </td><td>-0.29545467  </td><td> 0.32232981  </td><td>⋯            </td><td> 0.475323716 </td><td> 0.233875123 </td><td> 0.29521267  </td><td> 0.379537555 </td><td> 0.311681498 </td><td> 0.85728592  </td><td> 0.80790332  </td><td> 0.71492975  </td><td> 0.80684696  </td><td> 1.000000000 </td></tr>\n",
       "</tbody>\n",
       "</table>\n"
      ],
      "text/latex": [
       "\\begin{tabular}{r|lllllllllllllllllllllllll}\n",
       "  & Num.of.SAT.Test.Takers & SAT.Critical.Reading.Avg..Score & SAT.Math.Avg..Score & SAT.Writing.Avg..Score & SAT.Total & frl\\_percent & total\\_enrollment & grade12 & asian\\_per & black\\_per & ⋯ & Major.N & NoCrim.N & Prop.N & Vio.N & All.N & Major.N.Odds & NoCrim.N.Odds & Prop.N.Odds & Vio.N.Odds & All.N.Odds\\\\\n",
       "\\hline\n",
       "\tNum.of.SAT.Test.Takers &  1.0000000000 &  0.44153792   &  0.53313344   &  0.45353505   &  0.49212167   & -0.41780059   &  0.943468857  &  0.959107784  &  0.50005048   & -0.28739571   & ⋯             & -0.054547961  & -0.027171546  &  0.02602064   & -0.029699945  & -0.025062711  & -0.14270246   & -0.20953503   & -0.16915341   & -0.15885614   & -0.212001111 \\\\\n",
       "\tSAT.Critical.Reading.Avg..Score &  0.4415379186 &  1.00000000   &  0.88533510   &  0.97574385   &  0.97813146   & -0.74288570   &  0.334608501  &  0.357198783  &  0.43296196   & -0.22162707   & ⋯             & -0.264006269  & -0.239564164  & -0.19466743   & -0.290535896  & -0.273249932  & -0.25217412   & -0.31289593   & -0.23245942   & -0.28316734   & -0.339614451 \\\\\n",
       "\tSAT.Math.Avg..Score &  0.5331334413 &  0.88533510   &  1.00000000   &  0.89726578   &  0.95716715   & -0.65942184   &  0.426542094  &  0.443474950  &  0.70045179   & -0.38245867   & ⋯             & -0.284733076  & -0.277867996  & -0.20124201   & -0.314202922  & -0.308482325  & -0.26874363   & -0.35404077   & -0.24233167   & -0.29865150   & -0.366404561 \\\\\n",
       "\tSAT.Writing.Avg..Score &  0.4535350483 &  0.97574385   &  0.89726578   &  1.00000000   &  0.98280988   & -0.73564734   &  0.339004218  &  0.359466083  &  0.45517667   & -0.27124483   & ⋯             & -0.249040404  & -0.243108346  & -0.18711251   & -0.285001904  & -0.272983684  & -0.24356403   & -0.32797100   & -0.22082845   & -0.28205348   & -0.338429062 \\\\\n",
       "\tSAT.Total &  0.4921216748 &  0.97813146   &  0.95716715   &  0.98280988   &  1.00000000   & -0.73088461   &  0.379705447  &  0.400137542  &  0.55182067   & -0.30411878   & ⋯             & -0.274242612  & -0.261800158  & -0.20015700   & -0.305778443  & -0.294040201  & -0.26265962   & -0.34214667   & -0.23888947   & -0.29664931   & -0.358876414 \\\\\n",
       "\tfrl\\_percent & -0.4178005949 & -0.74288570   & -0.65942184   & -0.73564734   & -0.73088461   &  1.00000000   & -0.361082684  & -0.375385393  & -0.35646248   &  0.06096413   & ⋯             &  0.262793948  &  0.214090831  &  0.14668488   &  0.257002572  &  0.241636522  &  0.26529138   &  0.30668998   &  0.21777122   &  0.28774766   &  0.339772097 \\\\\n",
       "\ttotal\\_enrollment &  0.9434688571 &  0.33460850   &  0.42654209   &  0.33900422   &  0.37970545   & -0.36108268   &  1.000000000  &  0.965569732  &  0.42151449   & -0.26599999   & ⋯             & -0.007477838  &  0.023054029  &  0.05493708   &  0.013943419  &  0.027392014  & -0.11372251   & -0.17814856   & -0.14989218   & -0.13734601   & -0.179944722 \\\\\n",
       "\tgrade12 &  0.9591077842 &  0.35719878   &  0.44347495   &  0.35946608   &  0.40013754   & -0.37538539   &  0.965569732  &  1.000000000  &  0.44431115   & -0.25859887   & ⋯             & -0.035432950  & -0.002493121  &  0.03147505   & -0.009516831  & -0.001067625  & -0.11047452   & -0.17317247   & -0.15307829   & -0.13966580   & -0.178745565 \\\\\n",
       "\tasian\\_per &  0.5000504803 &  0.43296196   &  0.70045179   &  0.45517667   &  0.55182067   & -0.35646248   &  0.421514491  &  0.444311149  &  1.00000000   & -0.43503283   & ⋯             & -0.193512202  & -0.214097791  & -0.12337275   & -0.240201000  & -0.230821050  & -0.20342851   & -0.28803828   & -0.19244993   & -0.25434407   & -0.295454669 \\\\\n",
       "\tblack\\_per & -0.2873957078 & -0.22162707   & -0.38245867   & -0.27124483   & -0.30411878   &  0.06096413   & -0.265999995  & -0.258598873  & -0.43503283   &  1.00000000   & ⋯             &  0.123852318  &  0.047436628  &  0.10607156   &  0.212271332  &  0.091366777  &  0.22000693   &  0.24693892   &  0.24695021   &  0.31981805   &  0.322329810 \\\\\n",
       "\thispanic\\_per & -0.2241279338 & -0.37420633   & -0.36310162   & -0.35056632   & -0.37291965   &  0.54931474   & -0.173486946  & -0.195504756  & -0.33364930   & -0.57664901   & ⋯             &  0.124710605  &  0.193523929  &  0.05156060   &  0.061577090  &  0.173922714  &  0.02781647   &  0.07916824   & -0.01992436   & -0.03389594   &  0.019733139 \\\\\n",
       "\twhite\\_per &  0.4129409378 &  0.61644531   &  0.61495514   &  0.64543379   &  0.64328165   & -0.71011245   &  0.367206234  &  0.366946254  &  0.33781891   & -0.41370435   & ⋯             & -0.251525672  & -0.201020817  & -0.15895140   & -0.252042201  & -0.231936710  & -0.25033054   & -0.29677055   & -0.22540334   & -0.27137622   & -0.328029931 \\\\\n",
       "\tmale\\_per &  0.0344163099 & -0.12871011   & -0.01127681   & -0.16508625   & -0.10111403   &  0.07646482   &  0.079983902  &  0.098196927  &  0.05463444   & -0.01280128   & ⋯             &  0.110184489  &  0.156373356  &  0.04342304   &  0.097785870  &  0.148308236  &  0.04163968   &  0.09479987   & -0.05796507   &  0.01003662   &  0.034269736 \\\\\n",
       "\tPercent.SAT.Taken & -0.0004574561 & -0.05721803   &  0.09502070   & -0.01456642   &  0.01176188   &  0.08584653   & -0.025798858  & -0.040954628  &  0.19223468   & -0.07558759   & ⋯             &  0.020493617  & -0.032761847  &  0.02761552   & -0.038106705  & -0.024971070  &  0.02290565   & -0.03067000   &  0.03903594   & -0.03296829   & -0.003317657 \\\\\n",
       "\tAverage.Class.Size &  0.3220708467 &  0.37032759   &  0.37736106   &  0.39841692   &  0.39295677   & -0.37916640   &  0.272934155  &  0.267439943  &  0.20278436   & -0.09118471   & ⋯             & -0.067690961  &  0.014214813  & -0.01133138   & -0.011148136  &  0.002805936  & -0.13123412   & -0.12429977   & -0.09538787   & -0.10476166   & -0.143673408 \\\\\n",
       "\tMajor.N & -0.0545479607 & -0.26400627   & -0.28473308   & -0.24904040   & -0.27424261   &  0.26279395   & -0.007477838  & -0.035432950  & -0.19351220   &  0.12385232   & ⋯             &  1.000000000  &  0.570295234  &  0.63098677   &  0.672514668  &  0.699345950  &  0.65001809   &  0.23936244   &  0.29111944   &  0.31682046   &  0.475323716 \\\\\n",
       "\tNoCrim.N & -0.0271715457 & -0.23956416   & -0.27786800   & -0.24310835   & -0.26180016   &  0.21409083   &  0.023054029  & -0.002493121  & -0.21409779   &  0.04743663   & ⋯             &  0.570295234  &  1.000000000  &  0.54326395   &  0.582538885  &  0.972619294  &  0.15738545   &  0.36696098   &  0.07969096   &  0.11896159   &  0.233875123 \\\\\n",
       "\tProp.N &  0.0260206380 & -0.19466743   & -0.20124201   & -0.18711251   & -0.20015700   &  0.14668488   &  0.054937077  &  0.031475049  & -0.12337275   &  0.10607156   & ⋯             &  0.630986773  &  0.543263952  &  1.00000000   &  0.493715210  &  0.682246181  &  0.24309654   &  0.09720616   &  0.56524240   &  0.11854150   &  0.295212667 \\\\\n",
       "\tVio.N & -0.0296999450 & -0.29053590   & -0.31420292   & -0.28500190   & -0.30577844   &  0.25700257   &  0.013943419  & -0.009516831  & -0.24020100   &  0.21227133   & ⋯             &  0.672514668  &  0.582538885  &  0.49371521   &  1.000000000  &  0.711472975  &  0.30965976   &  0.18485884   &  0.14518303   &  0.54554369   &  0.379537555 \\\\\n",
       "\tAll.N & -0.0250627109 & -0.27324993   & -0.30848232   & -0.27298368   & -0.29404020   &  0.24163652   &  0.027392014  & -0.001067625  & -0.23082105   &  0.09136678   & ⋯             &  0.699345950  &  0.972619294  &  0.68224618   &  0.711472975  &  1.000000000  &  0.24763250   &  0.33961037   &  0.18737218   &  0.20932680   &  0.311681498 \\\\\n",
       "\tMajor.N.Odds & -0.1427024562 & -0.25217412   & -0.26874363   & -0.24356403   & -0.26265962   &  0.26529138   & -0.113722506  & -0.110474518  & -0.20342851   &  0.22000693   & ⋯             &  0.650018094  &  0.157385451  &  0.24309654   &  0.309659762  &  0.247632499  &  1.00000000   &  0.55618949   &  0.54355042   &  0.60908519   &  0.857285925 \\\\\n",
       "\tNoCrim.N.Odds & -0.2095350251 & -0.31289593   & -0.35404077   & -0.32797100   & -0.34214667   &  0.30668998   & -0.178148558  & -0.173172473  & -0.28803828   &  0.24693892   & ⋯             &  0.239362440  &  0.366960978  &  0.09720616   &  0.184858837  &  0.339610371  &  0.55618949   &  1.00000000   &  0.45491679   &  0.53302836   &  0.807903324 \\\\\n",
       "\tProp.N.Odds & -0.1691534071 & -0.23245942   & -0.24233167   & -0.22082845   & -0.23888947   &  0.21777122   & -0.149892181  & -0.153078292  & -0.19244993   &  0.24695021   & ⋯             &  0.291119439  &  0.079690956  &  0.56524240   &  0.145183032  &  0.187372182  &  0.54355042   &  0.45491679   &  1.00000000   &  0.39539916   &  0.714929749 \\\\\n",
       "\tVio.N.Odds & -0.1588561438 & -0.28316734   & -0.29865150   & -0.28205348   & -0.29664931   &  0.28774766   & -0.137346008  & -0.139665801  & -0.25434407   &  0.31981805   & ⋯             &  0.316820464  &  0.118961593  &  0.11854150   &  0.545543687  &  0.209326797  &  0.60908519   &  0.53302836   &  0.39539916   &  1.00000000   &  0.806846956 \\\\\n",
       "\tAll.N.Odds & -0.2120011113 & -0.33961445   & -0.36640456   & -0.33842906   & -0.35887641   &  0.33977210   & -0.179944722  & -0.178745565  & -0.29545467   &  0.32232981   & ⋯             &  0.475323716  &  0.233875123  &  0.29521267   &  0.379537555  &  0.311681498  &  0.85728592   &  0.80790332   &  0.71492975   &  0.80684696   &  1.000000000 \\\\\n",
       "\\end{tabular}\n"
      ],
      "text/markdown": [
       "\n",
       "| <!--/--> | Num.of.SAT.Test.Takers | SAT.Critical.Reading.Avg..Score | SAT.Math.Avg..Score | SAT.Writing.Avg..Score | SAT.Total | frl_percent | total_enrollment | grade12 | asian_per | black_per | ⋯ | Major.N | NoCrim.N | Prop.N | Vio.N | All.N | Major.N.Odds | NoCrim.N.Odds | Prop.N.Odds | Vio.N.Odds | All.N.Odds | \n",
       "|---|---|---|---|---|---|---|---|---|---|---|---|---|---|---|---|---|---|---|---|---|---|---|---|---|\n",
       "| Num.of.SAT.Test.Takers |  1.0000000000 |  0.44153792   |  0.53313344   |  0.45353505   |  0.49212167   | -0.41780059   |  0.943468857  |  0.959107784  |  0.50005048   | -0.28739571   | ⋯             | -0.054547961  | -0.027171546  |  0.02602064   | -0.029699945  | -0.025062711  | -0.14270246   | -0.20953503   | -0.16915341   | -0.15885614   | -0.212001111  | \n",
       "| SAT.Critical.Reading.Avg..Score |  0.4415379186 |  1.00000000   |  0.88533510   |  0.97574385   |  0.97813146   | -0.74288570   |  0.334608501  |  0.357198783  |  0.43296196   | -0.22162707   | ⋯             | -0.264006269  | -0.239564164  | -0.19466743   | -0.290535896  | -0.273249932  | -0.25217412   | -0.31289593   | -0.23245942   | -0.28316734   | -0.339614451  | \n",
       "| SAT.Math.Avg..Score |  0.5331334413 |  0.88533510   |  1.00000000   |  0.89726578   |  0.95716715   | -0.65942184   |  0.426542094  |  0.443474950  |  0.70045179   | -0.38245867   | ⋯             | -0.284733076  | -0.277867996  | -0.20124201   | -0.314202922  | -0.308482325  | -0.26874363   | -0.35404077   | -0.24233167   | -0.29865150   | -0.366404561  | \n",
       "| SAT.Writing.Avg..Score |  0.4535350483 |  0.97574385   |  0.89726578   |  1.00000000   |  0.98280988   | -0.73564734   |  0.339004218  |  0.359466083  |  0.45517667   | -0.27124483   | ⋯             | -0.249040404  | -0.243108346  | -0.18711251   | -0.285001904  | -0.272983684  | -0.24356403   | -0.32797100   | -0.22082845   | -0.28205348   | -0.338429062  | \n",
       "| SAT.Total |  0.4921216748 |  0.97813146   |  0.95716715   |  0.98280988   |  1.00000000   | -0.73088461   |  0.379705447  |  0.400137542  |  0.55182067   | -0.30411878   | ⋯             | -0.274242612  | -0.261800158  | -0.20015700   | -0.305778443  | -0.294040201  | -0.26265962   | -0.34214667   | -0.23888947   | -0.29664931   | -0.358876414  | \n",
       "| frl_percent | -0.4178005949 | -0.74288570   | -0.65942184   | -0.73564734   | -0.73088461   |  1.00000000   | -0.361082684  | -0.375385393  | -0.35646248   |  0.06096413   | ⋯             |  0.262793948  |  0.214090831  |  0.14668488   |  0.257002572  |  0.241636522  |  0.26529138   |  0.30668998   |  0.21777122   |  0.28774766   |  0.339772097  | \n",
       "| total_enrollment |  0.9434688571 |  0.33460850   |  0.42654209   |  0.33900422   |  0.37970545   | -0.36108268   |  1.000000000  |  0.965569732  |  0.42151449   | -0.26599999   | ⋯             | -0.007477838  |  0.023054029  |  0.05493708   |  0.013943419  |  0.027392014  | -0.11372251   | -0.17814856   | -0.14989218   | -0.13734601   | -0.179944722  | \n",
       "| grade12 |  0.9591077842 |  0.35719878   |  0.44347495   |  0.35946608   |  0.40013754   | -0.37538539   |  0.965569732  |  1.000000000  |  0.44431115   | -0.25859887   | ⋯             | -0.035432950  | -0.002493121  |  0.03147505   | -0.009516831  | -0.001067625  | -0.11047452   | -0.17317247   | -0.15307829   | -0.13966580   | -0.178745565  | \n",
       "| asian_per |  0.5000504803 |  0.43296196   |  0.70045179   |  0.45517667   |  0.55182067   | -0.35646248   |  0.421514491  |  0.444311149  |  1.00000000   | -0.43503283   | ⋯             | -0.193512202  | -0.214097791  | -0.12337275   | -0.240201000  | -0.230821050  | -0.20342851   | -0.28803828   | -0.19244993   | -0.25434407   | -0.295454669  | \n",
       "| black_per | -0.2873957078 | -0.22162707   | -0.38245867   | -0.27124483   | -0.30411878   |  0.06096413   | -0.265999995  | -0.258598873  | -0.43503283   |  1.00000000   | ⋯             |  0.123852318  |  0.047436628  |  0.10607156   |  0.212271332  |  0.091366777  |  0.22000693   |  0.24693892   |  0.24695021   |  0.31981805   |  0.322329810  | \n",
       "| hispanic_per | -0.2241279338 | -0.37420633   | -0.36310162   | -0.35056632   | -0.37291965   |  0.54931474   | -0.173486946  | -0.195504756  | -0.33364930   | -0.57664901   | ⋯             |  0.124710605  |  0.193523929  |  0.05156060   |  0.061577090  |  0.173922714  |  0.02781647   |  0.07916824   | -0.01992436   | -0.03389594   |  0.019733139  | \n",
       "| white_per |  0.4129409378 |  0.61644531   |  0.61495514   |  0.64543379   |  0.64328165   | -0.71011245   |  0.367206234  |  0.366946254  |  0.33781891   | -0.41370435   | ⋯             | -0.251525672  | -0.201020817  | -0.15895140   | -0.252042201  | -0.231936710  | -0.25033054   | -0.29677055   | -0.22540334   | -0.27137622   | -0.328029931  | \n",
       "| male_per |  0.0344163099 | -0.12871011   | -0.01127681   | -0.16508625   | -0.10111403   |  0.07646482   |  0.079983902  |  0.098196927  |  0.05463444   | -0.01280128   | ⋯             |  0.110184489  |  0.156373356  |  0.04342304   |  0.097785870  |  0.148308236  |  0.04163968   |  0.09479987   | -0.05796507   |  0.01003662   |  0.034269736  | \n",
       "| Percent.SAT.Taken | -0.0004574561 | -0.05721803   |  0.09502070   | -0.01456642   |  0.01176188   |  0.08584653   | -0.025798858  | -0.040954628  |  0.19223468   | -0.07558759   | ⋯             |  0.020493617  | -0.032761847  |  0.02761552   | -0.038106705  | -0.024971070  |  0.02290565   | -0.03067000   |  0.03903594   | -0.03296829   | -0.003317657  | \n",
       "| Average.Class.Size |  0.3220708467 |  0.37032759   |  0.37736106   |  0.39841692   |  0.39295677   | -0.37916640   |  0.272934155  |  0.267439943  |  0.20278436   | -0.09118471   | ⋯             | -0.067690961  |  0.014214813  | -0.01133138   | -0.011148136  |  0.002805936  | -0.13123412   | -0.12429977   | -0.09538787   | -0.10476166   | -0.143673408  | \n",
       "| Major.N | -0.0545479607 | -0.26400627   | -0.28473308   | -0.24904040   | -0.27424261   |  0.26279395   | -0.007477838  | -0.035432950  | -0.19351220   |  0.12385232   | ⋯             |  1.000000000  |  0.570295234  |  0.63098677   |  0.672514668  |  0.699345950  |  0.65001809   |  0.23936244   |  0.29111944   |  0.31682046   |  0.475323716  | \n",
       "| NoCrim.N | -0.0271715457 | -0.23956416   | -0.27786800   | -0.24310835   | -0.26180016   |  0.21409083   |  0.023054029  | -0.002493121  | -0.21409779   |  0.04743663   | ⋯             |  0.570295234  |  1.000000000  |  0.54326395   |  0.582538885  |  0.972619294  |  0.15738545   |  0.36696098   |  0.07969096   |  0.11896159   |  0.233875123  | \n",
       "| Prop.N |  0.0260206380 | -0.19466743   | -0.20124201   | -0.18711251   | -0.20015700   |  0.14668488   |  0.054937077  |  0.031475049  | -0.12337275   |  0.10607156   | ⋯             |  0.630986773  |  0.543263952  |  1.00000000   |  0.493715210  |  0.682246181  |  0.24309654   |  0.09720616   |  0.56524240   |  0.11854150   |  0.295212667  | \n",
       "| Vio.N | -0.0296999450 | -0.29053590   | -0.31420292   | -0.28500190   | -0.30577844   |  0.25700257   |  0.013943419  | -0.009516831  | -0.24020100   |  0.21227133   | ⋯             |  0.672514668  |  0.582538885  |  0.49371521   |  1.000000000  |  0.711472975  |  0.30965976   |  0.18485884   |  0.14518303   |  0.54554369   |  0.379537555  | \n",
       "| All.N | -0.0250627109 | -0.27324993   | -0.30848232   | -0.27298368   | -0.29404020   |  0.24163652   |  0.027392014  | -0.001067625  | -0.23082105   |  0.09136678   | ⋯             |  0.699345950  |  0.972619294  |  0.68224618   |  0.711472975  |  1.000000000  |  0.24763250   |  0.33961037   |  0.18737218   |  0.20932680   |  0.311681498  | \n",
       "| Major.N.Odds | -0.1427024562 | -0.25217412   | -0.26874363   | -0.24356403   | -0.26265962   |  0.26529138   | -0.113722506  | -0.110474518  | -0.20342851   |  0.22000693   | ⋯             |  0.650018094  |  0.157385451  |  0.24309654   |  0.309659762  |  0.247632499  |  1.00000000   |  0.55618949   |  0.54355042   |  0.60908519   |  0.857285925  | \n",
       "| NoCrim.N.Odds | -0.2095350251 | -0.31289593   | -0.35404077   | -0.32797100   | -0.34214667   |  0.30668998   | -0.178148558  | -0.173172473  | -0.28803828   |  0.24693892   | ⋯             |  0.239362440  |  0.366960978  |  0.09720616   |  0.184858837  |  0.339610371  |  0.55618949   |  1.00000000   |  0.45491679   |  0.53302836   |  0.807903324  | \n",
       "| Prop.N.Odds | -0.1691534071 | -0.23245942   | -0.24233167   | -0.22082845   | -0.23888947   |  0.21777122   | -0.149892181  | -0.153078292  | -0.19244993   |  0.24695021   | ⋯             |  0.291119439  |  0.079690956  |  0.56524240   |  0.145183032  |  0.187372182  |  0.54355042   |  0.45491679   |  1.00000000   |  0.39539916   |  0.714929749  | \n",
       "| Vio.N.Odds | -0.1588561438 | -0.28316734   | -0.29865150   | -0.28205348   | -0.29664931   |  0.28774766   | -0.137346008  | -0.139665801  | -0.25434407   |  0.31981805   | ⋯             |  0.316820464  |  0.118961593  |  0.11854150   |  0.545543687  |  0.209326797  |  0.60908519   |  0.53302836   |  0.39539916   |  1.00000000   |  0.806846956  | \n",
       "| All.N.Odds | -0.2120011113 | -0.33961445   | -0.36640456   | -0.33842906   | -0.35887641   |  0.33977210   | -0.179944722  | -0.178745565  | -0.29545467   |  0.32232981   | ⋯             |  0.475323716  |  0.233875123  |  0.29521267   |  0.379537555  |  0.311681498  |  0.85728592   |  0.80790332   |  0.71492975   |  0.80684696   |  1.000000000  | \n",
       "\n",
       "\n"
      ],
      "text/plain": [
       "                                Num.of.SAT.Test.Takers\n",
       "Num.of.SAT.Test.Takers           1.0000000000         \n",
       "SAT.Critical.Reading.Avg..Score  0.4415379186         \n",
       "SAT.Math.Avg..Score              0.5331334413         \n",
       "SAT.Writing.Avg..Score           0.4535350483         \n",
       "SAT.Total                        0.4921216748         \n",
       "frl_percent                     -0.4178005949         \n",
       "total_enrollment                 0.9434688571         \n",
       "grade12                          0.9591077842         \n",
       "asian_per                        0.5000504803         \n",
       "black_per                       -0.2873957078         \n",
       "hispanic_per                    -0.2241279338         \n",
       "white_per                        0.4129409378         \n",
       "male_per                         0.0344163099         \n",
       "Percent.SAT.Taken               -0.0004574561         \n",
       "Average.Class.Size               0.3220708467         \n",
       "Major.N                         -0.0545479607         \n",
       "NoCrim.N                        -0.0271715457         \n",
       "Prop.N                           0.0260206380         \n",
       "Vio.N                           -0.0296999450         \n",
       "All.N                           -0.0250627109         \n",
       "Major.N.Odds                    -0.1427024562         \n",
       "NoCrim.N.Odds                   -0.2095350251         \n",
       "Prop.N.Odds                     -0.1691534071         \n",
       "Vio.N.Odds                      -0.1588561438         \n",
       "All.N.Odds                      -0.2120011113         \n",
       "                                SAT.Critical.Reading.Avg..Score\n",
       "Num.of.SAT.Test.Takers           0.44153792                    \n",
       "SAT.Critical.Reading.Avg..Score  1.00000000                    \n",
       "SAT.Math.Avg..Score              0.88533510                    \n",
       "SAT.Writing.Avg..Score           0.97574385                    \n",
       "SAT.Total                        0.97813146                    \n",
       "frl_percent                     -0.74288570                    \n",
       "total_enrollment                 0.33460850                    \n",
       "grade12                          0.35719878                    \n",
       "asian_per                        0.43296196                    \n",
       "black_per                       -0.22162707                    \n",
       "hispanic_per                    -0.37420633                    \n",
       "white_per                        0.61644531                    \n",
       "male_per                        -0.12871011                    \n",
       "Percent.SAT.Taken               -0.05721803                    \n",
       "Average.Class.Size               0.37032759                    \n",
       "Major.N                         -0.26400627                    \n",
       "NoCrim.N                        -0.23956416                    \n",
       "Prop.N                          -0.19466743                    \n",
       "Vio.N                           -0.29053590                    \n",
       "All.N                           -0.27324993                    \n",
       "Major.N.Odds                    -0.25217412                    \n",
       "NoCrim.N.Odds                   -0.31289593                    \n",
       "Prop.N.Odds                     -0.23245942                    \n",
       "Vio.N.Odds                      -0.28316734                    \n",
       "All.N.Odds                      -0.33961445                    \n",
       "                                SAT.Math.Avg..Score SAT.Writing.Avg..Score\n",
       "Num.of.SAT.Test.Takers           0.53313344          0.45353505           \n",
       "SAT.Critical.Reading.Avg..Score  0.88533510          0.97574385           \n",
       "SAT.Math.Avg..Score              1.00000000          0.89726578           \n",
       "SAT.Writing.Avg..Score           0.89726578          1.00000000           \n",
       "SAT.Total                        0.95716715          0.98280988           \n",
       "frl_percent                     -0.65942184         -0.73564734           \n",
       "total_enrollment                 0.42654209          0.33900422           \n",
       "grade12                          0.44347495          0.35946608           \n",
       "asian_per                        0.70045179          0.45517667           \n",
       "black_per                       -0.38245867         -0.27124483           \n",
       "hispanic_per                    -0.36310162         -0.35056632           \n",
       "white_per                        0.61495514          0.64543379           \n",
       "male_per                        -0.01127681         -0.16508625           \n",
       "Percent.SAT.Taken                0.09502070         -0.01456642           \n",
       "Average.Class.Size               0.37736106          0.39841692           \n",
       "Major.N                         -0.28473308         -0.24904040           \n",
       "NoCrim.N                        -0.27786800         -0.24310835           \n",
       "Prop.N                          -0.20124201         -0.18711251           \n",
       "Vio.N                           -0.31420292         -0.28500190           \n",
       "All.N                           -0.30848232         -0.27298368           \n",
       "Major.N.Odds                    -0.26874363         -0.24356403           \n",
       "NoCrim.N.Odds                   -0.35404077         -0.32797100           \n",
       "Prop.N.Odds                     -0.24233167         -0.22082845           \n",
       "Vio.N.Odds                      -0.29865150         -0.28205348           \n",
       "All.N.Odds                      -0.36640456         -0.33842906           \n",
       "                                SAT.Total   frl_percent total_enrollment\n",
       "Num.of.SAT.Test.Takers           0.49212167 -0.41780059  0.943468857    \n",
       "SAT.Critical.Reading.Avg..Score  0.97813146 -0.74288570  0.334608501    \n",
       "SAT.Math.Avg..Score              0.95716715 -0.65942184  0.426542094    \n",
       "SAT.Writing.Avg..Score           0.98280988 -0.73564734  0.339004218    \n",
       "SAT.Total                        1.00000000 -0.73088461  0.379705447    \n",
       "frl_percent                     -0.73088461  1.00000000 -0.361082684    \n",
       "total_enrollment                 0.37970545 -0.36108268  1.000000000    \n",
       "grade12                          0.40013754 -0.37538539  0.965569732    \n",
       "asian_per                        0.55182067 -0.35646248  0.421514491    \n",
       "black_per                       -0.30411878  0.06096413 -0.265999995    \n",
       "hispanic_per                    -0.37291965  0.54931474 -0.173486946    \n",
       "white_per                        0.64328165 -0.71011245  0.367206234    \n",
       "male_per                        -0.10111403  0.07646482  0.079983902    \n",
       "Percent.SAT.Taken                0.01176188  0.08584653 -0.025798858    \n",
       "Average.Class.Size               0.39295677 -0.37916640  0.272934155    \n",
       "Major.N                         -0.27424261  0.26279395 -0.007477838    \n",
       "NoCrim.N                        -0.26180016  0.21409083  0.023054029    \n",
       "Prop.N                          -0.20015700  0.14668488  0.054937077    \n",
       "Vio.N                           -0.30577844  0.25700257  0.013943419    \n",
       "All.N                           -0.29404020  0.24163652  0.027392014    \n",
       "Major.N.Odds                    -0.26265962  0.26529138 -0.113722506    \n",
       "NoCrim.N.Odds                   -0.34214667  0.30668998 -0.178148558    \n",
       "Prop.N.Odds                     -0.23888947  0.21777122 -0.149892181    \n",
       "Vio.N.Odds                      -0.29664931  0.28774766 -0.137346008    \n",
       "All.N.Odds                      -0.35887641  0.33977210 -0.179944722    \n",
       "                                grade12      asian_per   black_per   ⋯\n",
       "Num.of.SAT.Test.Takers           0.959107784  0.50005048 -0.28739571 ⋯\n",
       "SAT.Critical.Reading.Avg..Score  0.357198783  0.43296196 -0.22162707 ⋯\n",
       "SAT.Math.Avg..Score              0.443474950  0.70045179 -0.38245867 ⋯\n",
       "SAT.Writing.Avg..Score           0.359466083  0.45517667 -0.27124483 ⋯\n",
       "SAT.Total                        0.400137542  0.55182067 -0.30411878 ⋯\n",
       "frl_percent                     -0.375385393 -0.35646248  0.06096413 ⋯\n",
       "total_enrollment                 0.965569732  0.42151449 -0.26599999 ⋯\n",
       "grade12                          1.000000000  0.44431115 -0.25859887 ⋯\n",
       "asian_per                        0.444311149  1.00000000 -0.43503283 ⋯\n",
       "black_per                       -0.258598873 -0.43503283  1.00000000 ⋯\n",
       "hispanic_per                    -0.195504756 -0.33364930 -0.57664901 ⋯\n",
       "white_per                        0.366946254  0.33781891 -0.41370435 ⋯\n",
       "male_per                         0.098196927  0.05463444 -0.01280128 ⋯\n",
       "Percent.SAT.Taken               -0.040954628  0.19223468 -0.07558759 ⋯\n",
       "Average.Class.Size               0.267439943  0.20278436 -0.09118471 ⋯\n",
       "Major.N                         -0.035432950 -0.19351220  0.12385232 ⋯\n",
       "NoCrim.N                        -0.002493121 -0.21409779  0.04743663 ⋯\n",
       "Prop.N                           0.031475049 -0.12337275  0.10607156 ⋯\n",
       "Vio.N                           -0.009516831 -0.24020100  0.21227133 ⋯\n",
       "All.N                           -0.001067625 -0.23082105  0.09136678 ⋯\n",
       "Major.N.Odds                    -0.110474518 -0.20342851  0.22000693 ⋯\n",
       "NoCrim.N.Odds                   -0.173172473 -0.28803828  0.24693892 ⋯\n",
       "Prop.N.Odds                     -0.153078292 -0.19244993  0.24695021 ⋯\n",
       "Vio.N.Odds                      -0.139665801 -0.25434407  0.31981805 ⋯\n",
       "All.N.Odds                      -0.178745565 -0.29545467  0.32232981 ⋯\n",
       "                                Major.N      NoCrim.N     Prop.N     \n",
       "Num.of.SAT.Test.Takers          -0.054547961 -0.027171546  0.02602064\n",
       "SAT.Critical.Reading.Avg..Score -0.264006269 -0.239564164 -0.19466743\n",
       "SAT.Math.Avg..Score             -0.284733076 -0.277867996 -0.20124201\n",
       "SAT.Writing.Avg..Score          -0.249040404 -0.243108346 -0.18711251\n",
       "SAT.Total                       -0.274242612 -0.261800158 -0.20015700\n",
       "frl_percent                      0.262793948  0.214090831  0.14668488\n",
       "total_enrollment                -0.007477838  0.023054029  0.05493708\n",
       "grade12                         -0.035432950 -0.002493121  0.03147505\n",
       "asian_per                       -0.193512202 -0.214097791 -0.12337275\n",
       "black_per                        0.123852318  0.047436628  0.10607156\n",
       "hispanic_per                     0.124710605  0.193523929  0.05156060\n",
       "white_per                       -0.251525672 -0.201020817 -0.15895140\n",
       "male_per                         0.110184489  0.156373356  0.04342304\n",
       "Percent.SAT.Taken                0.020493617 -0.032761847  0.02761552\n",
       "Average.Class.Size              -0.067690961  0.014214813 -0.01133138\n",
       "Major.N                          1.000000000  0.570295234  0.63098677\n",
       "NoCrim.N                         0.570295234  1.000000000  0.54326395\n",
       "Prop.N                           0.630986773  0.543263952  1.00000000\n",
       "Vio.N                            0.672514668  0.582538885  0.49371521\n",
       "All.N                            0.699345950  0.972619294  0.68224618\n",
       "Major.N.Odds                     0.650018094  0.157385451  0.24309654\n",
       "NoCrim.N.Odds                    0.239362440  0.366960978  0.09720616\n",
       "Prop.N.Odds                      0.291119439  0.079690956  0.56524240\n",
       "Vio.N.Odds                       0.316820464  0.118961593  0.11854150\n",
       "All.N.Odds                       0.475323716  0.233875123  0.29521267\n",
       "                                Vio.N        All.N        Major.N.Odds\n",
       "Num.of.SAT.Test.Takers          -0.029699945 -0.025062711 -0.14270246 \n",
       "SAT.Critical.Reading.Avg..Score -0.290535896 -0.273249932 -0.25217412 \n",
       "SAT.Math.Avg..Score             -0.314202922 -0.308482325 -0.26874363 \n",
       "SAT.Writing.Avg..Score          -0.285001904 -0.272983684 -0.24356403 \n",
       "SAT.Total                       -0.305778443 -0.294040201 -0.26265962 \n",
       "frl_percent                      0.257002572  0.241636522  0.26529138 \n",
       "total_enrollment                 0.013943419  0.027392014 -0.11372251 \n",
       "grade12                         -0.009516831 -0.001067625 -0.11047452 \n",
       "asian_per                       -0.240201000 -0.230821050 -0.20342851 \n",
       "black_per                        0.212271332  0.091366777  0.22000693 \n",
       "hispanic_per                     0.061577090  0.173922714  0.02781647 \n",
       "white_per                       -0.252042201 -0.231936710 -0.25033054 \n",
       "male_per                         0.097785870  0.148308236  0.04163968 \n",
       "Percent.SAT.Taken               -0.038106705 -0.024971070  0.02290565 \n",
       "Average.Class.Size              -0.011148136  0.002805936 -0.13123412 \n",
       "Major.N                          0.672514668  0.699345950  0.65001809 \n",
       "NoCrim.N                         0.582538885  0.972619294  0.15738545 \n",
       "Prop.N                           0.493715210  0.682246181  0.24309654 \n",
       "Vio.N                            1.000000000  0.711472975  0.30965976 \n",
       "All.N                            0.711472975  1.000000000  0.24763250 \n",
       "Major.N.Odds                     0.309659762  0.247632499  1.00000000 \n",
       "NoCrim.N.Odds                    0.184858837  0.339610371  0.55618949 \n",
       "Prop.N.Odds                      0.145183032  0.187372182  0.54355042 \n",
       "Vio.N.Odds                       0.545543687  0.209326797  0.60908519 \n",
       "All.N.Odds                       0.379537555  0.311681498  0.85728592 \n",
       "                                NoCrim.N.Odds Prop.N.Odds Vio.N.Odds \n",
       "Num.of.SAT.Test.Takers          -0.20953503   -0.16915341 -0.15885614\n",
       "SAT.Critical.Reading.Avg..Score -0.31289593   -0.23245942 -0.28316734\n",
       "SAT.Math.Avg..Score             -0.35404077   -0.24233167 -0.29865150\n",
       "SAT.Writing.Avg..Score          -0.32797100   -0.22082845 -0.28205348\n",
       "SAT.Total                       -0.34214667   -0.23888947 -0.29664931\n",
       "frl_percent                      0.30668998    0.21777122  0.28774766\n",
       "total_enrollment                -0.17814856   -0.14989218 -0.13734601\n",
       "grade12                         -0.17317247   -0.15307829 -0.13966580\n",
       "asian_per                       -0.28803828   -0.19244993 -0.25434407\n",
       "black_per                        0.24693892    0.24695021  0.31981805\n",
       "hispanic_per                     0.07916824   -0.01992436 -0.03389594\n",
       "white_per                       -0.29677055   -0.22540334 -0.27137622\n",
       "male_per                         0.09479987   -0.05796507  0.01003662\n",
       "Percent.SAT.Taken               -0.03067000    0.03903594 -0.03296829\n",
       "Average.Class.Size              -0.12429977   -0.09538787 -0.10476166\n",
       "Major.N                          0.23936244    0.29111944  0.31682046\n",
       "NoCrim.N                         0.36696098    0.07969096  0.11896159\n",
       "Prop.N                           0.09720616    0.56524240  0.11854150\n",
       "Vio.N                            0.18485884    0.14518303  0.54554369\n",
       "All.N                            0.33961037    0.18737218  0.20932680\n",
       "Major.N.Odds                     0.55618949    0.54355042  0.60908519\n",
       "NoCrim.N.Odds                    1.00000000    0.45491679  0.53302836\n",
       "Prop.N.Odds                      0.45491679    1.00000000  0.39539916\n",
       "Vio.N.Odds                       0.53302836    0.39539916  1.00000000\n",
       "All.N.Odds                       0.80790332    0.71492975  0.80684696\n",
       "                                All.N.Odds  \n",
       "Num.of.SAT.Test.Takers          -0.212001111\n",
       "SAT.Critical.Reading.Avg..Score -0.339614451\n",
       "SAT.Math.Avg..Score             -0.366404561\n",
       "SAT.Writing.Avg..Score          -0.338429062\n",
       "SAT.Total                       -0.358876414\n",
       "frl_percent                      0.339772097\n",
       "total_enrollment                -0.179944722\n",
       "grade12                         -0.178745565\n",
       "asian_per                       -0.295454669\n",
       "black_per                        0.322329810\n",
       "hispanic_per                     0.019733139\n",
       "white_per                       -0.328029931\n",
       "male_per                         0.034269736\n",
       "Percent.SAT.Taken               -0.003317657\n",
       "Average.Class.Size              -0.143673408\n",
       "Major.N                          0.475323716\n",
       "NoCrim.N                         0.233875123\n",
       "Prop.N                           0.295212667\n",
       "Vio.N                            0.379537555\n",
       "All.N                            0.311681498\n",
       "Major.N.Odds                     0.857285925\n",
       "NoCrim.N.Odds                    0.807903324\n",
       "Prop.N.Odds                      0.714929749\n",
       "Vio.N.Odds                       0.806846956\n",
       "All.N.Odds                       1.000000000"
      ]
     },
     "metadata": {},
     "output_type": "display_data"
    }
   ],
   "source": [
    "cor(df[3:length(df)])"
   ]
  },
  {
   "cell_type": "markdown",
   "metadata": {},
   "source": [
    "We can clean the table up and only look at our key variables to make it easier."
   ]
  },
  {
   "cell_type": "code",
   "execution_count": 109,
   "metadata": {},
   "outputs": [],
   "source": [
    "keep <- c(\"SAT.Total\", \"SAT.Critical.Reading.Avg..Score\", \"SAT.Math.Avg..Score\", \"SAT.Writing.Avg..Score\", \n",
    "          \"frl_percent\", \"white_per\", \"hispanic_per\", \"black_per\", \"asian_per\", \"Average.Class.Size\", \"All.N.Odds\")\n",
    "table <- na.omit(df[keep])"
   ]
  },
  {
   "cell_type": "code",
   "execution_count": 110,
   "metadata": {},
   "outputs": [
    {
     "data": {
      "text/html": [
       "<table>\n",
       "<thead><tr><th></th><th scope=col>SAT.Total</th><th scope=col>Critical.Reading</th><th scope=col>Math</th><th scope=col>Writing</th></tr></thead>\n",
       "<tbody>\n",
       "\t<tr><th scope=row>frl_percent</th><td>-0.7308846</td><td>-0.7428857</td><td>-0.6594218</td><td>-0.7356473</td></tr>\n",
       "\t<tr><th scope=row>white_per</th><td> 0.6432816</td><td> 0.6164453</td><td> 0.6149551</td><td> 0.6454338</td></tr>\n",
       "\t<tr><th scope=row>hispanic_per</th><td>-0.3729197</td><td>-0.3742063</td><td>-0.3631016</td><td>-0.3505663</td></tr>\n",
       "\t<tr><th scope=row>black_per</th><td>-0.3041188</td><td>-0.2216271</td><td>-0.3824587</td><td>-0.2712448</td></tr>\n",
       "\t<tr><th scope=row>asian_per</th><td> 0.5518207</td><td> 0.4329620</td><td> 0.7004518</td><td> 0.4551767</td></tr>\n",
       "\t<tr><th scope=row>Average.Class.Size</th><td> 0.3929568</td><td> 0.3703276</td><td> 0.3773611</td><td> 0.3984169</td></tr>\n",
       "\t<tr><th scope=row>All.N.Odds</th><td>-0.3588764</td><td>-0.3396145</td><td>-0.3664046</td><td>-0.3384291</td></tr>\n",
       "</tbody>\n",
       "</table>\n"
      ],
      "text/latex": [
       "\\begin{tabular}{r|llll}\n",
       "  & SAT.Total & Critical.Reading & Math & Writing\\\\\n",
       "\\hline\n",
       "\tfrl\\_percent & -0.7308846 & -0.7428857 & -0.6594218 & -0.7356473\\\\\n",
       "\twhite\\_per &  0.6432816 &  0.6164453 &  0.6149551 &  0.6454338\\\\\n",
       "\thispanic\\_per & -0.3729197 & -0.3742063 & -0.3631016 & -0.3505663\\\\\n",
       "\tblack\\_per & -0.3041188 & -0.2216271 & -0.3824587 & -0.2712448\\\\\n",
       "\tasian\\_per &  0.5518207 &  0.4329620 &  0.7004518 &  0.4551767\\\\\n",
       "\tAverage.Class.Size &  0.3929568 &  0.3703276 &  0.3773611 &  0.3984169\\\\\n",
       "\tAll.N.Odds & -0.3588764 & -0.3396145 & -0.3664046 & -0.3384291\\\\\n",
       "\\end{tabular}\n"
      ],
      "text/markdown": [
       "\n",
       "| <!--/--> | SAT.Total | Critical.Reading | Math | Writing | \n",
       "|---|---|---|---|---|---|---|\n",
       "| frl_percent | -0.7308846 | -0.7428857 | -0.6594218 | -0.7356473 | \n",
       "| white_per |  0.6432816 |  0.6164453 |  0.6149551 |  0.6454338 | \n",
       "| hispanic_per | -0.3729197 | -0.3742063 | -0.3631016 | -0.3505663 | \n",
       "| black_per | -0.3041188 | -0.2216271 | -0.3824587 | -0.2712448 | \n",
       "| asian_per |  0.5518207 |  0.4329620 |  0.7004518 |  0.4551767 | \n",
       "| Average.Class.Size |  0.3929568 |  0.3703276 |  0.3773611 |  0.3984169 | \n",
       "| All.N.Odds | -0.3588764 | -0.3396145 | -0.3664046 | -0.3384291 | \n",
       "\n",
       "\n"
      ],
      "text/plain": [
       "                   SAT.Total  Critical.Reading Math       Writing   \n",
       "frl_percent        -0.7308846 -0.7428857       -0.6594218 -0.7356473\n",
       "white_per           0.6432816  0.6164453        0.6149551  0.6454338\n",
       "hispanic_per       -0.3729197 -0.3742063       -0.3631016 -0.3505663\n",
       "black_per          -0.3041188 -0.2216271       -0.3824587 -0.2712448\n",
       "asian_per           0.5518207  0.4329620        0.7004518  0.4551767\n",
       "Average.Class.Size  0.3929568  0.3703276        0.3773611  0.3984169\n",
       "All.N.Odds         -0.3588764 -0.3396145       -0.3664046 -0.3384291"
      ]
     },
     "metadata": {},
     "output_type": "display_data"
    }
   ],
   "source": [
    "fin.table <- cor(table)[5:11,1:4]\n",
    "colnames(fin.table)[colnames(fin.table)==\"SAT.Critical.Reading.Avg..Score\"] = \"Critical.Reading\"\n",
    "colnames(fin.table)[colnames(fin.table)==\"SAT.Math.Avg..Score\"] = \"Math\"\n",
    "colnames(fin.table)[colnames(fin.table)==\"SAT.Writing.Avg..Score\"] = \"Writing\"\n",
    "fin.table"
   ]
  },
  {
   "cell_type": "markdown",
   "metadata": {},
   "source": [
    "And then for all pairwise correlations of these variables:"
   ]
  },
  {
   "cell_type": "code",
   "execution_count": 111,
   "metadata": {},
   "outputs": [
    {
     "data": {
      "text/html": [
       "<table>\n",
       "<thead><tr><th></th><th scope=col>frl_percent</th><th scope=col>white_per</th><th scope=col>hispanic_per</th><th scope=col>black_per</th><th scope=col>asian_per</th><th scope=col>Average.Class.Size</th><th scope=col>All.N.Odds</th></tr></thead>\n",
       "<tbody>\n",
       "\t<tr><th scope=row>frl_percent</th><td> 1.00000000</td><td>-0.7101125 </td><td> 0.54931474</td><td> 0.06096413</td><td>-0.3564625 </td><td>-0.37916640</td><td> 0.33977210</td></tr>\n",
       "\t<tr><th scope=row>white_per</th><td>-0.71011245</td><td> 1.0000000 </td><td>-0.31677757</td><td>-0.41370435</td><td> 0.3378189 </td><td> 0.28707592</td><td>-0.32802993</td></tr>\n",
       "\t<tr><th scope=row>hispanic_per</th><td> 0.54931474</td><td>-0.3167776 </td><td> 1.00000000</td><td>-0.57664901</td><td>-0.3336493 </td><td>-0.18776854</td><td> 0.01973314</td></tr>\n",
       "\t<tr><th scope=row>black_per</th><td> 0.06096413</td><td>-0.4137044 </td><td>-0.57664901</td><td> 1.00000000</td><td>-0.4350328 </td><td>-0.09118471</td><td> 0.32232981</td></tr>\n",
       "\t<tr><th scope=row>asian_per</th><td>-0.35646248</td><td> 0.3378189 </td><td>-0.33364930</td><td>-0.43503283</td><td> 1.0000000 </td><td> 0.20278436</td><td>-0.29545467</td></tr>\n",
       "\t<tr><th scope=row>Average.Class.Size</th><td>-0.37916640</td><td> 0.2870759 </td><td>-0.18776854</td><td>-0.09118471</td><td> 0.2027844 </td><td> 1.00000000</td><td>-0.14367341</td></tr>\n",
       "\t<tr><th scope=row>All.N.Odds</th><td> 0.33977210</td><td>-0.3280299 </td><td> 0.01973314</td><td> 0.32232981</td><td>-0.2954547 </td><td>-0.14367341</td><td> 1.00000000</td></tr>\n",
       "</tbody>\n",
       "</table>\n"
      ],
      "text/latex": [
       "\\begin{tabular}{r|lllllll}\n",
       "  & frl\\_percent & white\\_per & hispanic\\_per & black\\_per & asian\\_per & Average.Class.Size & All.N.Odds\\\\\n",
       "\\hline\n",
       "\tfrl\\_percent &  1.00000000 & -0.7101125  &  0.54931474 &  0.06096413 & -0.3564625  & -0.37916640 &  0.33977210\\\\\n",
       "\twhite\\_per & -0.71011245 &  1.0000000  & -0.31677757 & -0.41370435 &  0.3378189  &  0.28707592 & -0.32802993\\\\\n",
       "\thispanic\\_per &  0.54931474 & -0.3167776  &  1.00000000 & -0.57664901 & -0.3336493  & -0.18776854 &  0.01973314\\\\\n",
       "\tblack\\_per &  0.06096413 & -0.4137044  & -0.57664901 &  1.00000000 & -0.4350328  & -0.09118471 &  0.32232981\\\\\n",
       "\tasian\\_per & -0.35646248 &  0.3378189  & -0.33364930 & -0.43503283 &  1.0000000  &  0.20278436 & -0.29545467\\\\\n",
       "\tAverage.Class.Size & -0.37916640 &  0.2870759  & -0.18776854 & -0.09118471 &  0.2027844  &  1.00000000 & -0.14367341\\\\\n",
       "\tAll.N.Odds &  0.33977210 & -0.3280299  &  0.01973314 &  0.32232981 & -0.2954547  & -0.14367341 &  1.00000000\\\\\n",
       "\\end{tabular}\n"
      ],
      "text/markdown": [
       "\n",
       "| <!--/--> | frl_percent | white_per | hispanic_per | black_per | asian_per | Average.Class.Size | All.N.Odds | \n",
       "|---|---|---|---|---|---|---|\n",
       "| frl_percent |  1.00000000 | -0.7101125  |  0.54931474 |  0.06096413 | -0.3564625  | -0.37916640 |  0.33977210 | \n",
       "| white_per | -0.71011245 |  1.0000000  | -0.31677757 | -0.41370435 |  0.3378189  |  0.28707592 | -0.32802993 | \n",
       "| hispanic_per |  0.54931474 | -0.3167776  |  1.00000000 | -0.57664901 | -0.3336493  | -0.18776854 |  0.01973314 | \n",
       "| black_per |  0.06096413 | -0.4137044  | -0.57664901 |  1.00000000 | -0.4350328  | -0.09118471 |  0.32232981 | \n",
       "| asian_per | -0.35646248 |  0.3378189  | -0.33364930 | -0.43503283 |  1.0000000  |  0.20278436 | -0.29545467 | \n",
       "| Average.Class.Size | -0.37916640 |  0.2870759  | -0.18776854 | -0.09118471 |  0.2027844  |  1.00000000 | -0.14367341 | \n",
       "| All.N.Odds |  0.33977210 | -0.3280299  |  0.01973314 |  0.32232981 | -0.2954547  | -0.14367341 |  1.00000000 | \n",
       "\n",
       "\n"
      ],
      "text/plain": [
       "                   frl_percent white_per  hispanic_per black_per   asian_per \n",
       "frl_percent         1.00000000 -0.7101125  0.54931474   0.06096413 -0.3564625\n",
       "white_per          -0.71011245  1.0000000 -0.31677757  -0.41370435  0.3378189\n",
       "hispanic_per        0.54931474 -0.3167776  1.00000000  -0.57664901 -0.3336493\n",
       "black_per           0.06096413 -0.4137044 -0.57664901   1.00000000 -0.4350328\n",
       "asian_per          -0.35646248  0.3378189 -0.33364930  -0.43503283  1.0000000\n",
       "Average.Class.Size -0.37916640  0.2870759 -0.18776854  -0.09118471  0.2027844\n",
       "All.N.Odds          0.33977210 -0.3280299  0.01973314   0.32232981 -0.2954547\n",
       "                   Average.Class.Size All.N.Odds \n",
       "frl_percent        -0.37916640         0.33977210\n",
       "white_per           0.28707592        -0.32802993\n",
       "hispanic_per       -0.18776854         0.01973314\n",
       "black_per          -0.09118471         0.32232981\n",
       "asian_per           0.20278436        -0.29545467\n",
       "Average.Class.Size  1.00000000        -0.14367341\n",
       "All.N.Odds         -0.14367341         1.00000000"
      ]
     },
     "metadata": {},
     "output_type": "display_data"
    }
   ],
   "source": [
    "cor(table)[5:11,5:11]"
   ]
  },
  {
   "cell_type": "markdown",
   "metadata": {},
   "source": [
    "We can do the same to create summary statistics."
   ]
  },
  {
   "cell_type": "code",
   "execution_count": 112,
   "metadata": {
    "scrolled": true
   },
   "outputs": [
    {
     "data": {
      "text/html": [
       "<table>\n",
       "<thead><tr><th></th><th scope=col>1st Qu.</th><th scope=col>Median</th><th scope=col>Mean</th><th scope=col>3rd Qu.</th></tr></thead>\n",
       "<tbody>\n",
       "\t<tr><th scope=row>frl_percent</th><td>59.450000</td><td>70.400000</td><td>67.146240</td><td>76.95000 </td></tr>\n",
       "\t<tr><th scope=row>white_per</th><td> 0.900000</td><td> 1.800000</td><td> 7.181337</td><td> 6.90000 </td></tr>\n",
       "\t<tr><th scope=row>hispanic_per</th><td>19.050000</td><td>45.100000</td><td>43.381616</td><td>63.50000 </td></tr>\n",
       "\t<tr><th scope=row>black_per</th><td>20.000000</td><td>32.500000</td><td>39.188022</td><td>57.95000 </td></tr>\n",
       "\t<tr><th scope=row>asian_per</th><td> 1.000000</td><td> 3.100000</td><td> 9.515042</td><td> 9.40000 </td></tr>\n",
       "\t<tr><th scope=row>Average.Class.Size</th><td>21.790208</td><td>23.732143</td><td>23.764347</td><td>25.83182 </td></tr>\n",
       "\t<tr><th scope=row>All.N.Odds</th><td> 3.594081</td><td> 6.900783</td><td> 8.717174</td><td>11.03944 </td></tr>\n",
       "</tbody>\n",
       "</table>\n"
      ],
      "text/latex": [
       "\\begin{tabular}{r|llll}\n",
       "  & 1st Qu. & Median & Mean & 3rd Qu.\\\\\n",
       "\\hline\n",
       "\tfrl\\_percent & 59.450000 & 70.400000 & 67.146240 & 76.95000 \\\\\n",
       "\twhite\\_per &  0.900000 &  1.800000 &  7.181337 &  6.90000 \\\\\n",
       "\thispanic\\_per & 19.050000 & 45.100000 & 43.381616 & 63.50000 \\\\\n",
       "\tblack\\_per & 20.000000 & 32.500000 & 39.188022 & 57.95000 \\\\\n",
       "\tasian\\_per &  1.000000 &  3.100000 &  9.515042 &  9.40000 \\\\\n",
       "\tAverage.Class.Size & 21.790208 & 23.732143 & 23.764347 & 25.83182 \\\\\n",
       "\tAll.N.Odds &  3.594081 &  6.900783 &  8.717174 & 11.03944 \\\\\n",
       "\\end{tabular}\n"
      ],
      "text/markdown": [
       "\n",
       "| <!--/--> | 1st Qu. | Median | Mean | 3rd Qu. | \n",
       "|---|---|---|---|---|---|---|\n",
       "| frl_percent | 59.450000 | 70.400000 | 67.146240 | 76.95000  | \n",
       "| white_per |  0.900000 |  1.800000 |  7.181337 |  6.90000  | \n",
       "| hispanic_per | 19.050000 | 45.100000 | 43.381616 | 63.50000  | \n",
       "| black_per | 20.000000 | 32.500000 | 39.188022 | 57.95000  | \n",
       "| asian_per |  1.000000 |  3.100000 |  9.515042 |  9.40000  | \n",
       "| Average.Class.Size | 21.790208 | 23.732143 | 23.764347 | 25.83182  | \n",
       "| All.N.Odds |  3.594081 |  6.900783 |  8.717174 | 11.03944  | \n",
       "\n",
       "\n"
      ],
      "text/plain": [
       "                   1st Qu.   Median    Mean      3rd Qu. \n",
       "frl_percent        59.450000 70.400000 67.146240 76.95000\n",
       "white_per           0.900000  1.800000  7.181337  6.90000\n",
       "hispanic_per       19.050000 45.100000 43.381616 63.50000\n",
       "black_per          20.000000 32.500000 39.188022 57.95000\n",
       "asian_per           1.000000  3.100000  9.515042  9.40000\n",
       "Average.Class.Size 21.790208 23.732143 23.764347 25.83182\n",
       "All.N.Odds          3.594081  6.900783  8.717174 11.03944"
      ]
     },
     "metadata": {},
     "output_type": "display_data"
    }
   ],
   "source": [
    "quants <- rbind((summary(df[df$All.N.Odds>0,]$frl_percent)), summary(df[df$All.N.Odds>0,]$white_per),\n",
    "      summary(df[df$All.N.Odds>0,]$hispanic_per), summary(df[df$All.N.Odds>0,]$black_per),\n",
    "      summary(df[df$All.N.Odds>0,]$asian_per), summary(df[df$All.N.Odds>0,]$Average.Class.Size),\n",
    "      summary(df[df$All.N.Odds>0,]$All.N.Odds))\n",
    "quants <- quants[,2:5]\n",
    "fin.table <- cbind(fin.table, quants)\n",
    "\n",
    "fin.table[,5:8]"
   ]
  },
  {
   "cell_type": "markdown",
   "metadata": {},
   "source": [
    "We can also try logarithmic models to see how they perform. For the crimes variable, we need to select an imputation method for all rows with 0 crimes. I will choose to replace all 0 values with the dataset's minimum. We are fitting a purely linear model so we are looking to create shapes that are the most linear."
   ]
  },
  {
   "cell_type": "code",
   "execution_count": 113,
   "metadata": {},
   "outputs": [
    {
     "data": {
      "image/png": "[encoded data removed]",
      "text/plain": [
       "plot without title"
      ]
     },
     "metadata": {},
     "output_type": "display_data"
    }
   ],
   "source": [
    "df[df$All.N.Odds==0,]$All.N.Odds = min(df[df$All.N.Odds>0,]$All.N.Odds)\n",
    "df$All.N.Odds.Log <- log(df$All.N.Odds)\n",
    "df$logFRL <- log(df$frl_percent)\n",
    "\n",
    "par(mfrow=c(2,2))\n",
    "plot(df$All.N.Odds, df$SAT.Total, )\n",
    "plot(df$All.N.Odds.Log, df$SAT.Total)\n",
    "plot(df$frl_percent, df$SAT.Total, )\n",
    "plot(df$logFRL, df$SAT.Total)"
   ]
  },
  {
   "cell_type": "code",
   "execution_count": 114,
   "metadata": {},
   "outputs": [
    {
     "data": {
      "text/html": [
       "<table>\n",
       "<thead><tr><th></th><th scope=col>SAT.Total</th><th scope=col>Critical.Reading</th><th scope=col>Math</th><th scope=col>Writing</th></tr></thead>\n",
       "<tbody>\n",
       "\t<tr><th scope=row>frl_percent</th><td>-0.7308846</td><td>-0.7428857</td><td>-0.6594218</td><td>-0.7356473</td></tr>\n",
       "\t<tr><th scope=row>white_per</th><td> 0.6432816</td><td> 0.6164453</td><td> 0.6149551</td><td> 0.6454338</td></tr>\n",
       "\t<tr><th scope=row>hispanic_per</th><td>-0.3729197</td><td>-0.3742063</td><td>-0.3631016</td><td>-0.3505663</td></tr>\n",
       "\t<tr><th scope=row>black_per</th><td>-0.3041188</td><td>-0.2216271</td><td>-0.3824587</td><td>-0.2712448</td></tr>\n",
       "\t<tr><th scope=row>asian_per</th><td> 0.5518207</td><td> 0.4329620</td><td> 0.7004518</td><td> 0.4551767</td></tr>\n",
       "\t<tr><th scope=row>Average.Class.Size</th><td> 0.3929568</td><td> 0.3703276</td><td> 0.3773611</td><td> 0.3984169</td></tr>\n",
       "\t<tr><th scope=row>All.N.Odds</th><td>-0.3588764</td><td>-0.3396145</td><td>-0.3664046</td><td>-0.3384291</td></tr>\n",
       "\t<tr><th scope=row>All.N.Odds.Log</th><td>-0.5424194</td><td>-0.5182267</td><td>-0.5381338</td><td>-0.5240743</td></tr>\n",
       "\t<tr><th scope=row>logFRL</th><td>-0.7667505</td><td>-0.7709815</td><td>-0.6968271</td><td>-0.7742553</td></tr>\n",
       "</tbody>\n",
       "</table>\n"
      ],
      "text/latex": [
       "\\begin{tabular}{r|llll}\n",
       "  & SAT.Total & Critical.Reading & Math & Writing\\\\\n",
       "\\hline\n",
       "\tfrl\\_percent & -0.7308846 & -0.7428857 & -0.6594218 & -0.7356473\\\\\n",
       "\twhite\\_per &  0.6432816 &  0.6164453 &  0.6149551 &  0.6454338\\\\\n",
       "\thispanic\\_per & -0.3729197 & -0.3742063 & -0.3631016 & -0.3505663\\\\\n",
       "\tblack\\_per & -0.3041188 & -0.2216271 & -0.3824587 & -0.2712448\\\\\n",
       "\tasian\\_per &  0.5518207 &  0.4329620 &  0.7004518 &  0.4551767\\\\\n",
       "\tAverage.Class.Size &  0.3929568 &  0.3703276 &  0.3773611 &  0.3984169\\\\\n",
       "\tAll.N.Odds & -0.3588764 & -0.3396145 & -0.3664046 & -0.3384291\\\\\n",
       "\tAll.N.Odds.Log & -0.5424194 & -0.5182267 & -0.5381338 & -0.5240743\\\\\n",
       "\tlogFRL & -0.7667505 & -0.7709815 & -0.6968271 & -0.7742553\\\\\n",
       "\\end{tabular}\n"
      ],
      "text/markdown": [
       "\n",
       "| <!--/--> | SAT.Total | Critical.Reading | Math | Writing | \n",
       "|---|---|---|---|---|---|---|---|---|\n",
       "| frl_percent | -0.7308846 | -0.7428857 | -0.6594218 | -0.7356473 | \n",
       "| white_per |  0.6432816 |  0.6164453 |  0.6149551 |  0.6454338 | \n",
       "| hispanic_per | -0.3729197 | -0.3742063 | -0.3631016 | -0.3505663 | \n",
       "| black_per | -0.3041188 | -0.2216271 | -0.3824587 | -0.2712448 | \n",
       "| asian_per |  0.5518207 |  0.4329620 |  0.7004518 |  0.4551767 | \n",
       "| Average.Class.Size |  0.3929568 |  0.3703276 |  0.3773611 |  0.3984169 | \n",
       "| All.N.Odds | -0.3588764 | -0.3396145 | -0.3664046 | -0.3384291 | \n",
       "| All.N.Odds.Log | -0.5424194 | -0.5182267 | -0.5381338 | -0.5240743 | \n",
       "| logFRL | -0.7667505 | -0.7709815 | -0.6968271 | -0.7742553 | \n",
       "\n",
       "\n"
      ],
      "text/plain": [
       "                   SAT.Total  Critical.Reading Math       Writing   \n",
       "frl_percent        -0.7308846 -0.7428857       -0.6594218 -0.7356473\n",
       "white_per           0.6432816  0.6164453        0.6149551  0.6454338\n",
       "hispanic_per       -0.3729197 -0.3742063       -0.3631016 -0.3505663\n",
       "black_per          -0.3041188 -0.2216271       -0.3824587 -0.2712448\n",
       "asian_per           0.5518207  0.4329620        0.7004518  0.4551767\n",
       "Average.Class.Size  0.3929568  0.3703276        0.3773611  0.3984169\n",
       "All.N.Odds         -0.3588764 -0.3396145       -0.3664046 -0.3384291\n",
       "All.N.Odds.Log     -0.5424194 -0.5182267       -0.5381338 -0.5240743\n",
       "logFRL             -0.7667505 -0.7709815       -0.6968271 -0.7742553"
      ]
     },
     "metadata": {},
     "output_type": "display_data"
    }
   ],
   "source": [
    "table$All.N.Odds.Log <- df$All.N.Odds.Log\n",
    "table$logFRL <- df$logFRL\n",
    "\n",
    "fin.table <- cor(table)[5:13,1:4]\n",
    "colnames(fin.table)[colnames(fin.table)==\"SAT.Critical.Reading.Avg..Score\"] = \"Critical.Reading\"\n",
    "colnames(fin.table)[colnames(fin.table)==\"SAT.Math.Avg..Score\"] = \"Math\"\n",
    "colnames(fin.table)[colnames(fin.table)==\"SAT.Writing.Avg..Score\"] = \"Writing\"\n",
    "fin.table"
   ]
  },
  {
   "cell_type": "markdown",
   "metadata": {},
   "source": [
    "We can observe a notably higher correlations using these transformations."
   ]
  },
  {
   "cell_type": "markdown",
   "metadata": {},
   "source": [
    "# Regression"
   ]
  },
  {
   "cell_type": "markdown",
   "metadata": {},
   "source": [
    "The goal of this analysis is two-fold. The first is to create the strongest possible model for predicting SAT scores. The second goal is to compare the strength of all the different predictors: between income, crime levels, class size, and demographics, which have the stongest association with test scores? Furthermore, since previous research has established some ideas of which factors are associated with tests, we find specific interest in the collinearity between different predictors. For example, does racial composition have any association with test scores that cannot be explained by income or crime levels alone? \n",
    "\n",
    "To do this, we must first create our model using income. Then, we fill fit the other variables to see how our test statistics change."
   ]
  },
  {
   "cell_type": "code",
   "execution_count": 115,
   "metadata": {},
   "outputs": [
    {
     "data": {
      "text/plain": [
       "\n",
       "Call:\n",
       "lm(formula = SAT.Total ~ logFRL, data = df)\n",
       "\n",
       "Residuals:\n",
       "    Min      1Q  Median      3Q     Max \n",
       "-332.99  -68.44   -5.92   59.56  560.79 \n",
       "\n",
       "Coefficients:\n",
       "            Estimate Std. Error t value Pr(>|t|)    \n",
       "(Intercept)  3010.92      78.40   38.41   <2e-16 ***\n",
       "logFRL       -432.61      18.83  -22.98   <2e-16 ***\n",
       "---\n",
       "Signif. codes:  0 ‘***’ 0.001 ‘**’ 0.01 ‘*’ 0.05 ‘.’ 0.1 ‘ ’ 1\n",
       "\n",
       "Residual standard error: 115.1 on 370 degrees of freedom\n",
       "Multiple R-squared:  0.5879,\tAdjusted R-squared:  0.5868 \n",
       "F-statistic: 527.9 on 1 and 370 DF,  p-value: < 2.2e-16\n"
      ]
     },
     "metadata": {},
     "output_type": "display_data"
    }
   ],
   "source": [
    "fit <- lm(SAT.Total~ logFRL, data=df)\n",
    "summary(fit)"
   ]
  },
  {
   "cell_type": "markdown",
   "metadata": {},
   "source": [
    "Once income is fit to our model, we can then proceed using a forward selection process by looking at which remaining variables have the strongest correlation with the residuals of the previous model, and fitting the variable if the regression coefficient was statistically significant (p > 0.05) and there was an improvedment in adjusted R^2. First we will do a couple more possible transformations, then check our residual correlations:"
   ]
  },
  {
   "cell_type": "code",
   "execution_count": 116,
   "metadata": {},
   "outputs": [
    {
     "data": {
      "text/html": [
       "<dl class=dl-horizontal>\n",
       "\t<dt>Num.of.SAT.Test.Takers</dt>\n",
       "\t\t<dd>0.289536862672656</dd>\n",
       "\t<dt>SAT.Critical.Reading.Avg..Score</dt>\n",
       "\t\t<dd>0.602825614610409</dd>\n",
       "\t<dt>SAT.Math.Avg..Score</dt>\n",
       "\t\t<dd>0.658739396207749</dd>\n",
       "\t<dt>SAT.Writing.Avg..Score</dt>\n",
       "\t\t<dd>0.606203163012675</dd>\n",
       "\t<dt>SAT.Total</dt>\n",
       "\t\t<dd>0.641945249348075</dd>\n",
       "\t<dt>frl_percent</dt>\n",
       "\t\t<dd>0.0243387810887739</dd>\n",
       "\t<dt>total_enrollment</dt>\n",
       "\t\t<dd>0.192716399808388</dd>\n",
       "\t<dt>grade12</dt>\n",
       "\t\t<dd>0.204280782804998</dd>\n",
       "\t<dt>asian_per</dt>\n",
       "\t\t<dd>0.431945880302804</dd>\n",
       "\t<dt>black_per</dt>\n",
       "\t\t<dd>-0.305476928267464</dd>\n",
       "\t<dt>hispanic_per</dt>\n",
       "\t\t<dd>0.0150361747720616</dd>\n",
       "\t<dt>white_per</dt>\n",
       "\t\t<dd>0.0816484300525007</dd>\n",
       "\t<dt>male_per</dt>\n",
       "\t\t<dd>-0.0564081481685082</dd>\n",
       "\t<dt>Percent.SAT.Taken</dt>\n",
       "\t\t<dd>0.0843696480965141</dd>\n",
       "\t<dt>Average.Class.Size</dt>\n",
       "\t\t<dd>0.169939068573632</dd>\n",
       "\t<dt>Major.N</dt>\n",
       "\t\t<dd>-0.109560132091785</dd>\n",
       "\t<dt>NoCrim.N</dt>\n",
       "\t\t<dd>-0.153259200706964</dd>\n",
       "\t<dt>Prop.N</dt>\n",
       "\t\t<dd>-0.112211571146159</dd>\n",
       "\t<dt>Vio.N</dt>\n",
       "\t\t<dd>-0.160435892095083</dd>\n",
       "\t<dt>All.N</dt>\n",
       "\t\t<dd>-0.165116004304877</dd>\n",
       "\t<dt>Major.N.Odds</dt>\n",
       "\t\t<dd>-0.098093556298328</dd>\n",
       "\t<dt>NoCrim.N.Odds</dt>\n",
       "\t\t<dd>-0.176086910987697</dd>\n",
       "\t<dt>Prop.N.Odds</dt>\n",
       "\t\t<dd>-0.0984926019112807</dd>\n",
       "\t<dt>Vio.N.Odds</dt>\n",
       "\t\t<dd>-0.122493218809449</dd>\n",
       "\t<dt>All.N.Odds</dt>\n",
       "\t\t<dd>-0.155742241494357</dd>\n",
       "\t<dt>All.N.Odds.Log</dt>\n",
       "\t\t<dd>-0.271320875279401</dd>\n",
       "\t<dt>logFRL</dt>\n",
       "\t\t<dd>1.55764077685743e-18</dd>\n",
       "\t<dt>res</dt>\n",
       "\t\t<dd>1</dd>\n",
       "\t<dt>sqrtAP</dt>\n",
       "\t\t<dd>0.407564525049182</dd>\n",
       "\t<dt>sqrtWP</dt>\n",
       "\t\t<dd>0.17305726344114</dd>\n",
       "\t<dt>sqrtBP</dt>\n",
       "\t\t<dd>-0.276781783814743</dd>\n",
       "</dl>\n"
      ],
      "text/latex": [
       "\\begin{description*}\n",
       "\\item[Num.of.SAT.Test.Takers] 0.289536862672656\n",
       "\\item[SAT.Critical.Reading.Avg..Score] 0.602825614610409\n",
       "\\item[SAT.Math.Avg..Score] 0.658739396207749\n",
       "\\item[SAT.Writing.Avg..Score] 0.606203163012675\n",
       "\\item[SAT.Total] 0.641945249348075\n",
       "\\item[frl\\textbackslash{}\\_percent] 0.0243387810887739\n",
       "\\item[total\\textbackslash{}\\_enrollment] 0.192716399808388\n",
       "\\item[grade12] 0.204280782804998\n",
       "\\item[asian\\textbackslash{}\\_per] 0.431945880302804\n",
       "\\item[black\\textbackslash{}\\_per] -0.305476928267464\n",
       "\\item[hispanic\\textbackslash{}\\_per] 0.0150361747720616\n",
       "\\item[white\\textbackslash{}\\_per] 0.0816484300525007\n",
       "\\item[male\\textbackslash{}\\_per] -0.0564081481685082\n",
       "\\item[Percent.SAT.Taken] 0.0843696480965141\n",
       "\\item[Average.Class.Size] 0.169939068573632\n",
       "\\item[Major.N] -0.109560132091785\n",
       "\\item[NoCrim.N] -0.153259200706964\n",
       "\\item[Prop.N] -0.112211571146159\n",
       "\\item[Vio.N] -0.160435892095083\n",
       "\\item[All.N] -0.165116004304877\n",
       "\\item[Major.N.Odds] -0.098093556298328\n",
       "\\item[NoCrim.N.Odds] -0.176086910987697\n",
       "\\item[Prop.N.Odds] -0.0984926019112807\n",
       "\\item[Vio.N.Odds] -0.122493218809449\n",
       "\\item[All.N.Odds] -0.155742241494357\n",
       "\\item[All.N.Odds.Log] -0.271320875279401\n",
       "\\item[logFRL] 1.55764077685743e-18\n",
       "\\item[res] 1\n",
       "\\item[sqrtAP] 0.407564525049182\n",
       "\\item[sqrtWP] 0.17305726344114\n",
       "\\item[sqrtBP] -0.276781783814743\n",
       "\\end{description*}\n"
      ],
      "text/markdown": [
       "Num.of.SAT.Test.Takers\n",
       ":   0.289536862672656SAT.Critical.Reading.Avg..Score\n",
       ":   0.602825614610409SAT.Math.Avg..Score\n",
       ":   0.658739396207749SAT.Writing.Avg..Score\n",
       ":   0.606203163012675SAT.Total\n",
       ":   0.641945249348075frl_percent\n",
       ":   0.0243387810887739total_enrollment\n",
       ":   0.192716399808388grade12\n",
       ":   0.204280782804998asian_per\n",
       ":   0.431945880302804black_per\n",
       ":   -0.305476928267464hispanic_per\n",
       ":   0.0150361747720616white_per\n",
       ":   0.0816484300525007male_per\n",
       ":   -0.0564081481685082Percent.SAT.Taken\n",
       ":   0.0843696480965141Average.Class.Size\n",
       ":   0.169939068573632Major.N\n",
       ":   -0.109560132091785NoCrim.N\n",
       ":   -0.153259200706964Prop.N\n",
       ":   -0.112211571146159Vio.N\n",
       ":   -0.160435892095083All.N\n",
       ":   -0.165116004304877Major.N.Odds\n",
       ":   -0.098093556298328NoCrim.N.Odds\n",
       ":   -0.176086910987697Prop.N.Odds\n",
       ":   -0.0984926019112807Vio.N.Odds\n",
       ":   -0.122493218809449All.N.Odds\n",
       ":   -0.155742241494357All.N.Odds.Log\n",
       ":   -0.271320875279401logFRL\n",
       ":   1.55764077685743e-18res\n",
       ":   1sqrtAP\n",
       ":   0.407564525049182sqrtWP\n",
       ":   0.17305726344114sqrtBP\n",
       ":   -0.276781783814743\n",
       "\n"
      ],
      "text/plain": [
       "         Num.of.SAT.Test.Takers SAT.Critical.Reading.Avg..Score \n",
       "                   2.895369e-01                    6.028256e-01 \n",
       "            SAT.Math.Avg..Score          SAT.Writing.Avg..Score \n",
       "                   6.587394e-01                    6.062032e-01 \n",
       "                      SAT.Total                     frl_percent \n",
       "                   6.419452e-01                    2.433878e-02 \n",
       "               total_enrollment                         grade12 \n",
       "                   1.927164e-01                    2.042808e-01 \n",
       "                      asian_per                       black_per \n",
       "                   4.319459e-01                   -3.054769e-01 \n",
       "                   hispanic_per                       white_per \n",
       "                   1.503617e-02                    8.164843e-02 \n",
       "                       male_per               Percent.SAT.Taken \n",
       "                  -5.640815e-02                    8.436965e-02 \n",
       "             Average.Class.Size                         Major.N \n",
       "                   1.699391e-01                   -1.095601e-01 \n",
       "                       NoCrim.N                          Prop.N \n",
       "                  -1.532592e-01                   -1.122116e-01 \n",
       "                          Vio.N                           All.N \n",
       "                  -1.604359e-01                   -1.651160e-01 \n",
       "                   Major.N.Odds                   NoCrim.N.Odds \n",
       "                  -9.809356e-02                   -1.760869e-01 \n",
       "                    Prop.N.Odds                      Vio.N.Odds \n",
       "                  -9.849260e-02                   -1.224932e-01 \n",
       "                     All.N.Odds                  All.N.Odds.Log \n",
       "                  -1.557422e-01                   -2.713209e-01 \n",
       "                         logFRL                             res \n",
       "                   1.557641e-18                    1.000000e+00 \n",
       "                         sqrtAP                          sqrtWP \n",
       "                   4.075645e-01                    1.730573e-01 \n",
       "                         sqrtBP \n",
       "                  -2.767818e-01 "
      ]
     },
     "metadata": {},
     "output_type": "display_data"
    }
   ],
   "source": [
    "df$res <- resid(fit)\n",
    "df$sqrtAP <- sqrt(df$asian_per)\n",
    "df$sqrtWP <- sqrt(df$white_per)\n",
    "df$sqrtBP <- sqrt(df$black_per)\n",
    "\n",
    "cor(df[3:length(df)])[28,]"
   ]
  },
  {
   "cell_type": "markdown",
   "metadata": {},
   "source": [
    "The next best variable appers to be asian_per, which we can fit:"
   ]
  },
  {
   "cell_type": "code",
   "execution_count": 118,
   "metadata": {},
   "outputs": [
    {
     "data": {
      "text/plain": [
       "\n",
       "Call:\n",
       "lm(formula = SAT.Total ~ frl_percent + asian_per, data = df)\n",
       "\n",
       "Residuals:\n",
       "    Min      1Q  Median      3Q     Max \n",
       "-288.12  -62.81   -0.71   61.75  394.30 \n",
       "\n",
       "Coefficients:\n",
       "             Estimate Std. Error t value Pr(>|t|)    \n",
       "(Intercept) 1624.8479    27.0986  59.961   <2e-16 ***\n",
       "frl_percent   -6.7833     0.3750 -18.090   <2e-16 ***\n",
       "asian_per      3.9166     0.3971   9.864   <2e-16 ***\n",
       "---\n",
       "Signif. codes:  0 ‘***’ 0.001 ‘**’ 0.01 ‘*’ 0.05 ‘.’ 0.1 ‘ ’ 1\n",
       "\n",
       "Residual standard error: 109 on 369 degrees of freedom\n",
       "Multiple R-squared:  0.6314,\tAdjusted R-squared:  0.6294 \n",
       "F-statistic:   316 on 2 and 369 DF,  p-value: < 2.2e-16\n"
      ]
     },
     "metadata": {},
     "output_type": "display_data"
    }
   ],
   "source": [
    "fit <- lm(SAT.Total ~ frl_percent + asian_per, data=df)\n",
    "summary(fit)"
   ]
  },
  {
   "cell_type": "markdown",
   "metadata": {},
   "source": [
    "We can observe an improvement in adjusted R-squared here (from 0.5868 to 0.6294) indicating that the ratio of the proportion of variation in a school's SAT scores that can be explained by the school's composition of students that identify as Asian still exists after considering income. This already may suggest some bias in the way schools are distributed across different racial barriers, or differences in challenges that race may present in test scores.\n",
    "\n",
    "We will continue the forward selection process:"
   ]
  },
  {
   "cell_type": "code",
   "execution_count": 119,
   "metadata": {},
   "outputs": [
    {
     "data": {
      "text/html": [
       "<dl class=dl-horizontal>\n",
       "\t<dt>Num.of.SAT.Test.Takers</dt>\n",
       "\t\t<dd>0.114626023862005</dd>\n",
       "\t<dt>SAT.Critical.Reading.Avg..Score</dt>\n",
       "\t\t<dd>0.624342224499633</dd>\n",
       "\t<dt>SAT.Math.Avg..Score</dt>\n",
       "\t\t<dd>0.526920507384187</dd>\n",
       "\t<dt>SAT.Writing.Avg..Score</dt>\n",
       "\t\t<dd>0.627134164893111</dd>\n",
       "\t<dt>SAT.Total</dt>\n",
       "\t\t<dd>0.607131355238288</dd>\n",
       "\t<dt>frl_percent</dt>\n",
       "\t\t<dd>1.73525279834893e-18</dd>\n",
       "\t<dt>total_enrollment</dt>\n",
       "\t\t<dd>0.0297977500995626</dd>\n",
       "\t<dt>grade12</dt>\n",
       "\t\t<dd>0.036505956777486</dd>\n",
       "\t<dt>asian_per</dt>\n",
       "\t\t<dd>-1.16281095641849e-18</dd>\n",
       "\t<dt>black_per</dt>\n",
       "\t\t<dd>-0.200364103191708</dd>\n",
       "\t<dt>hispanic_per</dt>\n",
       "\t\t<dd>0.122809212759855</dd>\n",
       "\t<dt>white_per</dt>\n",
       "\t\t<dd>0.158139083385712</dd>\n",
       "\t<dt>male_per</dt>\n",
       "\t\t<dd>-0.119501662496401</dd>\n",
       "\t<dt>Percent.SAT.Taken</dt>\n",
       "\t\t<dd>0.00024407007725194</dd>\n",
       "\t<dt>Average.Class.Size</dt>\n",
       "\t\t<dd>0.153614176115683</dd>\n",
       "\t<dt>Major.N</dt>\n",
       "\t\t<dd>-0.0804710265787201</dd>\n",
       "\t<dt>NoCrim.N</dt>\n",
       "\t\t<dd>-0.0977517015269265</dd>\n",
       "\t<dt>Prop.N</dt>\n",
       "\t\t<dd>-0.114023166502604</dd>\n",
       "\t<dt>Vio.N</dt>\n",
       "\t\t<dd>-0.112589776622004</dd>\n",
       "\t<dt>All.N</dt>\n",
       "\t\t<dd>-0.113898874831568</dd>\n",
       "\t<dt>Major.N.Odds</dt>\n",
       "\t\t<dd>-0.0534254581780144</dd>\n",
       "\t<dt>NoCrim.N.Odds</dt>\n",
       "\t\t<dd>-0.0961187542387792</dd>\n",
       "\t<dt>Prop.N.Odds</dt>\n",
       "\t\t<dd>-0.068204174515319</dd>\n",
       "\t<dt>Vio.N.Odds</dt>\n",
       "\t\t<dd>-0.05879158075497</dd>\n",
       "\t<dt>All.N.Odds</dt>\n",
       "\t\t<dd>-0.0854902865904571</dd>\n",
       "\t<dt>All.N.Odds.Log</dt>\n",
       "\t\t<dd>-0.248824206605616</dd>\n",
       "\t<dt>logFRL</dt>\n",
       "\t\t<dd>-0.0848100737798927</dd>\n",
       "\t<dt>res</dt>\n",
       "\t\t<dd>1</dd>\n",
       "\t<dt>sqrtAP</dt>\n",
       "\t\t<dd>0.0109036204359761</dd>\n",
       "\t<dt>sqrtWP</dt>\n",
       "\t\t<dd>0.161977306196307</dd>\n",
       "\t<dt>sqrtBP</dt>\n",
       "\t\t<dd>-0.167801322859278</dd>\n",
       "</dl>\n"
      ],
      "text/latex": [
       "\\begin{description*}\n",
       "\\item[Num.of.SAT.Test.Takers] 0.114626023862005\n",
       "\\item[SAT.Critical.Reading.Avg..Score] 0.624342224499633\n",
       "\\item[SAT.Math.Avg..Score] 0.526920507384187\n",
       "\\item[SAT.Writing.Avg..Score] 0.627134164893111\n",
       "\\item[SAT.Total] 0.607131355238288\n",
       "\\item[frl\\textbackslash{}\\_percent] 1.73525279834893e-18\n",
       "\\item[total\\textbackslash{}\\_enrollment] 0.0297977500995626\n",
       "\\item[grade12] 0.036505956777486\n",
       "\\item[asian\\textbackslash{}\\_per] -1.16281095641849e-18\n",
       "\\item[black\\textbackslash{}\\_per] -0.200364103191708\n",
       "\\item[hispanic\\textbackslash{}\\_per] 0.122809212759855\n",
       "\\item[white\\textbackslash{}\\_per] 0.158139083385712\n",
       "\\item[male\\textbackslash{}\\_per] -0.119501662496401\n",
       "\\item[Percent.SAT.Taken] 0.00024407007725194\n",
       "\\item[Average.Class.Size] 0.153614176115683\n",
       "\\item[Major.N] -0.0804710265787201\n",
       "\\item[NoCrim.N] -0.0977517015269265\n",
       "\\item[Prop.N] -0.114023166502604\n",
       "\\item[Vio.N] -0.112589776622004\n",
       "\\item[All.N] -0.113898874831568\n",
       "\\item[Major.N.Odds] -0.0534254581780144\n",
       "\\item[NoCrim.N.Odds] -0.0961187542387792\n",
       "\\item[Prop.N.Odds] -0.068204174515319\n",
       "\\item[Vio.N.Odds] -0.05879158075497\n",
       "\\item[All.N.Odds] -0.0854902865904571\n",
       "\\item[All.N.Odds.Log] -0.248824206605616\n",
       "\\item[logFRL] -0.0848100737798927\n",
       "\\item[res] 1\n",
       "\\item[sqrtAP] 0.0109036204359761\n",
       "\\item[sqrtWP] 0.161977306196307\n",
       "\\item[sqrtBP] -0.167801322859278\n",
       "\\end{description*}\n"
      ],
      "text/markdown": [
       "Num.of.SAT.Test.Takers\n",
       ":   0.114626023862005SAT.Critical.Reading.Avg..Score\n",
       ":   0.624342224499633SAT.Math.Avg..Score\n",
       ":   0.526920507384187SAT.Writing.Avg..Score\n",
       ":   0.627134164893111SAT.Total\n",
       ":   0.607131355238288frl_percent\n",
       ":   1.73525279834893e-18total_enrollment\n",
       ":   0.0297977500995626grade12\n",
       ":   0.036505956777486asian_per\n",
       ":   -1.16281095641849e-18black_per\n",
       ":   -0.200364103191708hispanic_per\n",
       ":   0.122809212759855white_per\n",
       ":   0.158139083385712male_per\n",
       ":   -0.119501662496401Percent.SAT.Taken\n",
       ":   0.00024407007725194Average.Class.Size\n",
       ":   0.153614176115683Major.N\n",
       ":   -0.0804710265787201NoCrim.N\n",
       ":   -0.0977517015269265Prop.N\n",
       ":   -0.114023166502604Vio.N\n",
       ":   -0.112589776622004All.N\n",
       ":   -0.113898874831568Major.N.Odds\n",
       ":   -0.0534254581780144NoCrim.N.Odds\n",
       ":   -0.0961187542387792Prop.N.Odds\n",
       ":   -0.068204174515319Vio.N.Odds\n",
       ":   -0.05879158075497All.N.Odds\n",
       ":   -0.0854902865904571All.N.Odds.Log\n",
       ":   -0.248824206605616logFRL\n",
       ":   -0.0848100737798927res\n",
       ":   1sqrtAP\n",
       ":   0.0109036204359761sqrtWP\n",
       ":   0.161977306196307sqrtBP\n",
       ":   -0.167801322859278\n",
       "\n"
      ],
      "text/plain": [
       "         Num.of.SAT.Test.Takers SAT.Critical.Reading.Avg..Score \n",
       "                   1.146260e-01                    6.243422e-01 \n",
       "            SAT.Math.Avg..Score          SAT.Writing.Avg..Score \n",
       "                   5.269205e-01                    6.271342e-01 \n",
       "                      SAT.Total                     frl_percent \n",
       "                   6.071314e-01                    1.735253e-18 \n",
       "               total_enrollment                         grade12 \n",
       "                   2.979775e-02                    3.650596e-02 \n",
       "                      asian_per                       black_per \n",
       "                  -1.162811e-18                   -2.003641e-01 \n",
       "                   hispanic_per                       white_per \n",
       "                   1.228092e-01                    1.581391e-01 \n",
       "                       male_per               Percent.SAT.Taken \n",
       "                  -1.195017e-01                    2.440701e-04 \n",
       "             Average.Class.Size                         Major.N \n",
       "                   1.536142e-01                   -8.047103e-02 \n",
       "                       NoCrim.N                          Prop.N \n",
       "                  -9.775170e-02                   -1.140232e-01 \n",
       "                          Vio.N                           All.N \n",
       "                  -1.125898e-01                   -1.138989e-01 \n",
       "                   Major.N.Odds                   NoCrim.N.Odds \n",
       "                  -5.342546e-02                   -9.611875e-02 \n",
       "                    Prop.N.Odds                      Vio.N.Odds \n",
       "                  -6.820417e-02                   -5.879158e-02 \n",
       "                     All.N.Odds                  All.N.Odds.Log \n",
       "                  -8.549029e-02                   -2.488242e-01 \n",
       "                         logFRL                             res \n",
       "                  -8.481007e-02                    1.000000e+00 \n",
       "                         sqrtAP                          sqrtWP \n",
       "                   1.090362e-02                    1.619773e-01 \n",
       "                         sqrtBP \n",
       "                  -1.678013e-01 "
      ]
     },
     "metadata": {},
     "output_type": "display_data"
    }
   ],
   "source": [
    "df$res <- resid(fit)\n",
    "cor(df[3:length(df)])[28,]"
   ]
  },
  {
   "cell_type": "code",
   "execution_count": 120,
   "metadata": {},
   "outputs": [
    {
     "data": {
      "text/plain": [
       "\n",
       "Call:\n",
       "lm(formula = SAT.Total ~ frl_percent + asian_per + All.N.Odds.Log, \n",
       "    data = df)\n",
       "\n",
       "Residuals:\n",
       "    Min      1Q  Median      3Q     Max \n",
       "-274.23  -62.99    1.65   60.65  383.61 \n",
       "\n",
       "Coefficients:\n",
       "                Estimate Std. Error t value Pr(>|t|)    \n",
       "(Intercept)    1629.1711    26.0130  62.629  < 2e-16 ***\n",
       "frl_percent      -5.9777     0.3863 -15.473  < 2e-16 ***\n",
       "asian_per         3.3852     0.3921   8.633  < 2e-16 ***\n",
       "All.N.Odds.Log  -31.3718     5.4796  -5.725 2.15e-08 ***\n",
       "---\n",
       "Signif. codes:  0 ‘***’ 0.001 ‘**’ 0.01 ‘*’ 0.05 ‘.’ 0.1 ‘ ’ 1\n",
       "\n",
       "Residual standard error: 104.6 on 368 degrees of freedom\n",
       "Multiple R-squared:  0.6615,\tAdjusted R-squared:  0.6588 \n",
       "F-statistic: 239.8 on 3 and 368 DF,  p-value: < 2.2e-16\n"
      ]
     },
     "metadata": {},
     "output_type": "display_data"
    }
   ],
   "source": [
    "fit <- lm(SAT.Total ~ frl_percent + asian_per + All.N.Odds.Log, data=df)\n",
    "summary(fit)"
   ]
  },
  {
   "cell_type": "markdown",
   "metadata": {},
   "source": [
    "The next most significant variable appears to be the crime, which also shows a jump in our test statistics. We will continue fitting variables using this process."
   ]
  },
  {
   "cell_type": "code",
   "execution_count": 121,
   "metadata": {},
   "outputs": [
    {
     "data": {
      "text/html": [
       "<dl class=dl-horizontal>\n",
       "\t<dt>Num.of.SAT.Test.Takers</dt>\n",
       "\t\t<dd>0.142998435357707</dd>\n",
       "\t<dt>SAT.Critical.Reading.Avg..Score</dt>\n",
       "\t\t<dd>0.600283498652385</dd>\n",
       "\t<dt>SAT.Math.Avg..Score</dt>\n",
       "\t\t<dd>0.50217724026668</dd>\n",
       "\t<dt>SAT.Writing.Avg..Score</dt>\n",
       "\t\t<dd>0.602015889302937</dd>\n",
       "\t<dt>SAT.Total</dt>\n",
       "\t\t<dd>0.581774409555775</dd>\n",
       "\t<dt>frl_percent</dt>\n",
       "\t\t<dd>8.33975049786346e-18</dd>\n",
       "\t<dt>total_enrollment</dt>\n",
       "\t\t<dd>0.0619185743714895</dd>\n",
       "\t<dt>grade12</dt>\n",
       "\t\t<dd>0.0665825741161783</dd>\n",
       "\t<dt>asian_per</dt>\n",
       "\t\t<dd>1.64993550800897e-17</dd>\n",
       "\t<dt>black_per</dt>\n",
       "\t\t<dd>-0.113244566129473</dd>\n",
       "\t<dt>hispanic_per</dt>\n",
       "\t\t<dd>0.0511827693772111</dd>\n",
       "\t<dt>white_per</dt>\n",
       "\t\t<dd>0.120562845294574</dd>\n",
       "\t<dt>male_per</dt>\n",
       "\t\t<dd>-0.0971648462093464</dd>\n",
       "\t<dt>Percent.SAT.Taken</dt>\n",
       "\t\t<dd>0.00950520361624118</dd>\n",
       "\t<dt>Average.Class.Size</dt>\n",
       "\t\t<dd>0.158243061684069</dd>\n",
       "\t<dt>Major.N</dt>\n",
       "\t\t<dd>0.0369814725758924</dd>\n",
       "\t<dt>NoCrim.N</dt>\n",
       "\t\t<dd>-0.0302057683396187</dd>\n",
       "\t<dt>Prop.N</dt>\n",
       "\t\t<dd>-0.00850819944414692</dd>\n",
       "\t<dt>Vio.N</dt>\n",
       "\t\t<dd>-0.0107742380133852</dd>\n",
       "\t<dt>All.N</dt>\n",
       "\t\t<dd>-0.023364031562197</dd>\n",
       "\t<dt>Major.N.Odds</dt>\n",
       "\t\t<dd>0.119699495299099</dd>\n",
       "\t<dt>NoCrim.N.Odds</dt>\n",
       "\t\t<dd>0.0654445714061064</dd>\n",
       "\t<dt>Prop.N.Odds</dt>\n",
       "\t\t<dd>0.0994890519782304</dd>\n",
       "\t<dt>Vio.N.Odds</dt>\n",
       "\t\t<dd>0.105160720794533</dd>\n",
       "\t<dt>All.N.Odds</dt>\n",
       "\t\t<dd>0.121727643186273</dd>\n",
       "\t<dt>All.N.Odds.Log</dt>\n",
       "\t\t<dd>-6.88991976146482e-19</dd>\n",
       "\t<dt>logFRL</dt>\n",
       "\t\t<dd>-0.07324558361657</dd>\n",
       "\t<dt>res</dt>\n",
       "\t\t<dd>1</dd>\n",
       "\t<dt>sqrtAP</dt>\n",
       "\t\t<dd>0.00253119514146075</dd>\n",
       "\t<dt>sqrtWP</dt>\n",
       "\t\t<dd>0.120488237532161</dd>\n",
       "\t<dt>sqrtBP</dt>\n",
       "\t\t<dd>-0.0732022968347789</dd>\n",
       "</dl>\n"
      ],
      "text/latex": [
       "\\begin{description*}\n",
       "\\item[Num.of.SAT.Test.Takers] 0.142998435357707\n",
       "\\item[SAT.Critical.Reading.Avg..Score] 0.600283498652385\n",
       "\\item[SAT.Math.Avg..Score] 0.50217724026668\n",
       "\\item[SAT.Writing.Avg..Score] 0.602015889302937\n",
       "\\item[SAT.Total] 0.581774409555775\n",
       "\\item[frl\\textbackslash{}\\_percent] 8.33975049786346e-18\n",
       "\\item[total\\textbackslash{}\\_enrollment] 0.0619185743714895\n",
       "\\item[grade12] 0.0665825741161783\n",
       "\\item[asian\\textbackslash{}\\_per] 1.64993550800897e-17\n",
       "\\item[black\\textbackslash{}\\_per] -0.113244566129473\n",
       "\\item[hispanic\\textbackslash{}\\_per] 0.0511827693772111\n",
       "\\item[white\\textbackslash{}\\_per] 0.120562845294574\n",
       "\\item[male\\textbackslash{}\\_per] -0.0971648462093464\n",
       "\\item[Percent.SAT.Taken] 0.00950520361624118\n",
       "\\item[Average.Class.Size] 0.158243061684069\n",
       "\\item[Major.N] 0.0369814725758924\n",
       "\\item[NoCrim.N] -0.0302057683396187\n",
       "\\item[Prop.N] -0.00850819944414692\n",
       "\\item[Vio.N] -0.0107742380133852\n",
       "\\item[All.N] -0.023364031562197\n",
       "\\item[Major.N.Odds] 0.119699495299099\n",
       "\\item[NoCrim.N.Odds] 0.0654445714061064\n",
       "\\item[Prop.N.Odds] 0.0994890519782304\n",
       "\\item[Vio.N.Odds] 0.105160720794533\n",
       "\\item[All.N.Odds] 0.121727643186273\n",
       "\\item[All.N.Odds.Log] -6.88991976146482e-19\n",
       "\\item[logFRL] -0.07324558361657\n",
       "\\item[res] 1\n",
       "\\item[sqrtAP] 0.00253119514146075\n",
       "\\item[sqrtWP] 0.120488237532161\n",
       "\\item[sqrtBP] -0.0732022968347789\n",
       "\\end{description*}\n"
      ],
      "text/markdown": [
       "Num.of.SAT.Test.Takers\n",
       ":   0.142998435357707SAT.Critical.Reading.Avg..Score\n",
       ":   0.600283498652385SAT.Math.Avg..Score\n",
       ":   0.50217724026668SAT.Writing.Avg..Score\n",
       ":   0.602015889302937SAT.Total\n",
       ":   0.581774409555775frl_percent\n",
       ":   8.33975049786346e-18total_enrollment\n",
       ":   0.0619185743714895grade12\n",
       ":   0.0665825741161783asian_per\n",
       ":   1.64993550800897e-17black_per\n",
       ":   -0.113244566129473hispanic_per\n",
       ":   0.0511827693772111white_per\n",
       ":   0.120562845294574male_per\n",
       ":   -0.0971648462093464Percent.SAT.Taken\n",
       ":   0.00950520361624118Average.Class.Size\n",
       ":   0.158243061684069Major.N\n",
       ":   0.0369814725758924NoCrim.N\n",
       ":   -0.0302057683396187Prop.N\n",
       ":   -0.00850819944414692Vio.N\n",
       ":   -0.0107742380133852All.N\n",
       ":   -0.023364031562197Major.N.Odds\n",
       ":   0.119699495299099NoCrim.N.Odds\n",
       ":   0.0654445714061064Prop.N.Odds\n",
       ":   0.0994890519782304Vio.N.Odds\n",
       ":   0.105160720794533All.N.Odds\n",
       ":   0.121727643186273All.N.Odds.Log\n",
       ":   -6.88991976146482e-19logFRL\n",
       ":   -0.07324558361657res\n",
       ":   1sqrtAP\n",
       ":   0.00253119514146075sqrtWP\n",
       ":   0.120488237532161sqrtBP\n",
       ":   -0.0732022968347789\n",
       "\n"
      ],
      "text/plain": [
       "         Num.of.SAT.Test.Takers SAT.Critical.Reading.Avg..Score \n",
       "                   1.429984e-01                    6.002835e-01 \n",
       "            SAT.Math.Avg..Score          SAT.Writing.Avg..Score \n",
       "                   5.021772e-01                    6.020159e-01 \n",
       "                      SAT.Total                     frl_percent \n",
       "                   5.817744e-01                    8.339750e-18 \n",
       "               total_enrollment                         grade12 \n",
       "                   6.191857e-02                    6.658257e-02 \n",
       "                      asian_per                       black_per \n",
       "                   1.649936e-17                   -1.132446e-01 \n",
       "                   hispanic_per                       white_per \n",
       "                   5.118277e-02                    1.205628e-01 \n",
       "                       male_per               Percent.SAT.Taken \n",
       "                  -9.716485e-02                    9.505204e-03 \n",
       "             Average.Class.Size                         Major.N \n",
       "                   1.582431e-01                    3.698147e-02 \n",
       "                       NoCrim.N                          Prop.N \n",
       "                  -3.020577e-02                   -8.508199e-03 \n",
       "                          Vio.N                           All.N \n",
       "                  -1.077424e-02                   -2.336403e-02 \n",
       "                   Major.N.Odds                   NoCrim.N.Odds \n",
       "                   1.196995e-01                    6.544457e-02 \n",
       "                    Prop.N.Odds                      Vio.N.Odds \n",
       "                   9.948905e-02                    1.051607e-01 \n",
       "                     All.N.Odds                  All.N.Odds.Log \n",
       "                   1.217276e-01                   -6.889920e-19 \n",
       "                         logFRL                             res \n",
       "                  -7.324558e-02                    1.000000e+00 \n",
       "                         sqrtAP                          sqrtWP \n",
       "                   2.531195e-03                    1.204882e-01 \n",
       "                         sqrtBP \n",
       "                  -7.320230e-02 "
      ]
     },
     "metadata": {},
     "output_type": "display_data"
    }
   ],
   "source": [
    "df$res <- resid(fit)\n",
    "cor(df[3:length(df)])[28,]"
   ]
  },
  {
   "cell_type": "code",
   "execution_count": 122,
   "metadata": {},
   "outputs": [
    {
     "data": {
      "text/plain": [
       "\n",
       "Call:\n",
       "lm(formula = SAT.Total ~ frl_percent + asian_per + All.N.Odds.Log + \n",
       "    black_per, data = df)\n",
       "\n",
       "Residuals:\n",
       "    Min      1Q  Median      3Q     Max \n",
       "-267.31  -57.12    0.22   61.02  390.25 \n",
       "\n",
       "Coefficients:\n",
       "                Estimate Std. Error t value Pr(>|t|)    \n",
       "(Intercept)    1665.6784    29.3243  56.802  < 2e-16 ***\n",
       "frl_percent      -6.2314     0.3953 -15.763  < 2e-16 ***\n",
       "asian_per         2.9531     0.4225   6.990 1.31e-11 ***\n",
       "All.N.Odds.Log  -25.8901     5.8245  -4.445 1.17e-05 ***\n",
       "black_per        -0.6380     0.2433  -2.622  0.00911 ** \n",
       "---\n",
       "Signif. codes:  0 ‘***’ 0.001 ‘**’ 0.01 ‘*’ 0.05 ‘.’ 0.1 ‘ ’ 1\n",
       "\n",
       "Residual standard error: 103.7 on 367 degrees of freedom\n",
       "Multiple R-squared:  0.6678,\tAdjusted R-squared:  0.6641 \n",
       "F-statistic: 184.4 on 4 and 367 DF,  p-value: < 2.2e-16\n"
      ]
     },
     "metadata": {},
     "output_type": "display_data"
    }
   ],
   "source": [
    "fit <- lm(SAT.Total ~ frl_percent + asian_per + All.N.Odds.Log + black_per, data=df)\n",
    "summary(fit)"
   ]
  },
  {
   "cell_type": "code",
   "execution_count": 123,
   "metadata": {},
   "outputs": [
    {
     "data": {
      "text/html": [
       "<dl class=dl-horizontal>\n",
       "\t<dt>Num.of.SAT.Test.Takers</dt>\n",
       "\t\t<dd>0.124528075854752</dd>\n",
       "\t<dt>SAT.Critical.Reading.Avg..Score</dt>\n",
       "\t\t<dd>0.599070325376103</dd>\n",
       "\t<dt>SAT.Math.Avg..Score</dt>\n",
       "\t\t<dd>0.495293569445389</dd>\n",
       "\t<dt>SAT.Writing.Avg..Score</dt>\n",
       "\t\t<dd>0.594747258812654</dd>\n",
       "\t<dt>SAT.Total</dt>\n",
       "\t\t<dd>0.576400919323138</dd>\n",
       "\t<dt>frl_percent</dt>\n",
       "\t\t<dd>1.18833571370674e-18</dd>\n",
       "\t<dt>total_enrollment</dt>\n",
       "\t\t<dd>0.0397938962954148</dd>\n",
       "\t<dt>grade12</dt>\n",
       "\t\t<dd>0.0476425282423764</dd>\n",
       "\t<dt>asian_per</dt>\n",
       "\t\t<dd>-5.5589811685476e-18</dd>\n",
       "\t<dt>black_per</dt>\n",
       "\t\t<dd>-1.08311192258544e-17</dd>\n",
       "\t<dt>hispanic_per</dt>\n",
       "\t\t<dd>-0.0454504558226643</dd>\n",
       "\t<dt>white_per</dt>\n",
       "\t\t<dd>0.0753962745299363</dd>\n",
       "\t<dt>male_per</dt>\n",
       "\t\t<dd>-0.0994363200319247</dd>\n",
       "\t<dt>Percent.SAT.Taken</dt>\n",
       "\t\t<dd>0.0120075374169638</dd>\n",
       "\t<dt>Average.Class.Size</dt>\n",
       "\t\t<dd>0.154174588776878</dd>\n",
       "\t<dt>Major.N</dt>\n",
       "\t\t<dd>0.0259188403778871</dd>\n",
       "\t<dt>NoCrim.N</dt>\n",
       "\t\t<dd>-0.0482070167246968</dd>\n",
       "\t<dt>Prop.N</dt>\n",
       "\t\t<dd>-0.0176705685606297</dd>\n",
       "\t<dt>Vio.N</dt>\n",
       "\t\t<dd>-0.00900585017905341</dd>\n",
       "\t<dt>All.N</dt>\n",
       "\t\t<dd>-0.0390914826016489</dd>\n",
       "\t<dt>Major.N.Odds</dt>\n",
       "\t\t<dd>0.114830253608722</dd>\n",
       "\t<dt>NoCrim.N.Odds</dt>\n",
       "\t\t<dd>0.0603604275147109</dd>\n",
       "\t<dt>Prop.N.Odds</dt>\n",
       "\t\t<dd>0.0997035694016077</dd>\n",
       "\t<dt>Vio.N.Odds</dt>\n",
       "\t\t<dd>0.11453583694667</dd>\n",
       "\t<dt>All.N.Odds</dt>\n",
       "\t\t<dd>0.121526655006368</dd>\n",
       "\t<dt>All.N.Odds.Log</dt>\n",
       "\t\t<dd>5.08060588689807e-18</dd>\n",
       "\t<dt>logFRL</dt>\n",
       "\t\t<dd>-0.06411270596977</dd>\n",
       "\t<dt>res</dt>\n",
       "\t\t<dd>1</dd>\n",
       "\t<dt>sqrtAP</dt>\n",
       "\t\t<dd>-0.00471003096898806</dd>\n",
       "\t<dt>sqrtWP</dt>\n",
       "\t\t<dd>0.0773288159750178</dd>\n",
       "\t<dt>sqrtBP</dt>\n",
       "\t\t<dd>0.0330403065128919</dd>\n",
       "</dl>\n"
      ],
      "text/latex": [
       "\\begin{description*}\n",
       "\\item[Num.of.SAT.Test.Takers] 0.124528075854752\n",
       "\\item[SAT.Critical.Reading.Avg..Score] 0.599070325376103\n",
       "\\item[SAT.Math.Avg..Score] 0.495293569445389\n",
       "\\item[SAT.Writing.Avg..Score] 0.594747258812654\n",
       "\\item[SAT.Total] 0.576400919323138\n",
       "\\item[frl\\textbackslash{}\\_percent] 1.18833571370674e-18\n",
       "\\item[total\\textbackslash{}\\_enrollment] 0.0397938962954148\n",
       "\\item[grade12] 0.0476425282423764\n",
       "\\item[asian\\textbackslash{}\\_per] -5.5589811685476e-18\n",
       "\\item[black\\textbackslash{}\\_per] -1.08311192258544e-17\n",
       "\\item[hispanic\\textbackslash{}\\_per] -0.0454504558226643\n",
       "\\item[white\\textbackslash{}\\_per] 0.0753962745299363\n",
       "\\item[male\\textbackslash{}\\_per] -0.0994363200319247\n",
       "\\item[Percent.SAT.Taken] 0.0120075374169638\n",
       "\\item[Average.Class.Size] 0.154174588776878\n",
       "\\item[Major.N] 0.0259188403778871\n",
       "\\item[NoCrim.N] -0.0482070167246968\n",
       "\\item[Prop.N] -0.0176705685606297\n",
       "\\item[Vio.N] -0.00900585017905341\n",
       "\\item[All.N] -0.0390914826016489\n",
       "\\item[Major.N.Odds] 0.114830253608722\n",
       "\\item[NoCrim.N.Odds] 0.0603604275147109\n",
       "\\item[Prop.N.Odds] 0.0997035694016077\n",
       "\\item[Vio.N.Odds] 0.11453583694667\n",
       "\\item[All.N.Odds] 0.121526655006368\n",
       "\\item[All.N.Odds.Log] 5.08060588689807e-18\n",
       "\\item[logFRL] -0.06411270596977\n",
       "\\item[res] 1\n",
       "\\item[sqrtAP] -0.00471003096898806\n",
       "\\item[sqrtWP] 0.0773288159750178\n",
       "\\item[sqrtBP] 0.0330403065128919\n",
       "\\end{description*}\n"
      ],
      "text/markdown": [
       "Num.of.SAT.Test.Takers\n",
       ":   0.124528075854752SAT.Critical.Reading.Avg..Score\n",
       ":   0.599070325376103SAT.Math.Avg..Score\n",
       ":   0.495293569445389SAT.Writing.Avg..Score\n",
       ":   0.594747258812654SAT.Total\n",
       ":   0.576400919323138frl_percent\n",
       ":   1.18833571370674e-18total_enrollment\n",
       ":   0.0397938962954148grade12\n",
       ":   0.0476425282423764asian_per\n",
       ":   -5.5589811685476e-18black_per\n",
       ":   -1.08311192258544e-17hispanic_per\n",
       ":   -0.0454504558226643white_per\n",
       ":   0.0753962745299363male_per\n",
       ":   -0.0994363200319247Percent.SAT.Taken\n",
       ":   0.0120075374169638Average.Class.Size\n",
       ":   0.154174588776878Major.N\n",
       ":   0.0259188403778871NoCrim.N\n",
       ":   -0.0482070167246968Prop.N\n",
       ":   -0.0176705685606297Vio.N\n",
       ":   -0.00900585017905341All.N\n",
       ":   -0.0390914826016489Major.N.Odds\n",
       ":   0.114830253608722NoCrim.N.Odds\n",
       ":   0.0603604275147109Prop.N.Odds\n",
       ":   0.0997035694016077Vio.N.Odds\n",
       ":   0.11453583694667All.N.Odds\n",
       ":   0.121526655006368All.N.Odds.Log\n",
       ":   5.08060588689807e-18logFRL\n",
       ":   -0.06411270596977res\n",
       ":   1sqrtAP\n",
       ":   -0.00471003096898806sqrtWP\n",
       ":   0.0773288159750178sqrtBP\n",
       ":   0.0330403065128919\n",
       "\n"
      ],
      "text/plain": [
       "         Num.of.SAT.Test.Takers SAT.Critical.Reading.Avg..Score \n",
       "                   1.245281e-01                    5.990703e-01 \n",
       "            SAT.Math.Avg..Score          SAT.Writing.Avg..Score \n",
       "                   4.952936e-01                    5.947473e-01 \n",
       "                      SAT.Total                     frl_percent \n",
       "                   5.764009e-01                    1.188336e-18 \n",
       "               total_enrollment                         grade12 \n",
       "                   3.979390e-02                    4.764253e-02 \n",
       "                      asian_per                       black_per \n",
       "                  -5.558981e-18                   -1.083112e-17 \n",
       "                   hispanic_per                       white_per \n",
       "                  -4.545046e-02                    7.539627e-02 \n",
       "                       male_per               Percent.SAT.Taken \n",
       "                  -9.943632e-02                    1.200754e-02 \n",
       "             Average.Class.Size                         Major.N \n",
       "                   1.541746e-01                    2.591884e-02 \n",
       "                       NoCrim.N                          Prop.N \n",
       "                  -4.820702e-02                   -1.767057e-02 \n",
       "                          Vio.N                           All.N \n",
       "                  -9.005850e-03                   -3.909148e-02 \n",
       "                   Major.N.Odds                   NoCrim.N.Odds \n",
       "                   1.148303e-01                    6.036043e-02 \n",
       "                    Prop.N.Odds                      Vio.N.Odds \n",
       "                   9.970357e-02                    1.145358e-01 \n",
       "                     All.N.Odds                  All.N.Odds.Log \n",
       "                   1.215267e-01                    5.080606e-18 \n",
       "                         logFRL                             res \n",
       "                  -6.411271e-02                    1.000000e+00 \n",
       "                         sqrtAP                          sqrtWP \n",
       "                  -4.710031e-03                    7.732882e-02 \n",
       "                         sqrtBP \n",
       "                   3.304031e-02 "
      ]
     },
     "metadata": {},
     "output_type": "display_data"
    }
   ],
   "source": [
    "df$res <- resid(fit)\n",
    "cor(df[3:length(df)])[28,]"
   ]
  },
  {
   "cell_type": "code",
   "execution_count": 124,
   "metadata": {},
   "outputs": [
    {
     "data": {
      "text/plain": [
       "\n",
       "Call:\n",
       "lm(formula = SAT.Total ~ frl_percent + asian_per + All.N.Odds.Log + \n",
       "    black_per + Average.Class.Size, data = df)\n",
       "\n",
       "Residuals:\n",
       "    Min      1Q  Median      3Q     Max \n",
       "-269.47  -61.79   -4.83   58.81  377.07 \n",
       "\n",
       "Coefficients:\n",
       "                    Estimate Std. Error t value Pr(>|t|)    \n",
       "(Intercept)        1503.1634    57.8302  25.993  < 2e-16 ***\n",
       "frl_percent          -5.8133     0.4110 -14.145  < 2e-16 ***\n",
       "asian_per             2.8834     0.4177   6.904 2.25e-11 ***\n",
       "All.N.Odds.Log      -26.0537     5.7505  -4.531 7.97e-06 ***\n",
       "black_per            -0.6037     0.2405  -2.511  0.01248 *  \n",
       "Average.Class.Size    5.6419     1.7380   3.246  0.00128 ** \n",
       "---\n",
       "Signif. codes:  0 ‘***’ 0.001 ‘**’ 0.01 ‘*’ 0.05 ‘.’ 0.1 ‘ ’ 1\n",
       "\n",
       "Residual standard error: 102.4 on 366 degrees of freedom\n",
       "Multiple R-squared:  0.6771,\tAdjusted R-squared:  0.6726 \n",
       "F-statistic: 153.5 on 5 and 366 DF,  p-value: < 2.2e-16\n"
      ]
     },
     "metadata": {},
     "output_type": "display_data"
    }
   ],
   "source": [
    "fit <- lm(SAT.Total ~ frl_percent + asian_per + All.N.Odds.Log + black_per + Average.Class.Size, data=df)\n",
    "summary(fit)"
   ]
  },
  {
   "cell_type": "code",
   "execution_count": 125,
   "metadata": {},
   "outputs": [
    {
     "data": {
      "text/plain": [
       "\n",
       "Call:\n",
       "lm(formula = SAT.Total ~ frl_percent + asian_per + All.N.Odds.Log + \n",
       "    black_per + Average.Class.Size + All.N.Odds, data = df)\n",
       "\n",
       "Residuals:\n",
       "    Min      1Q  Median      3Q     Max \n",
       "-287.78  -60.34   -1.64   53.43  390.40 \n",
       "\n",
       "Coefficients:\n",
       "                    Estimate Std. Error t value Pr(>|t|)    \n",
       "(Intercept)        1500.9213    56.6560  26.492  < 2e-16 ***\n",
       "frl_percent          -5.7479     0.4029 -14.265  < 2e-16 ***\n",
       "asian_per             2.9303     0.4093   7.159 4.51e-12 ***\n",
       "All.N.Odds.Log      -51.5706     8.4572  -6.098 2.74e-09 ***\n",
       "black_per            -0.5883     0.2356  -2.497   0.0130 *  \n",
       "Average.Class.Size    5.6023     1.7026   3.290   0.0011 ** \n",
       "All.N.Odds            4.7949     1.1853   4.045 6.38e-05 ***\n",
       "---\n",
       "Signif. codes:  0 ‘***’ 0.001 ‘**’ 0.01 ‘*’ 0.05 ‘.’ 0.1 ‘ ’ 1\n",
       "\n",
       "Residual standard error: 100.3 on 365 degrees of freedom\n",
       "Multiple R-squared:  0.6909,\tAdjusted R-squared:  0.6858 \n",
       "F-statistic:   136 on 6 and 365 DF,  p-value: < 2.2e-16\n"
      ]
     },
     "metadata": {},
     "output_type": "display_data"
    }
   ],
   "source": [
    "fit <- lm(SAT.Total ~ frl_percent + asian_per + All.N.Odds.Log + black_per + Average.Class.Size + All.N.Odds, data=df)\n",
    "summary(fit)"
   ]
  },
  {
   "cell_type": "code",
   "execution_count": 126,
   "metadata": {},
   "outputs": [
    {
     "data": {
      "text/html": [
       "<dl class=dl-horizontal>\n",
       "\t<dt>Num.of.SAT.Test.Takers</dt>\n",
       "\t\t<dd>0.125097088479174</dd>\n",
       "\t<dt>SAT.Critical.Reading.Avg..Score</dt>\n",
       "\t\t<dd>0.583351986264439</dd>\n",
       "\t<dt>SAT.Math.Avg..Score</dt>\n",
       "\t\t<dd>0.474694492574729</dd>\n",
       "\t<dt>SAT.Writing.Avg..Score</dt>\n",
       "\t\t<dd>0.571638342457021</dd>\n",
       "\t<dt>SAT.Total</dt>\n",
       "\t\t<dd>0.555951555240845</dd>\n",
       "\t<dt>frl_percent</dt>\n",
       "\t\t<dd>1.42467404060272e-17</dd>\n",
       "\t<dt>total_enrollment</dt>\n",
       "\t\t<dd>0.0476928602900121</dd>\n",
       "\t<dt>grade12</dt>\n",
       "\t\t<dd>0.052463307911314</dd>\n",
       "\t<dt>asian_per</dt>\n",
       "\t\t<dd>1.60974097078873e-17</dd>\n",
       "\t<dt>black_per</dt>\n",
       "\t\t<dd>-1.8748690117192e-17</dd>\n",
       "\t<dt>hispanic_per</dt>\n",
       "\t\t<dd>-0.0404510307200774</dd>\n",
       "\t<dt>white_per</dt>\n",
       "\t\t<dd>0.0672092074967716</dd>\n",
       "\t<dt>male_per</dt>\n",
       "\t\t<dd>-0.0786382536613085</dd>\n",
       "\t<dt>Percent.SAT.Taken</dt>\n",
       "\t\t<dd>0.00821801867626857</dd>\n",
       "\t<dt>Average.Class.Size</dt>\n",
       "\t\t<dd>-4.34881827770864e-17</dd>\n",
       "\t<dt>Major.N</dt>\n",
       "\t\t<dd>-0.00859247294070379</dd>\n",
       "\t<dt>NoCrim.N</dt>\n",
       "\t\t<dd>-0.0555397654816971</dd>\n",
       "\t<dt>Prop.N</dt>\n",
       "\t\t<dd>-0.0163102102004602</dd>\n",
       "\t<dt>Vio.N</dt>\n",
       "\t\t<dd>-0.0316455990732016</dd>\n",
       "\t<dt>All.N</dt>\n",
       "\t\t<dd>-0.0501955219340511</dd>\n",
       "\t<dt>Major.N.Odds</dt>\n",
       "\t\t<dd>0.00483943817931879</dd>\n",
       "\t<dt>NoCrim.N.Odds</dt>\n",
       "\t\t<dd>-0.0373367717754401</dd>\n",
       "\t<dt>Prop.N.Odds</dt>\n",
       "\t\t<dd>0.0269505683145428</dd>\n",
       "\t<dt>Vio.N.Odds</dt>\n",
       "\t\t<dd>0.01254158929771</dd>\n",
       "\t<dt>All.N.Odds</dt>\n",
       "\t\t<dd>-1.55779975415642e-17</dd>\n",
       "\t<dt>All.N.Odds.Log</dt>\n",
       "\t\t<dd>-1.33357534689341e-17</dd>\n",
       "\t<dt>logFRL</dt>\n",
       "\t\t<dd>-0.0558126263567065</dd>\n",
       "\t<dt>res</dt>\n",
       "\t\t<dd>1</dd>\n",
       "\t<dt>sqrtAP</dt>\n",
       "\t\t<dd>0.00247094947065978</dd>\n",
       "\t<dt>sqrtWP</dt>\n",
       "\t\t<dd>0.08197076238011</dd>\n",
       "\t<dt>sqrtBP</dt>\n",
       "\t\t<dd>0.0383105124644636</dd>\n",
       "</dl>\n"
      ],
      "text/latex": [
       "\\begin{description*}\n",
       "\\item[Num.of.SAT.Test.Takers] 0.125097088479174\n",
       "\\item[SAT.Critical.Reading.Avg..Score] 0.583351986264439\n",
       "\\item[SAT.Math.Avg..Score] 0.474694492574729\n",
       "\\item[SAT.Writing.Avg..Score] 0.571638342457021\n",
       "\\item[SAT.Total] 0.555951555240845\n",
       "\\item[frl\\textbackslash{}\\_percent] 1.42467404060272e-17\n",
       "\\item[total\\textbackslash{}\\_enrollment] 0.0476928602900121\n",
       "\\item[grade12] 0.052463307911314\n",
       "\\item[asian\\textbackslash{}\\_per] 1.60974097078873e-17\n",
       "\\item[black\\textbackslash{}\\_per] -1.8748690117192e-17\n",
       "\\item[hispanic\\textbackslash{}\\_per] -0.0404510307200774\n",
       "\\item[white\\textbackslash{}\\_per] 0.0672092074967716\n",
       "\\item[male\\textbackslash{}\\_per] -0.0786382536613085\n",
       "\\item[Percent.SAT.Taken] 0.00821801867626857\n",
       "\\item[Average.Class.Size] -4.34881827770864e-17\n",
       "\\item[Major.N] -0.00859247294070379\n",
       "\\item[NoCrim.N] -0.0555397654816971\n",
       "\\item[Prop.N] -0.0163102102004602\n",
       "\\item[Vio.N] -0.0316455990732016\n",
       "\\item[All.N] -0.0501955219340511\n",
       "\\item[Major.N.Odds] 0.00483943817931879\n",
       "\\item[NoCrim.N.Odds] -0.0373367717754401\n",
       "\\item[Prop.N.Odds] 0.0269505683145428\n",
       "\\item[Vio.N.Odds] 0.01254158929771\n",
       "\\item[All.N.Odds] -1.55779975415642e-17\n",
       "\\item[All.N.Odds.Log] -1.33357534689341e-17\n",
       "\\item[logFRL] -0.0558126263567065\n",
       "\\item[res] 1\n",
       "\\item[sqrtAP] 0.00247094947065978\n",
       "\\item[sqrtWP] 0.08197076238011\n",
       "\\item[sqrtBP] 0.0383105124644636\n",
       "\\end{description*}\n"
      ],
      "text/markdown": [
       "Num.of.SAT.Test.Takers\n",
       ":   0.125097088479174SAT.Critical.Reading.Avg..Score\n",
       ":   0.583351986264439SAT.Math.Avg..Score\n",
       ":   0.474694492574729SAT.Writing.Avg..Score\n",
       ":   0.571638342457021SAT.Total\n",
       ":   0.555951555240845frl_percent\n",
       ":   1.42467404060272e-17total_enrollment\n",
       ":   0.0476928602900121grade12\n",
       ":   0.052463307911314asian_per\n",
       ":   1.60974097078873e-17black_per\n",
       ":   -1.8748690117192e-17hispanic_per\n",
       ":   -0.0404510307200774white_per\n",
       ":   0.0672092074967716male_per\n",
       ":   -0.0786382536613085Percent.SAT.Taken\n",
       ":   0.00821801867626857Average.Class.Size\n",
       ":   -4.34881827770864e-17Major.N\n",
       ":   -0.00859247294070379NoCrim.N\n",
       ":   -0.0555397654816971Prop.N\n",
       ":   -0.0163102102004602Vio.N\n",
       ":   -0.0316455990732016All.N\n",
       ":   -0.0501955219340511Major.N.Odds\n",
       ":   0.00483943817931879NoCrim.N.Odds\n",
       ":   -0.0373367717754401Prop.N.Odds\n",
       ":   0.0269505683145428Vio.N.Odds\n",
       ":   0.01254158929771All.N.Odds\n",
       ":   -1.55779975415642e-17All.N.Odds.Log\n",
       ":   -1.33357534689341e-17logFRL\n",
       ":   -0.0558126263567065res\n",
       ":   1sqrtAP\n",
       ":   0.00247094947065978sqrtWP\n",
       ":   0.08197076238011sqrtBP\n",
       ":   0.0383105124644636\n",
       "\n"
      ],
      "text/plain": [
       "         Num.of.SAT.Test.Takers SAT.Critical.Reading.Avg..Score \n",
       "                   1.250971e-01                    5.833520e-01 \n",
       "            SAT.Math.Avg..Score          SAT.Writing.Avg..Score \n",
       "                   4.746945e-01                    5.716383e-01 \n",
       "                      SAT.Total                     frl_percent \n",
       "                   5.559516e-01                    1.424674e-17 \n",
       "               total_enrollment                         grade12 \n",
       "                   4.769286e-02                    5.246331e-02 \n",
       "                      asian_per                       black_per \n",
       "                   1.609741e-17                   -1.874869e-17 \n",
       "                   hispanic_per                       white_per \n",
       "                  -4.045103e-02                    6.720921e-02 \n",
       "                       male_per               Percent.SAT.Taken \n",
       "                  -7.863825e-02                    8.218019e-03 \n",
       "             Average.Class.Size                         Major.N \n",
       "                  -4.348818e-17                   -8.592473e-03 \n",
       "                       NoCrim.N                          Prop.N \n",
       "                  -5.553977e-02                   -1.631021e-02 \n",
       "                          Vio.N                           All.N \n",
       "                  -3.164560e-02                   -5.019552e-02 \n",
       "                   Major.N.Odds                   NoCrim.N.Odds \n",
       "                   4.839438e-03                   -3.733677e-02 \n",
       "                    Prop.N.Odds                      Vio.N.Odds \n",
       "                   2.695057e-02                    1.254159e-02 \n",
       "                     All.N.Odds                  All.N.Odds.Log \n",
       "                  -1.557800e-17                   -1.333575e-17 \n",
       "                         logFRL                             res \n",
       "                  -5.581263e-02                    1.000000e+00 \n",
       "                         sqrtAP                          sqrtWP \n",
       "                   2.470949e-03                    8.197076e-02 \n",
       "                         sqrtBP \n",
       "                   3.831051e-02 "
      ]
     },
     "metadata": {},
     "output_type": "display_data"
    }
   ],
   "source": [
    "df$res <- resid(fit)\n",
    "cor(df[3:length(df)])[28,]"
   ]
  },
  {
   "cell_type": "code",
   "execution_count": 127,
   "metadata": {},
   "outputs": [
    {
     "data": {
      "text/plain": [
       "\n",
       "Call:\n",
       "lm(formula = SAT.Total ~ log(frl_percent) + asian_per + All.N.Odds.Log + \n",
       "    Average.Class.Size + black_per + All.N.Odds, data = df)\n",
       "\n",
       "Residuals:\n",
       "    Min      1Q  Median      3Q     Max \n",
       "-271.43  -53.23   -3.33   52.19  404.66 \n",
       "\n",
       "Coefficients:\n",
       "                    Estimate Std. Error t value Pr(>|t|)    \n",
       "(Intercept)        2391.6162   100.3987  23.821  < 2e-16 ***\n",
       "log(frl_percent)   -310.2909    19.7836 -15.684  < 2e-16 ***\n",
       "asian_per             3.0967     0.3905   7.929 2.71e-14 ***\n",
       "All.N.Odds.Log      -41.9917     8.3099  -5.053 6.88e-07 ***\n",
       "Average.Class.Size    5.5230     1.6349   3.378 0.000808 ***\n",
       "black_per            -0.2938     0.2229  -1.318 0.188245    \n",
       "All.N.Odds            3.5892     1.1487   3.124 0.001924 ** \n",
       "---\n",
       "Signif. codes:  0 ‘***’ 0.001 ‘**’ 0.01 ‘*’ 0.05 ‘.’ 0.1 ‘ ’ 1\n",
       "\n",
       "Residual standard error: 96.78 on 365 degrees of freedom\n",
       "Multiple R-squared:  0.7124,\tAdjusted R-squared:  0.7077 \n",
       "F-statistic: 150.7 on 6 and 365 DF,  p-value: < 2.2e-16\n"
      ]
     },
     "metadata": {},
     "output_type": "display_data"
    }
   ],
   "source": [
    "fit <- lm(SAT.Total ~ log(frl_percent) + asian_per + All.N.Odds.Log + Average.Class.Size + black_per + All.N.Odds, data=df)\n",
    "summary(fit)"
   ]
  },
  {
   "cell_type": "markdown",
   "metadata": {},
   "source": [
    "All of the statistically significant variables have been fit. It suggests that crime, race, and class size all play roles in SAT scores that can't be explained by income alone. We can also use an F-test to compare a constrained model with an unconstrained model. "
   ]
  },
  {
   "cell_type": "code",
   "execution_count": 128,
   "metadata": {},
   "outputs": [],
   "source": [
    "library(MASS)"
   ]
  },
  {
   "cell_type": "markdown",
   "metadata": {},
   "source": [
    "Here are a couple examples:"
   ]
  },
  {
   "cell_type": "code",
   "execution_count": 129,
   "metadata": {},
   "outputs": [
    {
     "data": {
      "text/html": [
       "<table>\n",
       "<thead><tr><th scope=col>Res.Df</th><th scope=col>RSS</th><th scope=col>Df</th><th scope=col>Sum of Sq</th><th scope=col>F</th><th scope=col>Pr(&gt;F)</th></tr></thead>\n",
       "<tbody>\n",
       "\t<tr><td>370         </td><td>4898578.5   </td><td> NA         </td><td>     NA     </td><td>      NA    </td><td>          NA</td></tr>\n",
       "\t<tr><td>112         </td><td> 969680.9   </td><td>258         </td><td>3928898     </td><td>1.758896    </td><td>0.0003904836</td></tr>\n",
       "</tbody>\n",
       "</table>\n"
      ],
      "text/latex": [
       "\\begin{tabular}{r|llllll}\n",
       " Res.Df & RSS & Df & Sum of Sq & F & Pr(>F)\\\\\n",
       "\\hline\n",
       "\t 370          & 4898578.5    &  NA          &      NA      &       NA     &           NA\\\\\n",
       "\t 112          &  969680.9    & 258          & 3928898      & 1.758896     & 0.0003904836\\\\\n",
       "\\end{tabular}\n"
      ],
      "text/markdown": [
       "\n",
       "Res.Df | RSS | Df | Sum of Sq | F | Pr(>F) | \n",
       "|---|---|\n",
       "| 370          | 4898578.5    |  NA          |      NA      |       NA     |           NA | \n",
       "| 112          |  969680.9    | 258          | 3928898      | 1.758896     | 0.0003904836 | \n",
       "\n",
       "\n"
      ],
      "text/plain": [
       "  Res.Df RSS       Df  Sum of Sq F        Pr(>F)      \n",
       "1 370    4898578.5  NA      NA         NA           NA\n",
       "2 112     969680.9 258 3928898   1.758896 0.0003904836"
      ]
     },
     "metadata": {},
     "output_type": "display_data"
    },
    {
     "data": {
      "text/html": [
       "<table>\n",
       "<thead><tr><th scope=col>Res.Df</th><th scope=col>RSS</th><th scope=col>Df</th><th scope=col>Sum of Sq</th><th scope=col>F</th><th scope=col>Pr(&gt;F)</th></tr></thead>\n",
       "<tbody>\n",
       "\t<tr><td>370         </td><td>5537079.4   </td><td> NA         </td><td>     NA     </td><td>      NA    </td><td>          NA</td></tr>\n",
       "\t<tr><td>112         </td><td> 969680.9   </td><td>258         </td><td>4567399     </td><td>2.044741    </td><td>1.283474e-05</td></tr>\n",
       "</tbody>\n",
       "</table>\n"
      ],
      "text/latex": [
       "\\begin{tabular}{r|llllll}\n",
       " Res.Df & RSS & Df & Sum of Sq & F & Pr(>F)\\\\\n",
       "\\hline\n",
       "\t 370          & 5537079.4    &  NA          &      NA      &       NA     &           NA\\\\\n",
       "\t 112          &  969680.9    & 258          & 4567399      & 2.044741     & 1.283474e-05\\\\\n",
       "\\end{tabular}\n"
      ],
      "text/markdown": [
       "\n",
       "Res.Df | RSS | Df | Sum of Sq | F | Pr(>F) | \n",
       "|---|---|\n",
       "| 370          | 5537079.4    |  NA          |      NA      |       NA     |           NA | \n",
       "| 112          |  969680.9    | 258          | 4567399      | 2.044741     | 1.283474e-05 | \n",
       "\n",
       "\n"
      ],
      "text/plain": [
       "  Res.Df RSS       Df  Sum of Sq F        Pr(>F)      \n",
       "1 370    5537079.4  NA      NA         NA           NA\n",
       "2 112     969680.9 258 4567399   2.044741 1.283474e-05"
      ]
     },
     "metadata": {},
     "output_type": "display_data"
    }
   ],
   "source": [
    "fit1 <- lm(SAT.Total~log(frl_percent), data=df)  #constrained model\n",
    "fit2 <- lm(SAT.Total~as.factor(log(frl_percent)), data=df)  #unconstrained model\n",
    "anova(fit1, fit2)\n",
    "\n",
    "fit1 <- lm(SAT.Total~(frl_percent), data=df)  #constrained model\n",
    "fit2 <- lm(SAT.Total~as.factor((frl_percent)), data=df)  #unconstrained model\n",
    "anova(fit1, fit2)"
   ]
  },
  {
   "cell_type": "markdown",
   "metadata": {},
   "source": [
    "More examples:"
   ]
  },
  {
   "cell_type": "code",
   "execution_count": 130,
   "metadata": {},
   "outputs": [
    {
     "data": {
      "text/html": [
       "<table>\n",
       "<thead><tr><th scope=col>Res.Df</th><th scope=col>RSS</th><th scope=col>Df</th><th scope=col>Sum of Sq</th><th scope=col>F</th><th scope=col>Pr(&gt;F)</th></tr></thead>\n",
       "<tbody>\n",
       "\t<tr><td>370         </td><td>5537079     </td><td>NA          </td><td>     NA     </td><td>     NA     </td><td>          NA</td></tr>\n",
       "\t<tr><td>367         </td><td>4199208     </td><td> 3          </td><td>1337871     </td><td>38.9755     </td><td>6.911559e-22</td></tr>\n",
       "</tbody>\n",
       "</table>\n"
      ],
      "text/latex": [
       "\\begin{tabular}{r|llllll}\n",
       " Res.Df & RSS & Df & Sum of Sq & F & Pr(>F)\\\\\n",
       "\\hline\n",
       "\t 370          & 5537079      & NA           &      NA      &      NA      &           NA\\\\\n",
       "\t 367          & 4199208      &  3           & 1337871      & 38.9755      & 6.911559e-22\\\\\n",
       "\\end{tabular}\n"
      ],
      "text/markdown": [
       "\n",
       "Res.Df | RSS | Df | Sum of Sq | F | Pr(>F) | \n",
       "|---|---|\n",
       "| 370          | 5537079      | NA           |      NA      |      NA      |           NA | \n",
       "| 367          | 4199208      |  3           | 1337871      | 38.9755      | 6.911559e-22 | \n",
       "\n",
       "\n"
      ],
      "text/plain": [
       "  Res.Df RSS     Df Sum of Sq F       Pr(>F)      \n",
       "1 370    5537079 NA      NA        NA           NA\n",
       "2 367    4199208  3 1337871   38.9755 6.911559e-22"
      ]
     },
     "metadata": {},
     "output_type": "display_data"
    }
   ],
   "source": [
    "fit <- lm(SAT.Total ~ log(frl_percent) + All.N.Odds.Log + Average.Class.Size + All.N.Odds + black_per + asian_per + white_per, data=df)\n",
    "fit2 <- lm(SAT.Total ~ log(frl_percent) +  All.N.Odds.Log + Average.Class.Size + All.N.Odds, data=df)\n",
    "anova(fit1, fit2)"
   ]
  },
  {
   "cell_type": "code",
   "execution_count": 131,
   "metadata": {},
   "outputs": [
    {
     "data": {
      "text/html": [
       "<table>\n",
       "<thead><tr><th scope=col>Res.Df</th><th scope=col>RSS</th><th scope=col>Df</th><th scope=col>Sum of Sq</th><th scope=col>F</th><th scope=col>Pr(&gt;F)</th></tr></thead>\n",
       "<tbody>\n",
       "\t<tr><td>364         </td><td>432018.7    </td><td>NA          </td><td>       NA   </td><td>      NA    </td><td>          NA</td></tr>\n",
       "\t<tr><td>367         </td><td>453042.6    </td><td>-3          </td><td>-21023.92   </td><td>5.904611    </td><td>0.0006073363</td></tr>\n",
       "</tbody>\n",
       "</table>\n"
      ],
      "text/latex": [
       "\\begin{tabular}{r|llllll}\n",
       " Res.Df & RSS & Df & Sum of Sq & F & Pr(>F)\\\\\n",
       "\\hline\n",
       "\t 364          & 432018.7     & NA           &        NA    &       NA     &           NA\\\\\n",
       "\t 367          & 453042.6     & -3           & -21023.92    & 5.904611     & 0.0006073363\\\\\n",
       "\\end{tabular}\n"
      ],
      "text/markdown": [
       "\n",
       "Res.Df | RSS | Df | Sum of Sq | F | Pr(>F) | \n",
       "|---|---|\n",
       "| 364          | 432018.7     | NA           |        NA    |       NA     |           NA | \n",
       "| 367          | 453042.6     | -3           | -21023.92    | 5.904611     | 0.0006073363 | \n",
       "\n",
       "\n"
      ],
      "text/plain": [
       "  Res.Df RSS      Df Sum of Sq F        Pr(>F)      \n",
       "1 364    432018.7 NA        NA       NA           NA\n",
       "2 367    453042.6 -3 -21023.92 5.904611 0.0006073363"
      ]
     },
     "metadata": {},
     "output_type": "display_data"
    }
   ],
   "source": [
    "full <- lm(SAT.Critical.Reading.Avg..Score ~ log(frl_percent) + All.N.Odds.Log + Average.Class.Size + All.N.Odds + black_per + asian_per + white_per, data=df)\n",
    "reduced <- lm(SAT.Critical.Reading.Avg..Score ~ log(frl_percent) +  All.N.Odds.Log + Average.Class.Size + All.N.Odds, data=df)\n",
    "anova(full, reduced)"
   ]
  },
  {
   "cell_type": "code",
   "execution_count": 132,
   "metadata": {},
   "outputs": [
    {
     "data": {
      "text/html": [
       "<table>\n",
       "<thead><tr><th scope=col>Res.Df</th><th scope=col>RSS</th><th scope=col>Df</th><th scope=col>Sum of Sq</th><th scope=col>F</th><th scope=col>Pr(&gt;F)</th></tr></thead>\n",
       "<tbody>\n",
       "\t<tr><td>364        </td><td>400902.3   </td><td>NA         </td><td>       NA  </td><td>    NA     </td><td>         NA</td></tr>\n",
       "\t<tr><td>367        </td><td>716966.4   </td><td>-3         </td><td>-316064.1  </td><td>95.657     </td><td>1.14618e-45</td></tr>\n",
       "</tbody>\n",
       "</table>\n"
      ],
      "text/latex": [
       "\\begin{tabular}{r|llllll}\n",
       " Res.Df & RSS & Df & Sum of Sq & F & Pr(>F)\\\\\n",
       "\\hline\n",
       "\t 364         & 400902.3    & NA          &        NA   &     NA      &          NA\\\\\n",
       "\t 367         & 716966.4    & -3          & -316064.1   & 95.657      & 1.14618e-45\\\\\n",
       "\\end{tabular}\n"
      ],
      "text/markdown": [
       "\n",
       "Res.Df | RSS | Df | Sum of Sq | F | Pr(>F) | \n",
       "|---|---|\n",
       "| 364         | 400902.3    | NA          |        NA   |     NA      |          NA | \n",
       "| 367         | 716966.4    | -3          | -316064.1   | 95.657      | 1.14618e-45 | \n",
       "\n",
       "\n"
      ],
      "text/plain": [
       "  Res.Df RSS      Df Sum of Sq F      Pr(>F)     \n",
       "1 364    400902.3 NA        NA     NA          NA\n",
       "2 367    716966.4 -3 -316064.1 95.657 1.14618e-45"
      ]
     },
     "metadata": {},
     "output_type": "display_data"
    }
   ],
   "source": [
    "full.M <- lm(SAT.Math.Avg..Score ~ log(frl_percent) + All.N.Odds.Log + Average.Class.Size + All.N.Odds + black_per + asian_per + white_per, data=df)\n",
    "reduced.M <- lm(SAT.Math.Avg..Score ~ log(frl_percent) +  All.N.Odds.Log + Average.Class.Size + All.N.Odds, data=df)\n",
    "anova(full.M, reduced.M)"
   ]
  },
  {
   "cell_type": "code",
   "execution_count": 133,
   "metadata": {},
   "outputs": [
    {
     "data": {
      "text/html": [
       "<table>\n",
       "<thead><tr><th scope=col>Res.Df</th><th scope=col>RSS</th><th scope=col>Df</th><th scope=col>Sum of Sq</th><th scope=col>F</th><th scope=col>Pr(&gt;F)</th></tr></thead>\n",
       "<tbody>\n",
       "\t<tr><td>364         </td><td>431378.9    </td><td>NA          </td><td>       NA   </td><td>      NA    </td><td>          NA</td></tr>\n",
       "\t<tr><td>367         </td><td>464674.5    </td><td>-3          </td><td>-33295.64   </td><td>9.365016    </td><td>5.608668e-06</td></tr>\n",
       "</tbody>\n",
       "</table>\n"
      ],
      "text/latex": [
       "\\begin{tabular}{r|llllll}\n",
       " Res.Df & RSS & Df & Sum of Sq & F & Pr(>F)\\\\\n",
       "\\hline\n",
       "\t 364          & 431378.9     & NA           &        NA    &       NA     &           NA\\\\\n",
       "\t 367          & 464674.5     & -3           & -33295.64    & 9.365016     & 5.608668e-06\\\\\n",
       "\\end{tabular}\n"
      ],
      "text/markdown": [
       "\n",
       "Res.Df | RSS | Df | Sum of Sq | F | Pr(>F) | \n",
       "|---|---|\n",
       "| 364          | 431378.9     | NA           |        NA    |       NA     |           NA | \n",
       "| 367          | 464674.5     | -3           | -33295.64    | 9.365016     | 5.608668e-06 | \n",
       "\n",
       "\n"
      ],
      "text/plain": [
       "  Res.Df RSS      Df Sum of Sq F        Pr(>F)      \n",
       "1 364    431378.9 NA        NA       NA           NA\n",
       "2 367    464674.5 -3 -33295.64 9.365016 5.608668e-06"
      ]
     },
     "metadata": {},
     "output_type": "display_data"
    }
   ],
   "source": [
    "full.W <- lm(SAT.Writing.Avg..Score ~ log(frl_percent) + All.N.Odds.Log + Average.Class.Size + All.N.Odds + black_per + asian_per + white_per, data=df)\n",
    "reduced.W <- lm(SAT.Writing.Avg..Score ~ log(frl_percent) +  All.N.Odds.Log + Average.Class.Size + All.N.Odds, data=df)\n",
    "anova(full.W, reduced.W)"
   ]
  },
  {
   "cell_type": "code",
   "execution_count": 134,
   "metadata": {},
   "outputs": [
    {
     "data": {
      "text/html": [
       "<table>\n",
       "<thead><tr><th scope=col>Res.Df</th><th scope=col>RSS</th><th scope=col>Df</th><th scope=col>Sum of Sq</th><th scope=col>F</th><th scope=col>Pr(&gt;F)</th></tr></thead>\n",
       "<tbody>\n",
       "\t<tr><td>364         </td><td>3416363     </td><td>NA          </td><td>       NA   </td><td>      NA    </td><td>          NA</td></tr>\n",
       "\t<tr><td>365         </td><td>4399078     </td><td>-1          </td><td>-982714.7   </td><td>104.7044    </td><td>9.106668e-22</td></tr>\n",
       "</tbody>\n",
       "</table>\n"
      ],
      "text/latex": [
       "\\begin{tabular}{r|llllll}\n",
       " Res.Df & RSS & Df & Sum of Sq & F & Pr(>F)\\\\\n",
       "\\hline\n",
       "\t 364          & 3416363      & NA           &        NA    &       NA     &           NA\\\\\n",
       "\t 365          & 4399078      & -1           & -982714.7    & 104.7044     & 9.106668e-22\\\\\n",
       "\\end{tabular}\n"
      ],
      "text/markdown": [
       "\n",
       "Res.Df | RSS | Df | Sum of Sq | F | Pr(>F) | \n",
       "|---|---|\n",
       "| 364          | 3416363      | NA           |        NA    |       NA     |           NA | \n",
       "| 365          | 4399078      | -1           | -982714.7    | 104.7044     | 9.106668e-22 | \n",
       "\n",
       "\n"
      ],
      "text/plain": [
       "  Res.Df RSS     Df Sum of Sq F        Pr(>F)      \n",
       "1 364    3416363 NA        NA       NA           NA\n",
       "2 365    4399078 -1 -982714.7 104.7044 9.106668e-22"
      ]
     },
     "metadata": {},
     "output_type": "display_data"
    }
   ],
   "source": [
    "full <- lm(SAT.Total ~ All.N.Odds.Log + Average.Class.Size + All.N.Odds + black_per + asian_per + white_per + log(frl_percent), data=df)\n",
    "reduced <- lm(SAT.Total ~ All.N.Odds.Log + Average.Class.Size + All.N.Odds + black_per + asian_per + white_per, data=df)\n",
    "anova(full, reduced)"
   ]
  },
  {
   "cell_type": "code",
   "execution_count": 135,
   "metadata": {},
   "outputs": [
    {
     "data": {
      "text/html": [
       "<table>\n",
       "<thead><tr><th scope=col>Res.Df</th><th scope=col>RSS</th><th scope=col>Df</th><th scope=col>Sum of Sq</th><th scope=col>F</th><th scope=col>Pr(&gt;F)</th></tr></thead>\n",
       "<tbody>\n",
       "\t<tr><td>364         </td><td>432018.7    </td><td>NA          </td><td>       NA   </td><td>      NA    </td><td>          NA</td></tr>\n",
       "\t<tr><td>365         </td><td>569263.5    </td><td>-1          </td><td>-137244.7   </td><td>115.6364    </td><td>1.320641e-23</td></tr>\n",
       "</tbody>\n",
       "</table>\n"
      ],
      "text/latex": [
       "\\begin{tabular}{r|llllll}\n",
       " Res.Df & RSS & Df & Sum of Sq & F & Pr(>F)\\\\\n",
       "\\hline\n",
       "\t 364          & 432018.7     & NA           &        NA    &       NA     &           NA\\\\\n",
       "\t 365          & 569263.5     & -1           & -137244.7    & 115.6364     & 1.320641e-23\\\\\n",
       "\\end{tabular}\n"
      ],
      "text/markdown": [
       "\n",
       "Res.Df | RSS | Df | Sum of Sq | F | Pr(>F) | \n",
       "|---|---|\n",
       "| 364          | 432018.7     | NA           |        NA    |       NA     |           NA | \n",
       "| 365          | 569263.5     | -1           | -137244.7    | 115.6364     | 1.320641e-23 | \n",
       "\n",
       "\n"
      ],
      "text/plain": [
       "  Res.Df RSS      Df Sum of Sq F        Pr(>F)      \n",
       "1 364    432018.7 NA        NA       NA           NA\n",
       "2 365    569263.5 -1 -137244.7 115.6364 1.320641e-23"
      ]
     },
     "metadata": {},
     "output_type": "display_data"
    }
   ],
   "source": [
    "full <- lm(SAT.Critical.Reading.Avg..Score ~ All.N.Odds.Log + Average.Class.Size + All.N.Odds + black_per + asian_per + white_per + log(frl_percent), data=df)\n",
    "reduced <- lm(SAT.Critical.Reading.Avg..Score ~ All.N.Odds.Log + Average.Class.Size + All.N.Odds + black_per + asian_per + white_per, data=df)\n",
    "anova(full, reduced)"
   ]
  },
  {
   "cell_type": "code",
   "execution_count": 136,
   "metadata": {},
   "outputs": [
    {
     "data": {
      "text/html": [
       "<table>\n",
       "<thead><tr><th scope=col>Res.Df</th><th scope=col>RSS</th><th scope=col>Df</th><th scope=col>Sum of Sq</th><th scope=col>F</th><th scope=col>Pr(&gt;F)</th></tr></thead>\n",
       "<tbody>\n",
       "\t<tr><td>364         </td><td>400902.3    </td><td>NA          </td><td>       NA   </td><td>      NA    </td><td>          NA</td></tr>\n",
       "\t<tr><td>365         </td><td>468618.9    </td><td>-1          </td><td>-67716.56   </td><td>61.48337    </td><td>4.991261e-14</td></tr>\n",
       "</tbody>\n",
       "</table>\n"
      ],
      "text/latex": [
       "\\begin{tabular}{r|llllll}\n",
       " Res.Df & RSS & Df & Sum of Sq & F & Pr(>F)\\\\\n",
       "\\hline\n",
       "\t 364          & 400902.3     & NA           &        NA    &       NA     &           NA\\\\\n",
       "\t 365          & 468618.9     & -1           & -67716.56    & 61.48337     & 4.991261e-14\\\\\n",
       "\\end{tabular}\n"
      ],
      "text/markdown": [
       "\n",
       "Res.Df | RSS | Df | Sum of Sq | F | Pr(>F) | \n",
       "|---|---|\n",
       "| 364          | 400902.3     | NA           |        NA    |       NA     |           NA | \n",
       "| 365          | 468618.9     | -1           | -67716.56    | 61.48337     | 4.991261e-14 | \n",
       "\n",
       "\n"
      ],
      "text/plain": [
       "  Res.Df RSS      Df Sum of Sq F        Pr(>F)      \n",
       "1 364    400902.3 NA        NA       NA           NA\n",
       "2 365    468618.9 -1 -67716.56 61.48337 4.991261e-14"
      ]
     },
     "metadata": {},
     "output_type": "display_data"
    }
   ],
   "source": [
    "full.M <- lm(SAT.Math.Avg..Score ~ All.N.Odds.Log + Average.Class.Size + All.N.Odds + black_per + asian_per + white_per + log(frl_percent), data=df)\n",
    "reduced.M <- lm(SAT.Math.Avg..Score ~ All.N.Odds.Log + Average.Class.Size + All.N.Odds + black_per + asian_per + white_per, data=df)\n",
    "anova(full.M, reduced.M)"
   ]
  },
  {
   "cell_type": "code",
   "execution_count": 137,
   "metadata": {},
   "outputs": [
    {
     "data": {
      "text/html": [
       "<table>\n",
       "<thead><tr><th scope=col>Res.Df</th><th scope=col>RSS</th><th scope=col>Df</th><th scope=col>Sum of Sq</th><th scope=col>F</th><th scope=col>Pr(&gt;F)</th></tr></thead>\n",
       "<tbody>\n",
       "\t<tr><td>364         </td><td>431378.9    </td><td>NA          </td><td>     NA     </td><td>      NA    </td><td>          NA</td></tr>\n",
       "\t<tr><td>365         </td><td>561432.9    </td><td>-1          </td><td>-130054     </td><td>109.7403    </td><td>1.279188e-22</td></tr>\n",
       "</tbody>\n",
       "</table>\n"
      ],
      "text/latex": [
       "\\begin{tabular}{r|llllll}\n",
       " Res.Df & RSS & Df & Sum of Sq & F & Pr(>F)\\\\\n",
       "\\hline\n",
       "\t 364          & 431378.9     & NA           &      NA      &       NA     &           NA\\\\\n",
       "\t 365          & 561432.9     & -1           & -130054      & 109.7403     & 1.279188e-22\\\\\n",
       "\\end{tabular}\n"
      ],
      "text/markdown": [
       "\n",
       "Res.Df | RSS | Df | Sum of Sq | F | Pr(>F) | \n",
       "|---|---|\n",
       "| 364          | 431378.9     | NA           |      NA      |       NA     |           NA | \n",
       "| 365          | 561432.9     | -1           | -130054      | 109.7403     | 1.279188e-22 | \n",
       "\n",
       "\n"
      ],
      "text/plain": [
       "  Res.Df RSS      Df Sum of Sq F        Pr(>F)      \n",
       "1 364    431378.9 NA      NA         NA           NA\n",
       "2 365    561432.9 -1 -130054   109.7403 1.279188e-22"
      ]
     },
     "metadata": {},
     "output_type": "display_data"
    }
   ],
   "source": [
    "full <- lm(SAT.Writing.Avg..Score ~ All.N.Odds.Log + Average.Class.Size + All.N.Odds + black_per + asian_per + white_per + log(frl_percent), data=df)\n",
    "reduced <- lm(SAT.Writing.Avg..Score ~ All.N.Odds.Log + Average.Class.Size + All.N.Odds + black_per + asian_per + white_per, data=df)\n",
    "anova(full, reduced)"
   ]
  }
 ],
 "metadata": {
  "kernelspec": {
   "display_name": "R",
   "language": "R",
   "name": "ir"
  },
  "language_info": {
   "codemirror_mode": "r",
   "file_extension": ".r",
   "mimetype": "text/x-r-source",
   "name": "R",
   "pygments_lexer": "r",
   "version": "3.4.4"
  }
 },
 "nbformat": 4,
 "nbformat_minor": 2
}
